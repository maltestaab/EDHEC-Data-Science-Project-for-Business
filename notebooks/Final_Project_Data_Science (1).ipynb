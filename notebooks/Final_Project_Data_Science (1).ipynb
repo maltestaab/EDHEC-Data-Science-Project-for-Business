{
  "cells": [
    {
      "cell_type": "markdown",
      "metadata": {
        "id": "PHovis8rvmBb"
      },
      "source": [
        "## Imports"
      ]
    },
    {
      "cell_type": "code",
      "execution_count": 4,
      "metadata": {},
      "outputs": [
        {
          "name": "stdout",
          "output_type": "stream",
          "text": [
            "Requirement already satisfied: matplotlib in /Users/maltestaab/.pyenv/versions/3.8.12/lib/python3.8/site-packages (3.7.5)\n",
            "Requirement already satisfied: contourpy>=1.0.1 in /Users/maltestaab/.pyenv/versions/3.8.12/lib/python3.8/site-packages (from matplotlib) (1.1.1)\n",
            "Requirement already satisfied: cycler>=0.10 in /Users/maltestaab/.pyenv/versions/3.8.12/lib/python3.8/site-packages (from matplotlib) (0.12.1)\n",
            "Requirement already satisfied: fonttools>=4.22.0 in /Users/maltestaab/.pyenv/versions/3.8.12/lib/python3.8/site-packages (from matplotlib) (4.56.0)\n",
            "Requirement already satisfied: kiwisolver>=1.0.1 in /Users/maltestaab/.pyenv/versions/3.8.12/lib/python3.8/site-packages (from matplotlib) (1.4.7)\n",
            "Requirement already satisfied: numpy<2,>=1.20 in /Users/maltestaab/.pyenv/versions/3.8.12/lib/python3.8/site-packages (from matplotlib) (1.24.4)\n",
            "Requirement already satisfied: packaging>=20.0 in /Users/maltestaab/.pyenv/versions/3.8.12/lib/python3.8/site-packages (from matplotlib) (24.2)\n",
            "Requirement already satisfied: pillow>=6.2.0 in /Users/maltestaab/.pyenv/versions/3.8.12/lib/python3.8/site-packages (from matplotlib) (10.4.0)\n",
            "Requirement already satisfied: pyparsing>=2.3.1 in /Users/maltestaab/.pyenv/versions/3.8.12/lib/python3.8/site-packages (from matplotlib) (3.1.4)\n",
            "Requirement already satisfied: python-dateutil>=2.7 in /Users/maltestaab/.pyenv/versions/3.8.12/lib/python3.8/site-packages (from matplotlib) (2.9.0.post0)\n",
            "Requirement already satisfied: importlib-resources>=3.2.0 in /Users/maltestaab/.pyenv/versions/3.8.12/lib/python3.8/site-packages (from matplotlib) (6.4.5)\n",
            "Requirement already satisfied: zipp>=3.1.0 in /Users/maltestaab/.pyenv/versions/3.8.12/lib/python3.8/site-packages (from importlib-resources>=3.2.0->matplotlib) (3.20.2)\n",
            "Requirement already satisfied: six>=1.5 in /Users/maltestaab/.pyenv/versions/3.8.12/lib/python3.8/site-packages (from python-dateutil>=2.7->matplotlib) (1.17.0)\n"
          ]
        }
      ],
      "source": [
        "!pip install matplotlib"
      ]
    },
    {
      "cell_type": "code",
      "execution_count": 5,
      "metadata": {
        "id": "GJ2JKVZOdA76"
      },
      "outputs": [
        {
          "ename": "ModuleNotFoundError",
          "evalue": "No module named 'seaborn'",
          "output_type": "error",
          "traceback": [
            "\u001b[0;31m---------------------------------------------------------------------------\u001b[0m",
            "\u001b[0;31mModuleNotFoundError\u001b[0m                       Traceback (most recent call last)",
            "Cell \u001b[0;32mIn[5], line 4\u001b[0m\n\u001b[1;32m      2\u001b[0m \u001b[38;5;28;01mimport\u001b[39;00m\u001b[38;5;250m \u001b[39m\u001b[38;5;21;01mpandas\u001b[39;00m\u001b[38;5;250m \u001b[39m\u001b[38;5;28;01mas\u001b[39;00m\u001b[38;5;250m \u001b[39m\u001b[38;5;21;01mpd\u001b[39;00m\n\u001b[1;32m      3\u001b[0m \u001b[38;5;28;01mimport\u001b[39;00m\u001b[38;5;250m \u001b[39m\u001b[38;5;21;01mmatplotlib\u001b[39;00m\u001b[38;5;21;01m.\u001b[39;00m\u001b[38;5;21;01mpyplot\u001b[39;00m\u001b[38;5;250m \u001b[39m\u001b[38;5;28;01mas\u001b[39;00m\u001b[38;5;250m \u001b[39m\u001b[38;5;21;01mplt\u001b[39;00m\n\u001b[0;32m----> 4\u001b[0m \u001b[38;5;28;01mimport\u001b[39;00m\u001b[38;5;250m \u001b[39m\u001b[38;5;21;01mseaborn\u001b[39;00m\u001b[38;5;250m \u001b[39m\u001b[38;5;28;01mas\u001b[39;00m\u001b[38;5;250m \u001b[39m\u001b[38;5;21;01msns\u001b[39;00m\n\u001b[1;32m      5\u001b[0m \u001b[38;5;28;01mfrom\u001b[39;00m\u001b[38;5;250m \u001b[39m\u001b[38;5;21;01msklearn\u001b[39;00m\u001b[38;5;21;01m.\u001b[39;00m\u001b[38;5;21;01mpreprocessing\u001b[39;00m\u001b[38;5;250m \u001b[39m\u001b[38;5;28;01mimport\u001b[39;00m StandardScaler\n\u001b[1;32m      6\u001b[0m \u001b[38;5;28;01mfrom\u001b[39;00m\u001b[38;5;250m \u001b[39m\u001b[38;5;21;01msklearn\u001b[39;00m\u001b[38;5;21;01m.\u001b[39;00m\u001b[38;5;21;01mmodel_selection\u001b[39;00m\u001b[38;5;250m \u001b[39m\u001b[38;5;28;01mimport\u001b[39;00m train_test_split\n",
            "\u001b[0;31mModuleNotFoundError\u001b[0m: No module named 'seaborn'"
          ]
        }
      ],
      "source": [
        "import numpy as np\n",
        "import pandas as pd\n",
        "import matplotlib.pyplot as plt\n",
        "import seaborn as sns\n",
        "from sklearn.preprocessing import StandardScaler\n",
        "from sklearn.model_selection import train_test_split\n",
        "from sklearn.metrics import accuracy_score\n",
        "from sklearn.model_selection import train_test_split, GridSearchCV\n",
        "from sklearn.linear_model import LinearRegression\n",
        "from sklearn.metrics import mean_absolute_error, mean_squared_error, r2_score\n",
        "from sklearn.tree import DecisionTreeRegressor\n",
        "from sklearn.ensemble import RandomForestClassifier\n",
        "from sklearn.ensemble import RandomForestRegressor\n",
        "from sklearn.ensemble import GradientBoostingRegressor\n",
        "from xgboost import XGBRegressor\n",
        "import xgboost as xgb\n",
        "from sklearn.feature_selection import SelectKBest, chi2\n",
        "import os\n",
        "from sklearn.metrics import mean_absolute_percentage_error\n"
      ]
    },
    {
      "cell_type": "markdown",
      "metadata": {
        "id": "EgbUrvE7OtSM"
      },
      "source": [
        "# Dataset"
      ]
    },
    {
      "cell_type": "markdown",
      "metadata": {
        "id": "EZuIZoAgvo6g"
      },
      "source": [
        "## Loading the dataset"
      ]
    },
    {
      "cell_type": "code",
      "execution_count": null,
      "metadata": {
        "colab": {
          "base_uri": "https://localhost:8080/"
        },
        "id": "y-LO5B9vvqcB",
        "outputId": "f153e38a-9426-40f7-8a2e-182c48d11057"
      },
      "outputs": [
        {
          "ename": "ModuleNotFoundError",
          "evalue": "No module named 'kagglehub'",
          "output_type": "error",
          "traceback": [
            "\u001b[0;31m---------------------------------------------------------------------------\u001b[0m",
            "\u001b[0;31mModuleNotFoundError\u001b[0m                       Traceback (most recent call last)",
            "Cell \u001b[0;32mIn[1], line 1\u001b[0m\n\u001b[0;32m----> 1\u001b[0m \u001b[38;5;28;01mimport\u001b[39;00m\u001b[38;5;250m \u001b[39m\u001b[38;5;21;01mkagglehub\u001b[39;00m\n\u001b[1;32m      3\u001b[0m \u001b[38;5;66;03m# Download dataset\u001b[39;00m\n\u001b[1;32m      4\u001b[0m path \u001b[38;5;241m=\u001b[39m kagglehub\u001b[38;5;241m.\u001b[39mdataset_download(\u001b[38;5;124m\"\u001b[39m\u001b[38;5;124msidharth178/car-prices-dataset\u001b[39m\u001b[38;5;124m\"\u001b[39m)\n",
            "\u001b[0;31mModuleNotFoundError\u001b[0m: No module named 'kagglehub'"
          ]
        }
      ],
      "source": [
        "import kagglehub\n",
        "\n",
        "# Download dataset\n",
        "path = kagglehub.dataset_download(\"sidharth178/car-prices-dataset\")\n",
        "\n",
        "# List available files\n",
        "files = os.listdir(path)\n",
        "print(\"Available files:\", files)\n",
        "\n",
        "# Load both datasets into DataFrames\n",
        "df = pd.read_csv(os.path.join(path, \"train.csv\"))\n",
        "df_test = pd.read_csv(os.path.join(path, \"test.csv\"))\n",
        "\n",
        "# Display first few rows\n",
        "print(\"Train Dataset:\")\n",
        "print(df.head())\n",
        "\n",
        "print(\"\\nTest Dataset:\")\n",
        "print(df_test.head())"
      ]
    },
    {
      "cell_type": "code",
      "execution_count": null,
      "metadata": {
        "colab": {
          "base_uri": "https://localhost:8080/"
        },
        "id": "UbRANdjLURlt",
        "outputId": "5633efec-b51c-472b-e351-ca063870a165"
      },
      "outputs": [
        {
          "name": "stderr",
          "output_type": "stream",
          "text": [
            "<ipython-input-104-b947e0774063>:9: FutureWarning: DataFrame.applymap has been deprecated. Use DataFrame.map instead.\n",
            "  df = df.applymap(lowercase_text)\n"
          ]
        }
      ],
      "source": [
        "# To make all letters into lowercase for JSON file formatting later on\n",
        "# Function to convert only strings to lowercase\n",
        "def lowercase_text(cell):\n",
        "    if isinstance(cell, str):  # Check if cell is a string\n",
        "        return cell.lower()  # Convert only text to lowercase\n",
        "    return cell  # Leave numbers unchanged\n",
        "\n",
        "# Apply the function to the entire DataFrame\n",
        "df = df.applymap(lowercase_text)"
      ]
    },
    {
      "cell_type": "code",
      "execution_count": null,
      "metadata": {
        "colab": {
          "base_uri": "https://localhost:8080/"
        },
        "id": "VOHHoLeGW1C4",
        "outputId": "df955877-5c98-470a-9359-67954c165303"
      },
      "outputs": [
        {
          "name": "stdout",
          "output_type": "stream",
          "text": [
            "Index(['ID', 'Price', 'Levy', 'manufacturer', 'model', 'prod_year', 'category',\n",
            "       'leather_interior', 'fuel_type', 'engine_volume', 'mileage',\n",
            "       'cylinders', 'gear_box_type', 'drive_wheels', 'doors', 'wheel', 'color',\n",
            "       'airbags'],\n",
            "      dtype='object')\n"
          ]
        }
      ],
      "source": [
        "# Define the mapping of old column names to new column names\n",
        "column_mapping = {\n",
        "    'Manufacturer': 'manufacturer',\n",
        "    'Model': 'model',\n",
        "    'Prod. year': 'prod_year',\n",
        "    'Category': 'category',\n",
        "    'Leather interior': 'leather_interior',\n",
        "    'Fuel type': 'fuel_type',\n",
        "    'Engine volume': 'engine_volume',\n",
        "    'Mileage': 'mileage',\n",
        "    'Cylinders': 'cylinders',\n",
        "    'Gear box type': 'gear_box_type',\n",
        "    'Drive wheels': 'drive_wheels',\n",
        "    'Doors': 'doors',\n",
        "    'Wheel': 'wheel',\n",
        "    'Color': 'color',\n",
        "    'Airbags': 'airbags'\n",
        "}\n",
        "\n",
        "# Rename columns based on the mapping\n",
        "df.rename(columns=column_mapping, inplace=True)\n",
        "\n",
        "# Print updated column names\n",
        "print(df.columns)\n"
      ]
    },
    {
      "cell_type": "markdown",
      "metadata": {
        "id": "-JJSkyxzxg7E"
      },
      "source": [
        "## Preprocessing (Checking NaN)"
      ]
    },
    {
      "cell_type": "code",
      "execution_count": null,
      "metadata": {
        "colab": {
          "base_uri": "https://localhost:8080/"
        },
        "id": "aU26n3ewxoZ7",
        "outputId": "1059c135-cea8-49c0-d9e3-7ae1ded6f10e"
      },
      "outputs": [
        {
          "name": "stdout",
          "output_type": "stream",
          "text": [
            "ID                  0\n",
            "Price               0\n",
            "Levy                0\n",
            "manufacturer        0\n",
            "model               0\n",
            "prod_year           0\n",
            "category            0\n",
            "leather_interior    0\n",
            "fuel_type           0\n",
            "engine_volume       0\n",
            "mileage             0\n",
            "cylinders           0\n",
            "gear_box_type       0\n",
            "drive_wheels        0\n",
            "doors               0\n",
            "wheel               0\n",
            "color               0\n",
            "airbags             0\n",
            "dtype: int64\n"
          ]
        }
      ],
      "source": [
        "print(df.isnull().sum())  # Shows missing values per column"
      ]
    },
    {
      "cell_type": "code",
      "execution_count": null,
      "metadata": {
        "colab": {
          "base_uri": "https://localhost:8080/"
        },
        "id": "4f-70d9yyBJK",
        "outputId": "8cc959f2-0cd1-40c9-ff28-18247e4b1ce1"
      },
      "outputs": [
        {
          "name": "stdout",
          "output_type": "stream",
          "text": [
            "False\n"
          ]
        }
      ],
      "source": [
        "print(df.isnull().values.any())  # Returns True if any NaN values exist"
      ]
    },
    {
      "cell_type": "markdown",
      "metadata": {
        "id": "wr8fMWGMzxAR"
      },
      "source": [
        "## Handling Categorical Variables"
      ]
    },
    {
      "cell_type": "markdown",
      "metadata": {
        "id": "j04KD3jf8-k_"
      },
      "source": [
        "The ID and Mileage features"
      ]
    },
    {
      "cell_type": "code",
      "execution_count": null,
      "metadata": {
        "id": "PjIt_r9N8sTY"
      },
      "outputs": [],
      "source": [
        "df = df.drop(\"ID\", axis=1)  # axis=1 means dropping a column\n",
        "\n",
        "# Remove \"km\" and convert to numeric\n",
        "df[\"mileage\"] = df[\"mileage\"].str.replace(\" km\", \"\", regex=False).astype(int)"
      ]
    },
    {
      "cell_type": "code",
      "execution_count": null,
      "metadata": {
        "colab": {
          "base_uri": "https://localhost:8080/"
        },
        "id": "BriognuK8ujU",
        "outputId": "0b031431-1184-40c9-f1e8-46781d919d0e"
      },
      "outputs": [
        {
          "name": "stdout",
          "output_type": "stream",
          "text": [
            "   Price manufacturer    model  prod_year   category leather_interior  \\\n",
            "0  13328        lexus   rx 450       2010       jeep              yes   \n",
            "1  16621    chevrolet  equinox       2011       jeep               no   \n",
            "2   8467        honda      fit       2006  hatchback               no   \n",
            "3   3607         ford   escape       2011       jeep              yes   \n",
            "4  11726        honda      fit       2014  hatchback              yes   \n",
            "\n",
            "  fuel_type engine_volume  mileage  cylinders gear_box_type drive_wheels  \\\n",
            "0    hybrid           3.5   186005        6.0     automatic          4x4   \n",
            "1    petrol             3   192000        6.0     tiptronic          4x4   \n",
            "2    petrol           1.3   200000        4.0      variator        front   \n",
            "3    hybrid           2.5   168966        4.0     automatic          4x4   \n",
            "4    petrol           1.3    91901        4.0     automatic        front   \n",
            "\n",
            "    doors             wheel   color  airbags  \n",
            "0  04-may        left wheel  silver       12  \n",
            "1  04-may        left wheel   black        8  \n",
            "2  04-may  right-hand drive   black        2  \n",
            "3  04-may        left wheel   white        0  \n",
            "4  04-may        left wheel  silver        4  \n",
            "Price                 int64\n",
            "manufacturer         object\n",
            "model                object\n",
            "prod_year             int64\n",
            "category             object\n",
            "leather_interior     object\n",
            "fuel_type            object\n",
            "engine_volume        object\n",
            "mileage               int64\n",
            "cylinders           float64\n",
            "gear_box_type        object\n",
            "drive_wheels         object\n",
            "doors                object\n",
            "wheel                object\n",
            "color                object\n",
            "airbags               int64\n",
            "dtype: object\n"
          ]
        }
      ],
      "source": [
        "df = df.drop(\"Levy\", axis=1)\n",
        "# Display updated DataFrame\n",
        "print(df.head())\n",
        "print(df.dtypes)  # Check if it's now integer"
      ]
    },
    {
      "cell_type": "markdown",
      "metadata": {
        "id": "Waqvla7w9BpB"
      },
      "source": [
        "Identifying remaining troublesome features"
      ]
    },
    {
      "cell_type": "code",
      "execution_count": null,
      "metadata": {
        "colab": {
          "base_uri": "https://localhost:8080/"
        },
        "id": "zkKGqfH98055",
        "outputId": "217fa6ed-287d-4713-af69-becabad16277"
      },
      "outputs": [
        {
          "name": "stdout",
          "output_type": "stream",
          "text": [
            "               Price manufacturer  model     prod_year category  \\\n",
            "count   1.923700e+04        19237  19237  19237.000000    19237   \n",
            "unique           NaN           65   1511           NaN       11   \n",
            "top              NaN      hyundai  prius           NaN    sedan   \n",
            "freq             NaN         3769   1083           NaN     8736   \n",
            "mean    1.855593e+04          NaN    NaN   2010.912824      NaN   \n",
            "std     1.905813e+05          NaN    NaN      5.668673      NaN   \n",
            "min     1.000000e+00          NaN    NaN   1939.000000      NaN   \n",
            "25%     5.331000e+03          NaN    NaN   2009.000000      NaN   \n",
            "50%     1.317200e+04          NaN    NaN   2012.000000      NaN   \n",
            "75%     2.207500e+04          NaN    NaN   2015.000000      NaN   \n",
            "max     2.630750e+07          NaN    NaN   2020.000000      NaN   \n",
            "\n",
            "       leather_interior fuel_type engine_volume       mileage     cylinders  \\\n",
            "count             19237     19237         19237  1.923700e+04  19237.000000   \n",
            "unique                2         7           107           NaN           NaN   \n",
            "top                 yes    petrol             2           NaN           NaN   \n",
            "freq              13954     10150          3916           NaN           NaN   \n",
            "mean                NaN       NaN           NaN  1.532236e+06      4.582991   \n",
            "std                 NaN       NaN           NaN  4.840387e+07      1.199933   \n",
            "min                 NaN       NaN           NaN  0.000000e+00      1.000000   \n",
            "25%                 NaN       NaN           NaN  7.013900e+04      4.000000   \n",
            "50%                 NaN       NaN           NaN  1.260000e+05      4.000000   \n",
            "75%                 NaN       NaN           NaN  1.888880e+05      4.000000   \n",
            "max                 NaN       NaN           NaN  2.147484e+09     16.000000   \n",
            "\n",
            "       gear_box_type drive_wheels   doors       wheel  color       airbags  \n",
            "count          19237        19237   19237       19237  19237  19237.000000  \n",
            "unique             4            3       3           2     16           NaN  \n",
            "top        automatic        front  04-may  left wheel  black           NaN  \n",
            "freq           13514        12874   18332       17753   5033           NaN  \n",
            "mean             NaN          NaN     NaN         NaN    NaN      6.582627  \n",
            "std              NaN          NaN     NaN         NaN    NaN      4.320168  \n",
            "min              NaN          NaN     NaN         NaN    NaN      0.000000  \n",
            "25%              NaN          NaN     NaN         NaN    NaN      4.000000  \n",
            "50%              NaN          NaN     NaN         NaN    NaN      6.000000  \n",
            "75%              NaN          NaN     NaN         NaN    NaN     12.000000  \n",
            "max              NaN          NaN     NaN         NaN    NaN     16.000000  \n"
          ]
        }
      ],
      "source": [
        "print(df.describe(include=\"all\"))"
      ]
    },
    {
      "cell_type": "markdown",
      "metadata": {
        "id": "QlskFm7F9F8b"
      },
      "source": [
        "Handling the Model Feature"
      ]
    },
    {
      "cell_type": "code",
      "execution_count": null,
      "metadata": {
        "id": "S_fcaOXt83rr"
      },
      "outputs": [],
      "source": [
        "df[\"model_frequency\"] = df[\"model\"].map(df[\"model\"].value_counts())"
      ]
    },
    {
      "cell_type": "code",
      "execution_count": null,
      "metadata": {
        "colab": {
          "base_uri": "https://localhost:8080/"
        },
        "id": "NRusc1VZ9N77",
        "outputId": "2fc2934c-285d-4e0f-9474-abe78af96458"
      },
      "outputs": [
        {
          "name": "stdout",
          "output_type": "stream",
          "text": [
            "      model  count  cumulative_Percentage\n",
            "0     prius   1083               0.056298\n",
            "1    sonata   1079               0.112388\n",
            "2     camry    938               0.161148\n",
            "3   elantra    922               0.209076\n",
            "4     e 350    542               0.237251\n",
            "5  santa fe    533               0.264958\n",
            "6       fit    446               0.288143\n",
            "7        h1    437               0.310859\n",
            "8    tucson    429               0.333160\n",
            "9        x5    353               0.351510\n"
          ]
        }
      ],
      "source": [
        "# Get model frequency sorted from largest to smallest\n",
        "model_counts = df[\"model\"].value_counts().reset_index()\n",
        "model_counts.columns = [\"model\", \"count\"]\n",
        "\n",
        "# Calculate cumulative percentage\n",
        "model_counts[\"cumulative_Percentage\"] = model_counts[\"count\"].cumsum() / model_counts[\"count\"].sum()\n",
        "\n",
        "print(model_counts.head(10))  # Show top 10 most frequent models"
      ]
    },
    {
      "cell_type": "code",
      "execution_count": null,
      "metadata": {
        "colab": {
          "base_uri": "https://localhost:8080/"
        },
        "id": "ajz0FiEl9Rna",
        "outputId": "8bf41303-f840-44bd-9315-f1f2c5a10e21"
      },
      "outputs": [
        {
          "name": "stdout",
          "output_type": "stream",
          "text": [
            "Top 50% Models: ['prius', 'sonata', 'camry', 'elantra', 'e 350', 'santa fe', 'fit', 'h1', 'tucson', 'x5', 'aqua', 'cruze', 'fusion', 'optima', 'gx 460', 'transit', 'highlander', 'ml 350', 'jetta', 'actyon', 'civic', 'rexton']\n"
          ]
        }
      ],
      "source": [
        "# Get models contributing to 50% of total frequency\n",
        "top_50_models = model_counts[model_counts[\"cumulative_Percentage\"] <= 0.50][\"model\"].tolist()\n",
        "\n",
        "print(\"Top 50% Models:\", top_50_models)  # Show first 10 models"
      ]
    },
    {
      "cell_type": "code",
      "execution_count": null,
      "metadata": {
        "colab": {
          "base_uri": "https://localhost:8080/"
        },
        "id": "f-iU3qeH9WMq",
        "outputId": "ef51e47b-5e0f-4041-fdb5-8b799b27ae15"
      },
      "outputs": [
        {
          "name": "stdout",
          "output_type": "stream",
          "text": [
            "Model_Grouped\n",
            "others        9698\n",
            "prius         1083\n",
            "sonata        1079\n",
            "camry          938\n",
            "elantra        922\n",
            "e 350          542\n",
            "santa fe       533\n",
            "fit            446\n",
            "h1             437\n",
            "tucson         429\n",
            "x5             353\n",
            "aqua           331\n",
            "cruze          302\n",
            "fusion         301\n",
            "optima         233\n",
            "gx 460         224\n",
            "transit        217\n",
            "highlander     216\n",
            "ml 350         202\n",
            "jetta          201\n",
            "actyon         188\n",
            "civic          187\n",
            "rexton         175\n",
            "Name: count, dtype: int64\n"
          ]
        }
      ],
      "source": [
        "# Replace less frequent models with \"Others\"\n",
        "df[\"Model_Grouped\"] = df[\"model\"].apply(lambda x: x if x in top_50_models else \"others\")\n",
        "\n",
        "print(df[\"Model_Grouped\"].value_counts())  # Check distribution"
      ]
    },
    {
      "cell_type": "code",
      "execution_count": null,
      "metadata": {
        "id": "fmtCAj6U9e0x"
      },
      "outputs": [],
      "source": [
        "df = pd.get_dummies(df, columns=[\"Model_Grouped\"], drop_first=True)\n",
        "df = df.drop(\"model\", axis=1)\n",
        "df = df.drop(\"model_frequency\", axis=1)"
      ]
    },
    {
      "cell_type": "markdown",
      "metadata": {
        "id": "h3tZkKuZ_MVr"
      },
      "source": [
        "Transforming Engine and Cylinders into a Continuous Feature"
      ]
    },
    {
      "cell_type": "code",
      "execution_count": null,
      "metadata": {
        "id": "ABjnf1pL_RvE"
      },
      "outputs": [],
      "source": [
        "# Step 1: Create the binary 'Turbo' column\n",
        "df['turbo'] = df['engine_volume'].str.contains('Turbo', case=False, regex=False).astype(int)\n",
        "\n",
        "# Step 2: Remove 'Turbo' from the original 'engine' column\n",
        "df['engine_volume'] = df['engine_volume'].str.replace(' Turbo', '', case=False, regex=False).str.strip()\n",
        "\n",
        "# Extract only the numeric part before any text\n",
        "df[\"engine_volume\"] = df[\"engine_volume\"].str.extract(r\"(\\d+\\.?\\d*)\")[0].astype(float) * 1000  # Convert to cubic cm\n",
        "\n",
        "# Convert to integer\n",
        "df[\"engine_volume\"] = df[\"engine_volume\"].astype(int)\n",
        "\n",
        "# Convert to integer\n",
        "df[\"cylinders\"] = df[\"cylinders\"].astype(int)"
      ]
    },
    {
      "cell_type": "markdown",
      "metadata": {
        "id": "kGUtZ7sD9Jew"
      },
      "source": [
        "Creating Dummy Variables for the Remaining Categorical Features"
      ]
    },
    {
      "cell_type": "code",
      "execution_count": null,
      "metadata": {
        "colab": {
          "base_uri": "https://localhost:8080/"
        },
        "id": "DCO3qU9vz0H9",
        "outputId": "a7f0a29c-010e-4d6c-c9a1-053844f63ffb"
      },
      "outputs": [
        {
          "name": "stdout",
          "output_type": "stream",
          "text": [
            "Categorical Columns: Index(['manufacturer', 'category', 'leather_interior', 'fuel_type',\n",
            "       'gear_box_type', 'drive_wheels', 'doors', 'wheel', 'color'],\n",
            "      dtype='object')\n"
          ]
        }
      ],
      "source": [
        "# Identify categorical columns\n",
        "categorical_cols = df.select_dtypes(include=[\"object\"]).columns\n",
        "print(\"Categorical Columns:\", categorical_cols)"
      ]
    },
    {
      "cell_type": "code",
      "execution_count": null,
      "metadata": {
        "id": "kJLGmZSn0gGy"
      },
      "outputs": [],
      "source": [
        "df = pd.get_dummies(df, columns=categorical_cols, drop_first=True)"
      ]
    },
    {
      "cell_type": "markdown",
      "metadata": {
        "id": "2ZGHWTu1zLAj"
      },
      "source": [
        "## Feature Selection"
      ]
    },
    {
      "cell_type": "markdown",
      "metadata": {
        "id": "F-Gow7oMHpYs"
      },
      "source": [
        "### Correlation Matrix"
      ]
    },
    {
      "cell_type": "code",
      "execution_count": null,
      "metadata": {
        "colab": {
          "base_uri": "https://localhost:8080/"
        },
        "id": "A_zDHET8zMho",
        "outputId": "7c50a5b7-38b6-4f6f-d1ca-bf8ebfe4cb08"
      },
      "outputs": [
        {
          "name": "stdout",
          "output_type": "stream",
          "text": [
            "              Feature 1             Feature 2  Correlation\n",
            "0         engine_volume             cylinders     0.778524\n",
            "1             cylinders         engine_volume     0.778524\n",
            "2  Model_Grouped_optima      manufacturer_kia     0.740249\n",
            "3      manufacturer_kia  Model_Grouped_optima     0.740249\n"
          ]
        }
      ],
      "source": [
        "# Compute the correlation matrix\n",
        "corr_matrix = df.corr()\n",
        "\n",
        "# Set correlation threshold\n",
        "threshold = 0.7  # Change to 0.8 if needed\n",
        "\n",
        "# Find highly correlated feature pairs\n",
        "high_corr_features = [(col1, col2, corr_matrix.loc[col1, col2])\n",
        "                      for col1 in corr_matrix.columns\n",
        "                      for col2 in corr_matrix.columns\n",
        "                      if col1 != col2 and abs(corr_matrix.loc[col1, col2]) > threshold]\n",
        "\n",
        "# Convert to DataFrame for better readability\n",
        "high_corr_df = pd.DataFrame(high_corr_features, columns=[\"Feature 1\", \"Feature 2\", \"Correlation\"])\n",
        "\n",
        "print(high_corr_df)"
      ]
    },
    {
      "cell_type": "markdown",
      "metadata": {
        "id": "E7jWmrSLHra1"
      },
      "source": [
        "### Random Forest Feature Selection"
      ]
    },
    {
      "cell_type": "code",
      "execution_count": null,
      "metadata": {
        "colab": {
          "base_uri": "https://localhost:8080/"
        },
        "id": "sgUv1TdEB7bO",
        "outputId": "71e864e6-821e-4f3a-c05f-d5732db24f00"
      },
      "outputs": [
        {
          "name": "stdout",
          "output_type": "stream",
          "text": [
            "99.9th Percentile Cutoff Value: 171375.6200000134\n"
          ]
        }
      ],
      "source": [
        "Y = df[\"Price\"]\n",
        "X = df.drop(\"Price\", axis=1)\n",
        "\n",
        "# Find the 99.9th percentile (top 0.1% cutoff)\n",
        "percentile_99 = np.percentile(Y, 99.9)\n",
        "\n",
        "# Remove the top 0.1% of highest values\n",
        "mask = Y <= percentile_99\n",
        "Y = Y[mask]\n",
        "X = X.loc[mask]  # Keep only corresponding X values\n",
        "\n",
        "#print(f\"Training Size: {len(Y)}\")\n",
        "print(f\"99.9th Percentile Cutoff Value: {percentile_99}\")\n",
        "\n",
        "# Train model\n",
        "model = RandomForestClassifier(n_estimators=100, random_state=42, max_depth=5)\n",
        "model.fit(X, Y) #For the feature selection, we can use the whole dataset, dont need train-test split\n",
        "\n",
        "# Get feature importance scores\n",
        "importance = model.feature_importances_\n",
        "\n",
        "# Convert to DataFrame\n",
        "feature_importance = pd.DataFrame({\"Feature\": X.columns, \"Importance\": importance})\n",
        "feature_importance = feature_importance.sort_values(by=\"Importance\", ascending=False)"
      ]
    },
    {
      "cell_type": "code",
      "execution_count": null,
      "metadata": {
        "id": "NfHHnjcRFwK2"
      },
      "outputs": [],
      "source": [
        "# Calculate cumulative importance\n",
        "feature_importance[\"Cumulative Importance\"] = feature_importance[\"Importance\"].cumsum()\n",
        "\n",
        "# Select features contributing to top 98% importance\n",
        "threshold = 0.98\n",
        "selected_features = feature_importance[feature_importance[\"Cumulative Importance\"] <= threshold][\"Feature\"]\n",
        "X_new = X[selected_features].copy()"
      ]
    },
    {
      "cell_type": "code",
      "execution_count": null,
      "metadata": {
        "colab": {
          "base_uri": "https://localhost:8080/",
          "height": 564
        },
        "id": "_Srsx61AHVOf",
        "outputId": "f9c2278d-204a-41af-dafa-e19da912080e"
      },
      "outputs": [
        {
          "data": {
            "image/png": "[encoded data removed]",
            "text/plain": [
              "<Figure size 1000x600 with 1 Axes>"
            ]
          },
          "metadata": {},
          "output_type": "display_data"
        }
      ],
      "source": [
        "plt.figure(figsize=(10, 6))\n",
        "plt.barh(feature_importance[\"Feature\"], feature_importance[\"Importance\"], color=\"skyblue\")\n",
        "plt.xlabel(\"Feature Importance\")\n",
        "plt.ylabel(\"Features\")\n",
        "plt.title(\"Feature Importance - Random Forest\")\n",
        "plt.gca().invert_yaxis()  # Reverse order to show most important features on top\n",
        "plt.show()"
      ]
    },
    {
      "cell_type": "markdown",
      "metadata": {
        "id": "FRPUKSxhIFDi"
      },
      "source": [
        "## Splitting into Training, Validation and Test set"
      ]
    },
    {
      "cell_type": "code",
      "execution_count": null,
      "metadata": {
        "colab": {
          "base_uri": "https://localhost:8080/"
        },
        "id": "A0BOgi5_Hx9t",
        "outputId": "fb44bc16-4d58-4844-89ea-524d6c7e045b"
      },
      "outputs": [
        {
          "name": "stdout",
          "output_type": "stream",
          "text": [
            "Training Set: (15373, 66)\n",
            "Validation Set: (1922, 66)\n",
            "Test Set: (1922, 66)\n"
          ]
        }
      ],
      "source": [
        "# First, split into Training (80%) and Temp (20%) (Test + Validation)\n",
        "X_train, X_temp, y_train, y_temp = train_test_split(X_new, Y, test_size=0.2, random_state=42)\n",
        "\n",
        "# Then, split Temp (20%) into Validation (10%) and Test (10%)\n",
        "X_val, X_test, y_val, y_test = train_test_split(X_temp, y_temp, test_size=0.5, random_state=42)\n",
        "\n",
        "# Print sizes\n",
        "print(f\"Training Set: {X_train.shape}\")\n",
        "print(f\"Validation Set: {X_val.shape}\")\n",
        "print(f\"Test Set: {X_test.shape}\")"
      ]
    },
    {
      "cell_type": "markdown",
      "metadata": {
        "id": "68ANRCBUdVSx"
      },
      "source": [
        "## Scaling the Data"
      ]
    },
    {
      "cell_type": "code",
      "execution_count": null,
      "metadata": {
        "id": "caltN2yXdWCj"
      },
      "outputs": [],
      "source": [
        "# Scale the features (Neural networks perform better with normalized data)\n",
        "scaler = StandardScaler()\n",
        "X_train_scaled = scaler.fit_transform(X_train)\n",
        "X_val_scaled = scaler.transform(X_val)\n",
        "X_test_scaled = scaler.transform(X_test)"
      ]
    },
    {
      "cell_type": "markdown",
      "metadata": {
        "id": "w3GSctRSRVjj"
      },
      "source": [
        "## Checking Target Variable"
      ]
    },
    {
      "cell_type": "code",
      "execution_count": null,
      "metadata": {
        "colab": {
          "base_uri": "https://localhost:8080/"
        },
        "id": "Jq18cIqnRhZG",
        "outputId": "ffad0990-1ee8-45db-9f7f-3b2129410b4f"
      },
      "outputs": [
        {
          "data": {
            "image/png": "[encoded data removed]",
            "text/plain": [
              "<Figure size 1200x500 with 2 Axes>"
            ]
          },
          "metadata": {},
          "output_type": "display_data"
        }
      ],
      "source": [
        "import seaborn as sns\n",
        "import matplotlib.pyplot as plt\n",
        "\n",
        "plt.figure(figsize=(12,5))\n",
        "\n",
        "# Boxplot for y_train\n",
        "plt.subplot(1, 2, 1)\n",
        "sns.boxplot(y=y_train)\n",
        "plt.title(\"Boxplot of y_train\")\n",
        "\n",
        "# Boxplot for y_val\n",
        "plt.subplot(1, 2, 2)\n",
        "sns.boxplot(y=y_val)\n",
        "plt.title(\"Boxplot of y_val\")\n",
        "\n",
        "plt.show()"
      ]
    },
    {
      "cell_type": "code",
      "execution_count": null,
      "metadata": {
        "colab": {
          "base_uri": "https://localhost:8080/"
        },
        "id": "NEEgTKD1Raf7",
        "outputId": "d9862737-e342-4723-d77e-37b92cc819dc"
      },
      "outputs": [
        {
          "data": {
            "image/png": "[encoded data removed]",
            "text/plain": [
              "<Figure size 800x500 with 1 Axes>"
            ]
          },
          "metadata": {},
          "output_type": "display_data"
        }
      ],
      "source": [
        "import matplotlib.pyplot as plt\n",
        "import seaborn as sns\n",
        "\n",
        "# Plot histogram for y_train\n",
        "plt.figure(figsize=(8,5))\n",
        "sns.histplot(y_train, bins=30, kde=True)\n",
        "plt.title(\"Histogram of y_train\")\n",
        "plt.xlabel(\"Value\")\n",
        "plt.ylabel(\"Frequency\")\n",
        "plt.show()"
      ]
    },
    {
      "cell_type": "markdown",
      "metadata": {
        "id": "8YE7jkrKRkK2"
      },
      "source": [
        "There are extreme outliers and the target variable is heavily skewed. Therefore we log-transform y_train and y_val"
      ]
    },
    {
      "cell_type": "code",
      "execution_count": null,
      "metadata": {
        "id": "psJbM64bR2t7"
      },
      "outputs": [],
      "source": [
        "import numpy as np\n",
        "\n",
        "y_train = np.log1p(y_train)  # log(1 + y) to avoid log(0)"
      ]
    },
    {
      "cell_type": "code",
      "execution_count": null,
      "metadata": {
        "id": "owuCUk5vA3lr"
      },
      "outputs": [],
      "source": [
        "y_val_log = np.log1p(y_val)"
      ]
    },
    {
      "cell_type": "markdown",
      "metadata": {
        "id": "_diQPuvSNETT"
      },
      "source": [
        "# Models"
      ]
    },
    {
      "cell_type": "markdown",
      "metadata": {
        "id": "cSmmTxvDI1Zh"
      },
      "source": [
        "## Baseline Model / Linear Regression"
      ]
    },
    {
      "cell_type": "code",
      "execution_count": null,
      "metadata": {
        "id": "y5MHTpvEI3zf"
      },
      "outputs": [],
      "source": [
        "# Initialize Linear Regression model\n",
        "baseline = LinearRegression()\n",
        "\n",
        "# Train on training data\n",
        "baseline.fit(X_train_scaled, y_train)\n",
        "\n",
        "# Make predictions on validation set\n",
        "y_pred_baseline = baseline.predict(X_val_scaled)"
      ]
    },
    {
      "cell_type": "code",
      "execution_count": null,
      "metadata": {
        "colab": {
          "base_uri": "https://localhost:8080/"
        },
        "id": "3Nij82s_J6-8",
        "outputId": "62504ca2-9426-4270-b6a4-f2e60281a6c5"
      },
      "outputs": [
        {
          "name": "stdout",
          "output_type": "stream",
          "text": [
            "Baseline Linear Regression Performance:\n",
            "MAE  (Mean Absolute Error): 17139.3593\n",
            "MSE  (Mean Squared Error): 595781060.8433\n",
            "RMSE (Root Mean Squared Error): 24408.6268\n",
            "R² Score: -0.9725\n"
          ]
        }
      ],
      "source": [
        "# Compute Evaluation Metrics\n",
        "mae = mean_absolute_error(y_val, y_pred_baseline)\n",
        "mse = mean_squared_error(y_val, y_pred_baseline)\n",
        "rmse = np.sqrt(mse)\n",
        "r2 = r2_score(y_val, y_pred_baseline)\n",
        "\n",
        "# Print Results\n",
        "print(f\"Baseline Linear Regression Performance:\")\n",
        "print(f\"MAE  (Mean Absolute Error): {mae:.4f}\")\n",
        "print(f\"MSE  (Mean Squared Error): {mse:.4f}\")\n",
        "print(f\"RMSE (Root Mean Squared Error): {rmse:.4f}\")\n",
        "print(f\"R² Score: {r2:.4f}\")"
      ]
    },
    {
      "cell_type": "markdown",
      "metadata": {
        "id": "D5R6dMlwOX1-"
      },
      "source": [
        "## Baseline 2: Predicting using the mean"
      ]
    },
    {
      "cell_type": "code",
      "execution_count": null,
      "metadata": {
        "id": "29TWe1aOOhVV"
      },
      "outputs": [],
      "source": [
        "# Compute mean of y_train\n",
        "baseline_mean = np.mean(y_train)\n",
        "\n",
        "# Make predictions (same mean for every data point in validation set)\n",
        "y_pred_baseline_mean = np.full_like(y_val, baseline_mean)"
      ]
    },
    {
      "cell_type": "markdown",
      "metadata": {
        "id": "_lLWNgJfKTZs"
      },
      "source": [
        "## Model 1: Decision Tree"
      ]
    },
    {
      "cell_type": "markdown",
      "metadata": {
        "id": "p6h7nkUvh5LF"
      },
      "source": []
    },
    {
      "cell_type": "code",
      "execution_count": null,
      "metadata": {
        "colab": {
          "base_uri": "https://localhost:8080/"
        },
        "id": "12eMt2esh6-I",
        "outputId": "9ffc9dd5-5e10-49b2-8c0b-13158f5db59b"
      },
      "outputs": [
        {
          "name": "stdout",
          "output_type": "stream",
          "text": [
            "Decision Tree Model Performance:\n",
            "MAE: 5367.93\n",
            "MSE: 115218693.68\n",
            "R² Score: 0.6185\n"
          ]
        }
      ],
      "source": [
        "# Initialize a simple Decision Tree Regressor\n",
        "model_1 = DecisionTreeRegressor(random_state=42)  # Default settings\n",
        "\n",
        "# Train on X_train and y_train\n",
        "model_1.fit(X_train, y_train)\n",
        "\n",
        "# Predict on validation set\n",
        "y_pred_model_1 = np.expm1(model_1.predict(X_val))\n",
        "\n",
        "# Compute evaluation metrics\n",
        "mae = mean_absolute_error(y_val, y_pred_model_1)\n",
        "mse = mean_squared_error(y_val, y_pred_model_1)\n",
        "r2 = r2_score(y_val, y_pred_model_1)\n",
        "\n",
        "# Print results\n",
        "print(f\"Decision Tree Model Performance:\")\n",
        "print(f\"MAE: {mae:.2f}\")\n",
        "print(f\"MSE: {mse:.2f}\")\n",
        "print(f\"R² Score: {r2:.4f}\")\n"
      ]
    },
    {
      "cell_type": "markdown",
      "metadata": {
        "id": "heuXGNYbKh_j"
      },
      "source": [
        "## Model 2: Random Forest"
      ]
    },
    {
      "cell_type": "code",
      "execution_count": null,
      "metadata": {
        "id": "9z2oz3AkKjUQ"
      },
      "outputs": [],
      "source": [
        "# Initialize Random Forest model\n",
        "model_2 = RandomForestRegressor(\n",
        "    n_estimators=100,\n",
        "    max_depth=5,  # Prevents deep trees\n",
        "    random_state=42,\n",
        "    criterion=\"absolute_error\"\n",
        ")\n",
        "\n",
        "# Train on training data\n",
        "model_2.fit(X_train, y_train)\n",
        "\n",
        "# Make predictions on validation set\n",
        "y_pred_model_2 = np.expm1(model_2.predict(X_val))"
      ]
    },
    {
      "cell_type": "code",
      "execution_count": null,
      "metadata": {
        "colab": {
          "base_uri": "https://localhost:8080/"
        },
        "id": "YxKMjZS5LTsh",
        "outputId": "dfd46223-da09-48b2-8a37-df304845daca"
      },
      "outputs": [
        {
          "name": "stdout",
          "output_type": "stream",
          "text": [
            "Model 3 (Random Forest) Performance:\n",
            "MAE  (Mean Absolute Error): 7222.9177\n",
            "MSE  (Mean Squared Error): 186006479.2602\n",
            "RMSE (Root Mean Squared Error): 13638.4192\n",
            "R² Score: 0.3842\n"
          ]
        }
      ],
      "source": [
        "# Compute Evaluation Metrics\n",
        "mae = mean_absolute_error(y_val, y_pred_model_2)\n",
        "mse = mean_squared_error(y_val, y_pred_model_2)\n",
        "rmse = np.sqrt(mse)\n",
        "r2 = r2_score(y_val, y_pred_model_2)\n",
        "\n",
        "# Print Results\n",
        "print(f\"Model 3 (Random Forest) Performance:\")\n",
        "print(f\"MAE  (Mean Absolute Error): {mae:.4f}\")\n",
        "print(f\"MSE  (Mean Squared Error): {mse:.4f}\")\n",
        "print(f\"RMSE (Root Mean Squared Error): {rmse:.4f}\")\n",
        "print(f\"R² Score: {r2:.4f}\")"
      ]
    },
    {
      "cell_type": "markdown",
      "metadata": {
        "id": "zcn3vsZxLuBq"
      },
      "source": [
        "## Model 3: Gradient Boost"
      ]
    },
    {
      "cell_type": "code",
      "execution_count": null,
      "metadata": {
        "id": "VKIXydGhLwWa"
      },
      "outputs": [],
      "source": [
        "# Initialize Gradient Boosting model\n",
        "model_3 = GradientBoostingRegressor(n_estimators=100, learning_rate=0.1, max_depth=3, random_state=42)\n",
        "\n",
        "# Train on training data\n",
        "model_3.fit(X_train, y_train)\n",
        "\n",
        "# Make predictions on validation set\n",
        "y_pred_model_3 = np.expm1(model_3.predict(X_val))"
      ]
    },
    {
      "cell_type": "code",
      "execution_count": null,
      "metadata": {
        "colab": {
          "base_uri": "https://localhost:8080/"
        },
        "id": "7eB53rlRMGHO",
        "outputId": "c78dff67-85ca-4145-c160-0b03e4c9cdc3"
      },
      "outputs": [
        {
          "name": "stdout",
          "output_type": "stream",
          "text": [
            "Model 3 (Gradient Boosting) Performance:\n",
            "MAE  (Mean Absolute Error): 6920.5287\n",
            "MSE  (Mean Squared Error): 166502369.5543\n",
            "RMSE (Root Mean Squared Error): 12903.5797\n",
            "R² Score: 0.4487\n"
          ]
        }
      ],
      "source": [
        "# Compute Evaluation Metrics\n",
        "mae = mean_absolute_error(y_val, y_pred_model_3)\n",
        "mse = mean_squared_error(y_val, y_pred_model_3)\n",
        "rmse = np.sqrt(mse)\n",
        "r2 = r2_score(y_val, y_pred_model_3)\n",
        "\n",
        "# Print Results\n",
        "print(f\"Model 3 (Gradient Boosting) Performance:\")\n",
        "print(f\"MAE  (Mean Absolute Error): {mae:.4f}\")\n",
        "print(f\"MSE  (Mean Squared Error): {mse:.4f}\")\n",
        "print(f\"RMSE (Root Mean Squared Error): {rmse:.4f}\")\n",
        "print(f\"R² Score: {r2:.4f}\")"
      ]
    },
    {
      "cell_type": "markdown",
      "metadata": {
        "id": "1FnoYD-zNGAT"
      },
      "source": [
        "## Model 4: XGBoost"
      ]
    },
    {
      "cell_type": "code",
      "execution_count": null,
      "metadata": {
        "colab": {
          "base_uri": "https://localhost:8080/"
        },
        "id": "bf7PBUQmNHyf",
        "outputId": "d9ce6cb0-e322-4efa-8712-016ff462487a"
      },
      "outputs": [
        {
          "name": "stdout",
          "output_type": "stream",
          "text": [
            "Fitting 3 folds for each of 1 candidates, totalling 3 fits\n"
          ]
        }
      ],
      "source": [
        "# Initialize XGBoost Regressor\n",
        "model_4 = XGBRegressor(\n",
        "    objective=\"reg:squarederror\",  # For regression tasks\n",
        "    random_state=42\n",
        ")\n",
        "\n",
        "from sklearn.model_selection import GridSearchCV\n",
        "\n",
        "# Define parameter grid\n",
        "param_grid = {\n",
        "    \"max_depth\": [9],  # Controls tree depth\n",
        "    \"learning_rate\": [0.05],  # Controls step size\n",
        "    \"n_estimators\": [500],  # Number of trees\n",
        "    \"subsample\": [0.9],  # Sample % for each tree\n",
        "    \"reg_alpha\": [0.1],  # L1 regularization\n",
        "    \"reg_lambda\": [1.0],  # L2 regularization\n",
        "}\n",
        "\n",
        "# Initialize GridSearchCV\n",
        "grid_search = GridSearchCV(\n",
        "    estimator=model_4,\n",
        "    param_grid=param_grid,\n",
        "    scoring=\"neg_mean_absolute_error\",  # Use MAE as evaluation metric\n",
        "    cv=3,  # 3-fold cross-validation\n",
        "    verbose=2,\n",
        "    n_jobs=-1  # Use all available CPUs\n",
        ")\n",
        "\n",
        "# Train with log-transformed target\n",
        "grid_search.fit(X_train, y_train)  # Log transformation for stability\n",
        "\n",
        "model_4 = grid_search.best_estimator_\n",
        "\n",
        "# Predict on validation set\n",
        "y_pred_model_4 = np.expm1(model_4.predict(X_val))  # Reverse log transformation"
      ]
    },
    {
      "cell_type": "code",
      "execution_count": null,
      "metadata": {
        "colab": {
          "base_uri": "https://localhost:8080/"
        },
        "id": "vaHt_20ZNNVI",
        "outputId": "57c9fb29-d03a-4fbf-c060-5c0f51bdefb8"
      },
      "outputs": [
        {
          "name": "stdout",
          "output_type": "stream",
          "text": [
            "Model 4 (XGBoost) Performance:\n",
            "MAE  (Mean Absolute Error): 5087.1777\n",
            "MSE  (Mean Squared Error): 99687624.0000\n",
            "RMSE (Root Mean Squared Error): 9984.3690\n",
            "R² Score: 0.6700\n"
          ]
        }
      ],
      "source": [
        "# Compute Evaluation Metrics\n",
        "mae = mean_absolute_error(y_val, y_pred_model_4)\n",
        "mse = mean_squared_error(y_val, y_pred_model_4)\n",
        "rmse = np.sqrt(mse)\n",
        "r2 = r2_score(y_val, y_pred_model_4)\n",
        "\n",
        "# Print Results\n",
        "print(f\"Model 4 (XGBoost) Performance:\")\n",
        "print(f\"MAE  (Mean Absolute Error): {mae:.4f}\")\n",
        "print(f\"MSE  (Mean Squared Error): {mse:.4f}\")\n",
        "print(f\"RMSE (Root Mean Squared Error): {rmse:.4f}\")\n",
        "print(f\"R² Score: {r2:.4f}\")"
      ]
    },
    {
      "cell_type": "markdown",
      "metadata": {
        "id": "1XJ6o_W9m2YC"
      },
      "source": [
        "## Model 5: Neural Network"
      ]
    },
    {
      "cell_type": "markdown",
      "metadata": {
        "id": "f_vk3v5ZpNYR"
      },
      "source": [
        "### Imports for Keras"
      ]
    },
    {
      "cell_type": "code",
      "execution_count": null,
      "metadata": {
        "id": "M8vv3TqNn6sN"
      },
      "outputs": [],
      "source": [
        "import os\n",
        "\n",
        "os.environ[\"KERAS_BACKEND\"] = \"torch\"\n",
        "\n",
        "import keras\n",
        "from keras.models import Sequential\n",
        "from keras.layers import Dense, InputLayer\n",
        "from keras.optimizers import Adam\n",
        "from tensorflow.keras.layers import Dropout\n",
        "from tensorflow.keras.layers import BatchNormalization"
      ]
    },
    {
      "cell_type": "markdown",
      "metadata": {
        "id": "eyIJNWP8pZ6r"
      },
      "source": [
        "### Model"
      ]
    },
    {
      "cell_type": "code",
      "execution_count": null,
      "metadata": {
        "cell_id": "00033-d7da52c7-7fbf-4f7d-940d-821cbe255b64",
        "colab": {
          "base_uri": "https://localhost:8080/"
        },
        "deepnote_cell_type": "code",
        "deepnote_to_be_reexecuted": true,
        "id": "Az3ec03zuQsX",
        "outputId": "1fa24081-5912-46ee-bdc3-3fec5bef9999",
        "source_hash": "b623e53d",
        "tags": []
      },
      "outputs": [
        {
          "name": "stdout",
          "output_type": "stream",
          "text": [
            "Epoch 1/1000\n",
            "\u001b[1m 8/61\u001b[0m \u001b[32m━━\u001b[0m\u001b[37m━━━━━━━━━━━━━━━━━━\u001b[0m \u001b[1m0s\u001b[0m 16ms/step - loss: 89.3602 - mse: 89.3602"
          ]
        },
        {
          "name": "stderr",
          "output_type": "stream",
          "text": [
            "/usr/local/lib/python3.11/dist-packages/keras/src/layers/core/input_layer.py:27: UserWarning: Argument `input_shape` is deprecated. Use `shape` instead.\n",
            "  warnings.warn(\n"
          ]
        },
        {
          "name": "stdout",
          "output_type": "stream",
          "text": [
            "\u001b[1m61/61\u001b[0m \u001b[32m━━━━━━━━━━━━━━━━━━━━\u001b[0m\u001b[37m\u001b[0m \u001b[1m1s\u001b[0m 16ms/step - loss: 71.9140 - mse: 71.9140 - val_loss: 46.6253 - val_mse: 46.6253\n",
            "Epoch 2/1000\n",
            "\u001b[1m61/61\u001b[0m \u001b[32m━━━━━━━━━━━━━━━━━━━━\u001b[0m\u001b[37m\u001b[0m \u001b[1m2s\u001b[0m 34ms/step - loss: 9.2526 - mse: 9.2526 - val_loss: 11.5374 - val_mse: 11.5374\n",
            "Epoch 3/1000\n",
            "\u001b[1m61/61\u001b[0m \u001b[32m━━━━━━━━━━━━━━━━━━━━\u001b[0m\u001b[37m\u001b[0m \u001b[1m2s\u001b[0m 30ms/step - loss: 3.2299 - mse: 3.2299 - val_loss: 4.6066 - val_mse: 4.6066\n",
            "Epoch 4/1000\n",
            "\u001b[1m61/61\u001b[0m \u001b[32m━━━━━━━━━━━━━━━━━━━━\u001b[0m\u001b[37m\u001b[0m \u001b[1m2s\u001b[0m 29ms/step - loss: 2.8168 - mse: 2.8168 - val_loss: 2.6396 - val_mse: 2.6396\n",
            "Epoch 5/1000\n",
            "\u001b[1m61/61\u001b[0m \u001b[32m━━━━━━━━━━━━━━━━━━━━\u001b[0m\u001b[37m\u001b[0m \u001b[1m3s\u001b[0m 45ms/step - loss: 2.4700 - mse: 2.4700 - val_loss: 1.9584 - val_mse: 1.9584\n",
            "Epoch 6/1000\n",
            "\u001b[1m61/61\u001b[0m \u001b[32m━━━━━━━━━━━━━━━━━━━━\u001b[0m\u001b[37m\u001b[0m \u001b[1m2s\u001b[0m 34ms/step - loss: 2.4203 - mse: 2.4203 - val_loss: 1.6824 - val_mse: 1.6824\n",
            "Epoch 7/1000\n",
            "\u001b[1m61/61\u001b[0m \u001b[32m━━━━━━━━━━━━━━━━━━━━\u001b[0m\u001b[37m\u001b[0m \u001b[1m2s\u001b[0m 36ms/step - loss: 2.2255 - mse: 2.2255 - val_loss: 1.6017 - val_mse: 1.6017\n",
            "Epoch 8/1000\n",
            "\u001b[1m61/61\u001b[0m \u001b[32m━━━━━━━━━━━━━━━━━━━━\u001b[0m\u001b[37m\u001b[0m \u001b[1m1s\u001b[0m 16ms/step - loss: 2.1945 - mse: 2.1945 - val_loss: 1.5776 - val_mse: 1.5776\n",
            "Epoch 9/1000\n",
            "\u001b[1m61/61\u001b[0m \u001b[32m━━━━━━━━━━━━━━━━━━━━\u001b[0m\u001b[37m\u001b[0m \u001b[1m1s\u001b[0m 16ms/step - loss: 2.0270 - mse: 2.0270 - val_loss: 1.4757 - val_mse: 1.4757\n",
            "Epoch 10/1000\n",
            "\u001b[1m61/61\u001b[0m \u001b[32m━━━━━━━━━━━━━━━━━━━━\u001b[0m\u001b[37m\u001b[0m \u001b[1m1s\u001b[0m 16ms/step - loss: 2.0107 - mse: 2.0107 - val_loss: 1.4764 - val_mse: 1.4764\n",
            "Epoch 11/1000\n",
            "\u001b[1m61/61\u001b[0m \u001b[32m━━━━━━━━━━━━━━━━━━━━\u001b[0m\u001b[37m\u001b[0m \u001b[1m1s\u001b[0m 16ms/step - loss: 1.9784 - mse: 1.9784 - val_loss: 1.4479 - val_mse: 1.4479\n",
            "Epoch 12/1000\n",
            "\u001b[1m61/61\u001b[0m \u001b[32m━━━━━━━━━━━━━━━━━━━━\u001b[0m\u001b[37m\u001b[0m \u001b[1m1s\u001b[0m 16ms/step - loss: 1.9009 - mse: 1.9009 - val_loss: 1.4613 - val_mse: 1.4613\n",
            "Epoch 13/1000\n",
            "\u001b[1m61/61\u001b[0m \u001b[32m━━━━━━━━━━━━━━━━━━━━\u001b[0m\u001b[37m\u001b[0m \u001b[1m1s\u001b[0m 16ms/step - loss: 1.8292 - mse: 1.8292 - val_loss: 1.4269 - val_mse: 1.4269\n",
            "Epoch 14/1000\n",
            "\u001b[1m61/61\u001b[0m \u001b[32m━━━━━━━━━━━━━━━━━━━━\u001b[0m\u001b[37m\u001b[0m \u001b[1m1s\u001b[0m 19ms/step - loss: 1.8042 - mse: 1.8042 - val_loss: 1.3961 - val_mse: 1.3961\n",
            "Epoch 15/1000\n",
            "\u001b[1m61/61\u001b[0m \u001b[32m━━━━━━━━━━━━━━━━━━━━\u001b[0m\u001b[37m\u001b[0m \u001b[1m1s\u001b[0m 21ms/step - loss: 1.7996 - mse: 1.7996 - val_loss: 1.3720 - val_mse: 1.3720\n",
            "Epoch 16/1000\n",
            "\u001b[1m61/61\u001b[0m \u001b[32m━━━━━━━━━━━━━━━━━━━━\u001b[0m\u001b[37m\u001b[0m \u001b[1m1s\u001b[0m 17ms/step - loss: 1.7982 - mse: 1.7982 - val_loss: 1.3703 - val_mse: 1.3703\n",
            "Epoch 17/1000\n",
            "\u001b[1m61/61\u001b[0m \u001b[32m━━━━━━━━━━━━━━━━━━━━\u001b[0m\u001b[37m\u001b[0m \u001b[1m1s\u001b[0m 16ms/step - loss: 1.7431 - mse: 1.7431 - val_loss: 1.3239 - val_mse: 1.3239\n",
            "Epoch 18/1000\n",
            "\u001b[1m61/61\u001b[0m \u001b[32m━━━━━━━━━━━━━━━━━━━━\u001b[0m\u001b[37m\u001b[0m \u001b[1m1s\u001b[0m 16ms/step - loss: 1.7120 - mse: 1.7120 - val_loss: 1.3341 - val_mse: 1.3341\n",
            "Epoch 19/1000\n",
            "\u001b[1m61/61\u001b[0m \u001b[32m━━━━━━━━━━━━━━━━━━━━\u001b[0m\u001b[37m\u001b[0m \u001b[1m1s\u001b[0m 16ms/step - loss: 1.6962 - mse: 1.6962 - val_loss: 1.3320 - val_mse: 1.3320\n",
            "Epoch 20/1000\n",
            "\u001b[1m61/61\u001b[0m \u001b[32m━━━━━━━━━━━━━━━━━━━━\u001b[0m\u001b[37m\u001b[0m \u001b[1m1s\u001b[0m 16ms/step - loss: 1.6140 - mse: 1.6140 - val_loss: 1.3314 - val_mse: 1.3314\n",
            "Epoch 21/1000\n",
            "\u001b[1m61/61\u001b[0m \u001b[32m━━━━━━━━━━━━━━━━━━━━\u001b[0m\u001b[37m\u001b[0m \u001b[1m1s\u001b[0m 16ms/step - loss: 1.6294 - mse: 1.6294 - val_loss: 1.3106 - val_mse: 1.3106\n",
            "Epoch 22/1000\n",
            "\u001b[1m61/61\u001b[0m \u001b[32m━━━━━━━━━━━━━━━━━━━━\u001b[0m\u001b[37m\u001b[0m \u001b[1m1s\u001b[0m 16ms/step - loss: 1.6211 - mse: 1.6211 - val_loss: 1.3087 - val_mse: 1.3087\n",
            "Epoch 23/1000\n",
            "\u001b[1m61/61\u001b[0m \u001b[32m━━━━━━━━━━━━━━━━━━━━\u001b[0m\u001b[37m\u001b[0m \u001b[1m1s\u001b[0m 16ms/step - loss: 1.6210 - mse: 1.6210 - val_loss: 1.3137 - val_mse: 1.3137\n",
            "Epoch 24/1000\n",
            "\u001b[1m61/61\u001b[0m \u001b[32m━━━━━━━━━━━━━━━━━━━━\u001b[0m\u001b[37m\u001b[0m \u001b[1m1s\u001b[0m 16ms/step - loss: 1.6270 - mse: 1.6270 - val_loss: 1.3037 - val_mse: 1.3037\n",
            "Epoch 25/1000\n",
            "\u001b[1m61/61\u001b[0m \u001b[32m━━━━━━━━━━━━━━━━━━━━\u001b[0m\u001b[37m\u001b[0m \u001b[1m1s\u001b[0m 16ms/step - loss: 1.5628 - mse: 1.5628 - val_loss: 1.3020 - val_mse: 1.3020\n",
            "Epoch 26/1000\n",
            "\u001b[1m61/61\u001b[0m \u001b[32m━━━━━━━━━━━━━━━━━━━━\u001b[0m\u001b[37m\u001b[0m \u001b[1m1s\u001b[0m 21ms/step - loss: 1.5440 - mse: 1.5440 - val_loss: 1.2771 - val_mse: 1.2771\n",
            "Epoch 27/1000\n",
            "\u001b[1m61/61\u001b[0m \u001b[32m━━━━━━━━━━━━━━━━━━━━\u001b[0m\u001b[37m\u001b[0m \u001b[1m1s\u001b[0m 22ms/step - loss: 1.5192 - mse: 1.5192 - val_loss: 1.2687 - val_mse: 1.2687\n",
            "Epoch 28/1000\n",
            "\u001b[1m61/61\u001b[0m \u001b[32m━━━━━━━━━━━━━━━━━━━━\u001b[0m\u001b[37m\u001b[0m \u001b[1m1s\u001b[0m 16ms/step - loss: 1.5219 - mse: 1.5219 - val_loss: 1.2740 - val_mse: 1.2740\n",
            "Epoch 29/1000\n",
            "\u001b[1m61/61\u001b[0m \u001b[32m━━━━━━━━━━━━━━━━━━━━\u001b[0m\u001b[37m\u001b[0m \u001b[1m1s\u001b[0m 16ms/step - loss: 1.5008 - mse: 1.5008 - val_loss: 1.2663 - val_mse: 1.2663\n",
            "Epoch 30/1000\n",
            "\u001b[1m61/61\u001b[0m \u001b[32m━━━━━━━━━━━━━━━━━━━━\u001b[0m\u001b[37m\u001b[0m \u001b[1m1s\u001b[0m 16ms/step - loss: 1.5199 - mse: 1.5199 - val_loss: 1.2766 - val_mse: 1.2766\n",
            "Epoch 31/1000\n",
            "\u001b[1m61/61\u001b[0m \u001b[32m━━━━━━━━━━━━━━━━━━━━\u001b[0m\u001b[37m\u001b[0m \u001b[1m1s\u001b[0m 16ms/step - loss: 1.4452 - mse: 1.4452 - val_loss: 1.2491 - val_mse: 1.2491\n",
            "Epoch 32/1000\n",
            "\u001b[1m61/61\u001b[0m \u001b[32m━━━━━━━━━━━━━━━━━━━━\u001b[0m\u001b[37m\u001b[0m \u001b[1m1s\u001b[0m 16ms/step - loss: 1.4903 - mse: 1.4903 - val_loss: 1.2488 - val_mse: 1.2488\n",
            "Epoch 33/1000\n",
            "\u001b[1m61/61\u001b[0m \u001b[32m━━━━━━━━━━━━━━━━━━━━\u001b[0m\u001b[37m\u001b[0m \u001b[1m1s\u001b[0m 16ms/step - loss: 1.5035 - mse: 1.5035 - val_loss: 1.2661 - val_mse: 1.2661\n",
            "Epoch 34/1000\n",
            "\u001b[1m61/61\u001b[0m \u001b[32m━━━━━━━━━━━━━━━━━━━━\u001b[0m\u001b[37m\u001b[0m \u001b[1m1s\u001b[0m 16ms/step - loss: 1.4384 - mse: 1.4384 - val_loss: 1.2573 - val_mse: 1.2573\n",
            "Epoch 35/1000\n",
            "\u001b[1m61/61\u001b[0m \u001b[32m━━━━━━━━━━━━━━━━━━━━\u001b[0m\u001b[37m\u001b[0m \u001b[1m1s\u001b[0m 16ms/step - loss: 1.5100 - mse: 1.5100 - val_loss: 1.2519 - val_mse: 1.2519\n",
            "Epoch 36/1000\n",
            "\u001b[1m61/61\u001b[0m \u001b[32m━━━━━━━━━━━━━━━━━━━━\u001b[0m\u001b[37m\u001b[0m \u001b[1m1s\u001b[0m 16ms/step - loss: 1.4444 - mse: 1.4444 - val_loss: 1.2180 - val_mse: 1.2180\n",
            "Epoch 37/1000\n",
            "\u001b[1m61/61\u001b[0m \u001b[32m━━━━━━━━━━━━━━━━━━━━\u001b[0m\u001b[37m\u001b[0m \u001b[1m1s\u001b[0m 18ms/step - loss: 1.4336 - mse: 1.4336 - val_loss: 1.2495 - val_mse: 1.2495\n",
            "Epoch 38/1000\n",
            "\u001b[1m61/61\u001b[0m \u001b[32m━━━━━━━━━━━━━━━━━━━━\u001b[0m\u001b[37m\u001b[0m \u001b[1m1s\u001b[0m 21ms/step - loss: 1.4479 - mse: 1.4479 - val_loss: 1.2529 - val_mse: 1.2529\n",
            "Epoch 39/1000\n",
            "\u001b[1m61/61\u001b[0m \u001b[32m━━━━━━━━━━━━━━━━━━━━\u001b[0m\u001b[37m\u001b[0m \u001b[1m1s\u001b[0m 19ms/step - loss: 1.3388 - mse: 1.3388 - val_loss: 1.2499 - val_mse: 1.2499\n",
            "Epoch 40/1000\n",
            "\u001b[1m61/61\u001b[0m \u001b[32m━━━━━━━━━━━━━━━━━━━━\u001b[0m\u001b[37m\u001b[0m \u001b[1m1s\u001b[0m 16ms/step - loss: 1.4037 - mse: 1.4037 - val_loss: 1.2432 - val_mse: 1.2432\n",
            "Epoch 41/1000\n",
            "\u001b[1m61/61\u001b[0m \u001b[32m━━━━━━━━━━━━━━━━━━━━\u001b[0m\u001b[37m\u001b[0m \u001b[1m1s\u001b[0m 16ms/step - loss: 1.3684 - mse: 1.3684 - val_loss: 1.2399 - val_mse: 1.2399\n",
            "Epoch 42/1000\n",
            "\u001b[1m61/61\u001b[0m \u001b[32m━━━━━━━━━━━━━━━━━━━━\u001b[0m\u001b[37m\u001b[0m \u001b[1m1s\u001b[0m 16ms/step - loss: 1.3688 - mse: 1.3688 - val_loss: 1.2357 - val_mse: 1.2357\n",
            "Epoch 43/1000\n",
            "\u001b[1m61/61\u001b[0m \u001b[32m━━━━━━━━━━━━━━━━━━━━\u001b[0m\u001b[37m\u001b[0m \u001b[1m1s\u001b[0m 16ms/step - loss: 1.3757 - mse: 1.3757 - val_loss: 1.2228 - val_mse: 1.2228\n",
            "Epoch 44/1000\n",
            "\u001b[1m61/61\u001b[0m \u001b[32m━━━━━━━━━━━━━━━━━━━━\u001b[0m\u001b[37m\u001b[0m \u001b[1m1s\u001b[0m 16ms/step - loss: 1.4211 - mse: 1.4211 - val_loss: 1.2631 - val_mse: 1.2631\n",
            "Epoch 45/1000\n",
            "\u001b[1m61/61\u001b[0m \u001b[32m━━━━━━━━━━━━━━━━━━━━\u001b[0m\u001b[37m\u001b[0m \u001b[1m1s\u001b[0m 17ms/step - loss: 1.3866 - mse: 1.3866 - val_loss: 1.2495 - val_mse: 1.2495\n",
            "Epoch 46/1000\n",
            "\u001b[1m61/61\u001b[0m \u001b[32m━━━━━━━━━━━━━━━━━━━━\u001b[0m\u001b[37m\u001b[0m \u001b[1m1s\u001b[0m 18ms/step - loss: 1.3170 - mse: 1.3170 - val_loss: 1.2041 - val_mse: 1.2041\n",
            "Epoch 47/1000\n",
            "\u001b[1m61/61\u001b[0m \u001b[32m━━━━━━━━━━━━━━━━━━━━\u001b[0m\u001b[37m\u001b[0m \u001b[1m1s\u001b[0m 16ms/step - loss: 1.3473 - mse: 1.3473 - val_loss: 1.2354 - val_mse: 1.2354\n",
            "Epoch 48/1000\n",
            "\u001b[1m61/61\u001b[0m \u001b[32m━━━━━━━━━━━━━━━━━━━━\u001b[0m\u001b[37m\u001b[0m \u001b[1m1s\u001b[0m 16ms/step - loss: 1.3472 - mse: 1.3472 - val_loss: 1.2362 - val_mse: 1.2362\n",
            "Epoch 49/1000\n",
            "\u001b[1m61/61\u001b[0m \u001b[32m━━━━━━━━━━━━━━━━━━━━\u001b[0m\u001b[37m\u001b[0m \u001b[1m1s\u001b[0m 20ms/step - loss: 1.2939 - mse: 1.2939 - val_loss: 1.2272 - val_mse: 1.2272\n",
            "Epoch 50/1000\n",
            "\u001b[1m61/61\u001b[0m \u001b[32m━━━━━━━━━━━━━━━━━━━━\u001b[0m\u001b[37m\u001b[0m \u001b[1m1s\u001b[0m 22ms/step - loss: 1.3351 - mse: 1.3351 - val_loss: 1.2245 - val_mse: 1.2245\n",
            "Epoch 51/1000\n",
            "\u001b[1m61/61\u001b[0m \u001b[32m━━━━━━━━━━━━━━━━━━━━\u001b[0m\u001b[37m\u001b[0m \u001b[1m1s\u001b[0m 16ms/step - loss: 1.2312 - mse: 1.2312 - val_loss: 1.2321 - val_mse: 1.2321\n",
            "Epoch 52/1000\n",
            "\u001b[1m61/61\u001b[0m \u001b[32m━━━━━━━━━━━━━━━━━━━━\u001b[0m\u001b[37m\u001b[0m \u001b[1m1s\u001b[0m 16ms/step - loss: 1.2825 - mse: 1.2825 - val_loss: 1.2724 - val_mse: 1.2724\n",
            "Epoch 53/1000\n",
            "\u001b[1m61/61\u001b[0m \u001b[32m━━━━━━━━━━━━━━━━━━━━\u001b[0m\u001b[37m\u001b[0m \u001b[1m1s\u001b[0m 16ms/step - loss: 1.2667 - mse: 1.2667 - val_loss: 1.2371 - val_mse: 1.2371\n",
            "Epoch 54/1000\n",
            "\u001b[1m61/61\u001b[0m \u001b[32m━━━━━━━━━━━━━━━━━━━━\u001b[0m\u001b[37m\u001b[0m \u001b[1m1s\u001b[0m 16ms/step - loss: 1.3082 - mse: 1.3082 - val_loss: 1.1997 - val_mse: 1.1997\n",
            "Epoch 55/1000\n",
            "\u001b[1m61/61\u001b[0m \u001b[32m━━━━━━━━━━━━━━━━━━━━\u001b[0m\u001b[37m\u001b[0m \u001b[1m1s\u001b[0m 16ms/step - loss: 1.2493 - mse: 1.2493 - val_loss: 1.2028 - val_mse: 1.2028\n",
            "Epoch 56/1000\n",
            "\u001b[1m61/61\u001b[0m \u001b[32m━━━━━━━━━━━━━━━━━━━━\u001b[0m\u001b[37m\u001b[0m \u001b[1m1s\u001b[0m 16ms/step - loss: 1.2909 - mse: 1.2909 - val_loss: 1.2236 - val_mse: 1.2236\n",
            "Epoch 57/1000\n",
            "\u001b[1m61/61\u001b[0m \u001b[32m━━━━━━━━━━━━━━━━━━━━\u001b[0m\u001b[37m\u001b[0m \u001b[1m1s\u001b[0m 16ms/step - loss: 1.2606 - mse: 1.2606 - val_loss: 1.2208 - val_mse: 1.2208\n",
            "Epoch 58/1000\n",
            "\u001b[1m61/61\u001b[0m \u001b[32m━━━━━━━━━━━━━━━━━━━━\u001b[0m\u001b[37m\u001b[0m \u001b[1m1s\u001b[0m 16ms/step - loss: 1.2437 - mse: 1.2437 - val_loss: 1.2279 - val_mse: 1.2279\n",
            "Epoch 59/1000\n",
            "\u001b[1m61/61\u001b[0m \u001b[32m━━━━━━━━━━━━━━━━━━━━\u001b[0m\u001b[37m\u001b[0m \u001b[1m1s\u001b[0m 16ms/step - loss: 1.2746 - mse: 1.2746 - val_loss: 1.2646 - val_mse: 1.2646\n",
            "Epoch 60/1000\n",
            "\u001b[1m61/61\u001b[0m \u001b[32m━━━━━━━━━━━━━━━━━━━━\u001b[0m\u001b[37m\u001b[0m \u001b[1m1s\u001b[0m 16ms/step - loss: 1.2725 - mse: 1.2725 - val_loss: 1.2437 - val_mse: 1.2437\n",
            "Epoch 61/1000\n",
            "\u001b[1m61/61\u001b[0m \u001b[32m━━━━━━━━━━━━━━━━━━━━\u001b[0m\u001b[37m\u001b[0m \u001b[1m1s\u001b[0m 21ms/step - loss: 1.2601 - mse: 1.2601 - val_loss: 1.2269 - val_mse: 1.2269\n",
            "Epoch 62/1000\n",
            "\u001b[1m61/61\u001b[0m \u001b[32m━━━━━━━━━━━━━━━━━━━━\u001b[0m\u001b[37m\u001b[0m \u001b[1m1s\u001b[0m 21ms/step - loss: 1.2463 - mse: 1.2463 - val_loss: 1.2552 - val_mse: 1.2552\n",
            "Epoch 63/1000\n",
            "\u001b[1m61/61\u001b[0m \u001b[32m━━━━━━━━━━━━━━━━━━━━\u001b[0m\u001b[37m\u001b[0m \u001b[1m1s\u001b[0m 16ms/step - loss: 1.2594 - mse: 1.2594 - val_loss: 1.2439 - val_mse: 1.2439\n",
            "Epoch 64/1000\n",
            "\u001b[1m61/61\u001b[0m \u001b[32m━━━━━━━━━━━━━━━━━━━━\u001b[0m\u001b[37m\u001b[0m \u001b[1m1s\u001b[0m 16ms/step - loss: 1.2264 - mse: 1.2264 - val_loss: 1.2899 - val_mse: 1.2899\n",
            "Epoch 65/1000\n",
            "\u001b[1m61/61\u001b[0m \u001b[32m━━━━━━━━━━━━━━━━━━━━\u001b[0m\u001b[37m\u001b[0m \u001b[1m1s\u001b[0m 16ms/step - loss: 1.2028 - mse: 1.2028 - val_loss: 1.2089 - val_mse: 1.2089\n",
            "Epoch 66/1000\n",
            "\u001b[1m61/61\u001b[0m \u001b[32m━━━━━━━━━━━━━━━━━━━━\u001b[0m\u001b[37m\u001b[0m \u001b[1m1s\u001b[0m 16ms/step - loss: 1.1751 - mse: 1.1751 - val_loss: 1.2628 - val_mse: 1.2628\n",
            "Epoch 67/1000\n",
            "\u001b[1m61/61\u001b[0m \u001b[32m━━━━━━━━━━━━━━━━━━━━\u001b[0m\u001b[37m\u001b[0m \u001b[1m1s\u001b[0m 16ms/step - loss: 1.2331 - mse: 1.2331 - val_loss: 1.2875 - val_mse: 1.2875\n",
            "Epoch 68/1000\n",
            "\u001b[1m61/61\u001b[0m \u001b[32m━━━━━━━━━━━━━━━━━━━━\u001b[0m\u001b[37m\u001b[0m \u001b[1m1s\u001b[0m 16ms/step - loss: 1.1743 - mse: 1.1743 - val_loss: 1.2277 - val_mse: 1.2277\n",
            "Epoch 69/1000\n",
            "\u001b[1m61/61\u001b[0m \u001b[32m━━━━━━━━━━━━━━━━━━━━\u001b[0m\u001b[37m\u001b[0m \u001b[1m1s\u001b[0m 16ms/step - loss: 1.1551 - mse: 1.1551 - val_loss: 1.2053 - val_mse: 1.2053\n",
            "Epoch 69: early stopping\n",
            "Restoring model weights from the end of the best epoch: 54.\n"
          ]
        }
      ],
      "source": [
        "from tensorflow.keras.optimizers import Adam\n",
        "\n",
        "callback = keras.callbacks.EarlyStopping(\n",
        "    monitor=\"val_loss\",\n",
        "    min_delta=0,\n",
        "    patience=15,\n",
        "    verbose=1,\n",
        "    mode=\"min\",\n",
        "    baseline=None,\n",
        "    restore_best_weights=True,\n",
        "    start_from_epoch=0,\n",
        ")\n",
        "\n",
        "input_layer = InputLayer(input_shape=(X_train_scaled.shape[1],))\n",
        "hidden_layer0 = Dense(units=1024, activation=\"relu\")\n",
        "hidden_layer1 = Dense(units=512, activation=\"relu\")\n",
        "hidden_layer2 = Dense(units=256, activation=\"relu\")\n",
        "hidden_layer3 = Dense(units=128, activation=\"relu\")\n",
        "hidden_layer4 = Dense(units=64, activation=\"relu\")\n",
        "hidden_layer5 = Dense(units=32, activation=\"relu\")\n",
        "hidden_layer6 = Dense(units=16, activation=\"relu\")\n",
        "\n",
        "output_layer = Dense(units=1, activation=\"linear\")\n",
        "\n",
        "model5 = Sequential([\n",
        "  input_layer,\n",
        "  hidden_layer0,\n",
        "  BatchNormalization(),\n",
        "  Dropout(0.2),\n",
        "  hidden_layer1,\n",
        "  BatchNormalization(),\n",
        "  Dropout(0.2),\n",
        "  hidden_layer2,\n",
        "  BatchNormalization(),\n",
        "  Dropout(0.2),\n",
        "  hidden_layer3,\n",
        "  BatchNormalization(),\n",
        "  Dropout(0.2),\n",
        "  hidden_layer4,\n",
        "  hidden_layer5,\n",
        "  hidden_layer6,\n",
        "  output_layer\n",
        "])\n",
        "\n",
        "\n",
        "optim = Adam(learning_rate=0.0003)\n",
        "\n",
        "model5.compile(optimizer=optim, loss=\"mse\",metrics=[\"mse\"])\n",
        "\n",
        "m5 = model5.fit(X_train_scaled, y_train, epochs=1000,batch_size=256, validation_data=(X_val_scaled,np.log1p(y_val)),callbacks=callback)"
      ]
    },
    {
      "cell_type": "code",
      "execution_count": null,
      "metadata": {
        "colab": {
          "base_uri": "https://localhost:8080/"
        },
        "id": "PmwVfMQTKyhP",
        "outputId": "e930c32d-0a2d-410b-b06c-74719e7f28c5"
      },
      "outputs": [
        {
          "data": {
            "image/png": "[encoded data removed]",
            "text/plain": [
              "<Figure size 800x500 with 1 Axes>"
            ]
          },
          "metadata": {},
          "output_type": "display_data"
        }
      ],
      "source": [
        "import matplotlib.pyplot as plt\n",
        "\n",
        "plt.figure(figsize=(8,5))\n",
        "plt.plot(m5.history['loss'], label='Training Loss')\n",
        "plt.plot(m5.history['val_loss'], label='Validation Loss')\n",
        "plt.xlabel(\"Epochs\")\n",
        "plt.ylabel(\"Loss (MSE)\")\n",
        "plt.title(\"Model Training Performance\")\n",
        "plt.legend()\n",
        "plt.show()"
      ]
    },
    {
      "cell_type": "markdown",
      "metadata": {
        "id": "qhKQtiN6cP8Z"
      },
      "source": [
        "## Model 6: Optuna XGBoost"
      ]
    },
    {
      "cell_type": "code",
      "execution_count": null,
      "metadata": {
        "colab": {
          "base_uri": "https://localhost:8080/",
          "height": 1000
        },
        "id": "XmN-G_HocP8Z",
        "outputId": "48479fc9-d95d-4efd-bf77-91f14918225e"
      },
      "outputs": [
        {
          "name": "stderr",
          "output_type": "stream",
          "text": [
            "[I 2025-03-03 15:06:03,144] A new study created in memory with name: no-name-2900ab15-0883-403b-ad8c-90446b02b6eb\n",
            "<ipython-input-60-095c04b064f8>:11: FutureWarning: suggest_loguniform has been deprecated in v3.0.0. This feature will be removed in v6.0.0. See https://github.com/optuna/optuna/releases/tag/v3.0.0. Use suggest_float(..., log=True) instead.\n",
            "  \"learning_rate\": trial.suggest_loguniform(\"learning_rate\", 0.01, 0.3),\n",
            "<ipython-input-60-095c04b064f8>:14: FutureWarning: suggest_loguniform has been deprecated in v3.0.0. This feature will be removed in v6.0.0. See https://github.com/optuna/optuna/releases/tag/v3.0.0. Use suggest_float(..., log=True) instead.\n",
            "  \"reg_alpha\": trial.suggest_loguniform(\"reg_alpha\", 0.005, 3.0),\n",
            "<ipython-input-60-095c04b064f8>:15: FutureWarning: suggest_loguniform has been deprecated in v3.0.0. This feature will be removed in v6.0.0. See https://github.com/optuna/optuna/releases/tag/v3.0.0. Use suggest_float(..., log=True) instead.\n",
            "  \"reg_lambda\": trial.suggest_loguniform(\"reg_lambda\", 3.0, 15.0),\n",
            "[I 2025-03-03 15:08:53,989] Trial 1 finished with value: -0.5168429390446149 and parameters: {'max_depth': 20, 'learning_rate': 0.2596015869506035, 'n_estimators': 1041, 'subsample': 0.554022555183469, 'reg_alpha': 0.006712498877535131, 'reg_lambda': 10.472084387124717}. Best is trial 1 with value: -0.5168429390446149.\n",
            "[I 2025-03-03 15:09:01,390] Trial 0 finished with value: -0.49920548178834423 and parameters: {'max_depth': 18, 'learning_rate': 0.01020053569768865, 'n_estimators': 822, 'subsample': 0.9631582216429323, 'reg_alpha': 0.8375273296276227, 'reg_lambda': 13.297965136893067}. Best is trial 0 with value: -0.49920548178834423.\n",
            "[I 2025-03-03 15:11:15,215] Trial 2 finished with value: -0.5306896312066753 and parameters: {'max_depth': 11, 'learning_rate': 0.012291773342515706, 'n_estimators': 1257, 'subsample': 0.9910744752901315, 'reg_alpha': 0.006829920627094108, 'reg_lambda': 8.511930045138932}. Best is trial 0 with value: -0.49920548178834423.\n",
            "[I 2025-03-03 15:11:57,300] Trial 3 finished with value: -0.480304945515743 and parameters: {'max_depth': 19, 'learning_rate': 0.02946573613444813, 'n_estimators': 1328, 'subsample': 0.6379415076227685, 'reg_alpha': 0.016665952411691096, 'reg_lambda': 5.755370125487754}. Best is trial 3 with value: -0.480304945515743.\n",
            "[I 2025-03-03 15:14:17,452] Trial 5 finished with value: -0.48055042457999314 and parameters: {'max_depth': 25, 'learning_rate': 0.07961337065183842, 'n_estimators': 727, 'subsample': 0.8746389588963149, 'reg_alpha': 0.5280776337413191, 'reg_lambda': 3.0018264839158935}. Best is trial 3 with value: -0.480304945515743.\n",
            "[I 2025-03-03 15:14:47,036] Trial 4 finished with value: -0.4883228145453149 and parameters: {'max_depth': 24, 'learning_rate': 0.01001481845496991, 'n_estimators': 1308, 'subsample': 0.8176549846080269, 'reg_alpha': 1.5413305392707848, 'reg_lambda': 3.5619085284524448}. Best is trial 3 with value: -0.480304945515743.\n",
            "[I 2025-03-03 15:15:41,731] Trial 6 finished with value: -0.49677122062677703 and parameters: {'max_depth': 18, 'learning_rate': 0.24132503472716535, 'n_estimators': 1343, 'subsample': 0.8208846164609548, 'reg_alpha': 0.014293042776904998, 'reg_lambda': 5.3237102364991316}. Best is trial 3 with value: -0.480304945515743.\n",
            "[I 2025-03-03 15:17:11,413] Trial 7 finished with value: -0.4820864551462458 and parameters: {'max_depth': 25, 'learning_rate': 0.1771612009140274, 'n_estimators': 573, 'subsample': 0.9101170649742809, 'reg_alpha': 0.06196939644758821, 'reg_lambda': 6.166452944337299}. Best is trial 3 with value: -0.480304945515743.\n",
            "[I 2025-03-03 15:17:11,497] Trial 8 finished with value: -0.4922997854929159 and parameters: {'max_depth': 12, 'learning_rate': 0.037499915771612095, 'n_estimators': 1076, 'subsample': 0.8169710084571946, 'reg_alpha': 0.039654305380135445, 'reg_lambda': 8.421094958641753}. Best is trial 3 with value: -0.480304945515743.\n",
            "/usr/local/lib/python3.11/dist-packages/joblib/externals/loky/process_executor.py:752: UserWarning: A worker stopped while some jobs were given to the executor. This can be caused by a too short worker timeout or by a memory leak.\n",
            "  warnings.warn(\n",
            "[I 2025-03-03 15:20:37,853] Trial 9 finished with value: -0.48398017087045675 and parameters: {'max_depth': 20, 'learning_rate': 0.024034950835748678, 'n_estimators': 670, 'subsample': 0.8552770309608777, 'reg_alpha': 0.9515393904090652, 'reg_lambda': 4.397472684472558}. Best is trial 3 with value: -0.480304945515743.\n",
            "[I 2025-03-03 15:21:17,510] Trial 10 finished with value: -0.47923543131002394 and parameters: {'max_depth': 25, 'learning_rate': 0.012609877343568702, 'n_estimators': 1306, 'subsample': 0.809233175847305, 'reg_alpha': 0.4905394722425835, 'reg_lambda': 4.672128461809567}. Best is trial 10 with value: -0.47923543131002394.\n",
            "[I 2025-03-03 15:22:10,013] Trial 11 finished with value: -0.4924721594711186 and parameters: {'max_depth': 15, 'learning_rate': 0.07262903955418618, 'n_estimators': 1468, 'subsample': 0.6364611337998615, 'reg_alpha': 0.22591878851722796, 'reg_lambda': 4.879949517235519}. Best is trial 10 with value: -0.47923543131002394.\n",
            "[I 2025-03-03 15:25:26,044] Trial 12 finished with value: -0.4849075965150359 and parameters: {'max_depth': 14, 'learning_rate': 0.021650045389865247, 'n_estimators': 1491, 'subsample': 0.6620120661986976, 'reg_alpha': 0.18317659739129327, 'reg_lambda': 4.73398566353772}. Best is trial 10 with value: -0.47923543131002394.\n",
            "[I 2025-03-03 15:25:59,280] Trial 13 finished with value: -0.4780182652944937 and parameters: {'max_depth': 22, 'learning_rate': 0.022169379880068535, 'n_estimators': 1172, 'subsample': 0.7007643129847868, 'reg_alpha': 0.09863463278751301, 'reg_lambda': 7.074160639822477}. Best is trial 13 with value: -0.4780182652944937.\n",
            "[I 2025-03-03 15:29:29,132] Trial 15 finished with value: -0.49949646199382264 and parameters: {'max_depth': 22, 'learning_rate': 0.017343316216721694, 'n_estimators': 1165, 'subsample': 0.7248419457887286, 'reg_alpha': 2.8693570634420653, 'reg_lambda': 7.485067218793837}. Best is trial 13 with value: -0.4780182652944937.\n",
            "[I 2025-03-03 15:29:29,410] Trial 14 finished with value: -0.4771125625803359 and parameters: {'max_depth': 22, 'learning_rate': 0.023784312950880158, 'n_estimators': 1179, 'subsample': 0.7115714112009346, 'reg_alpha': 0.03000437069225543, 'reg_lambda': 6.467472186035977}. Best is trial 14 with value: -0.4771125625803359.\n",
            "[I 2025-03-03 15:32:21,588] Trial 16 finished with value: -0.48036140071867506 and parameters: {'max_depth': 22, 'learning_rate': 0.050764394002508394, 'n_estimators': 934, 'subsample': 0.7383754754563101, 'reg_alpha': 0.2668298976231834, 'reg_lambda': 3.6629688655557815}. Best is trial 14 with value: -0.4771125625803359.\n",
            "[I 2025-03-03 15:32:33,456] Trial 17 finished with value: -0.4801729686731292 and parameters: {'max_depth': 22, 'learning_rate': 0.04691909810315725, 'n_estimators': 914, 'subsample': 0.7153249763433993, 'reg_alpha': 0.0697104497929089, 'reg_lambda': 9.986566854319866}. Best is trial 14 with value: -0.4771125625803359.\n",
            "[I 2025-03-03 15:35:15,922] Trial 18 finished with value: -0.4844264880460896 and parameters: {'max_depth': 22, 'learning_rate': 0.03904505509834663, 'n_estimators': 926, 'subsample': 0.5177621588129595, 'reg_alpha': 0.06294890489127972, 'reg_lambda': 6.97679630213165}. Best is trial 14 with value: -0.4771125625803359.\n",
            "[I 2025-03-03 15:35:18,539] Trial 19 finished with value: -0.4870029123956273 and parameters: {'max_depth': 15, 'learning_rate': 0.017928985484950116, 'n_estimators': 1189, 'subsample': 0.548754556276916, 'reg_alpha': 0.02890334714750146, 'reg_lambda': 6.889258957224722}. Best is trial 14 with value: -0.4771125625803359.\n",
            "[I 2025-03-03 15:38:22,030] Trial 20 finished with value: -0.48846636586261133 and parameters: {'max_depth': 16, 'learning_rate': 0.016489318945326754, 'n_estimators': 1165, 'subsample': 0.6033627659757512, 'reg_alpha': 0.02602140593144126, 'reg_lambda': 14.08910325506068}. Best is trial 14 with value: -0.4771125625803359.\n",
            "[I 2025-03-03 15:38:22,940] Trial 21 finished with value: -0.48906443742023253 and parameters: {'max_depth': 23, 'learning_rate': 0.09802950743506475, 'n_estimators': 1119, 'subsample': 0.6672314271970521, 'reg_alpha': 0.13402425876658317, 'reg_lambda': 13.793497157295349}. Best is trial 14 with value: -0.4771125625803359.\n",
            "[I 2025-03-03 15:43:11,950] Trial 23 finished with value: -0.4789936406808028 and parameters: {'max_depth': 24, 'learning_rate': 0.028760115701098068, 'n_estimators': 1396, 'subsample': 0.7747601033716031, 'reg_alpha': 0.3125357278657628, 'reg_lambda': 4.123905599896989}. Best is trial 14 with value: -0.4771125625803359.\n",
            "[I 2025-03-03 15:43:26,091] Trial 22 finished with value: -0.47655080750557055 and parameters: {'max_depth': 23, 'learning_rate': 0.014655817817307168, 'n_estimators': 1394, 'subsample': 0.6945268202027931, 'reg_alpha': 0.13466320845351196, 'reg_lambda': 4.208069194520132}. Best is trial 22 with value: -0.47655080750557055.\n",
            "[I 2025-03-03 15:47:23,832] Trial 24 finished with value: -0.4776010702639414 and parameters: {'max_depth': 20, 'learning_rate': 0.03002724458800558, 'n_estimators': 1389, 'subsample': 0.7681466089866972, 'reg_alpha': 0.10065740125253857, 'reg_lambda': 3.9487727486676736}. Best is trial 22 with value: -0.47655080750557055.\n",
            "[I 2025-03-03 15:47:42,227] Trial 25 finished with value: -0.478253710389699 and parameters: {'max_depth': 20, 'learning_rate': 0.015480886126751194, 'n_estimators': 1218, 'subsample': 0.6888242012261765, 'reg_alpha': 0.0977029091317918, 'reg_lambda': 5.787853901043906}. Best is trial 22 with value: -0.47655080750557055.\n",
            "[I 2025-03-03 15:51:34,799] Trial 26 finished with value: -0.47757040725933475 and parameters: {'max_depth': 20, 'learning_rate': 0.032479752951741644, 'n_estimators': 1412, 'subsample': 0.7715786482184954, 'reg_alpha': 0.10212923905933563, 'reg_lambda': 3.226766423932846}. Best is trial 22 with value: -0.47655080750557055.\n",
            "[I 2025-03-03 15:51:59,684] Trial 27 finished with value: -0.47630731357731404 and parameters: {'max_depth': 21, 'learning_rate': 0.02835198209444526, 'n_estimators': 1419, 'subsample': 0.7640853459504837, 'reg_alpha': 0.038053903642373314, 'reg_lambda': 3.3370919333742584}. Best is trial 27 with value: -0.47630731357731404.\n",
            "[I 2025-03-03 15:56:24,967] Trial 28 finished with value: -0.4800761833116088 and parameters: {'max_depth': 21, 'learning_rate': 0.036991122467571164, 'n_estimators': 1420, 'subsample': 0.6020219777652175, 'reg_alpha': 0.043014793525041936, 'reg_lambda': 3.134590607184868}. Best is trial 27 with value: -0.47630731357731404.\n",
            "[I 2025-03-03 15:57:05,593] Trial 29 finished with value: -0.4781334833239074 and parameters: {'max_depth': 23, 'learning_rate': 0.02294080466753919, 'n_estimators': 1497, 'subsample': 0.5920766198519544, 'reg_alpha': 0.011457534456159898, 'reg_lambda': 3.5642060213066826}. Best is trial 27 with value: -0.47630731357731404.\n",
            "[I 2025-03-03 16:00:04,130] Trial 30 finished with value: -0.477950180056137 and parameters: {'max_depth': 17, 'learning_rate': 0.013475158061977487, 'n_estimators': 1260, 'subsample': 0.7494517742417894, 'reg_alpha': 0.018250996289803378, 'reg_lambda': 3.5389651695260467}. Best is trial 27 with value: -0.47630731357731404.\n",
            "[I 2025-03-03 16:00:50,177] Trial 31 finished with value: -0.4790314855666315 and parameters: {'max_depth': 17, 'learning_rate': 0.012848818246548701, 'n_estimators': 1256, 'subsample': 0.9251590351412534, 'reg_alpha': 0.026633202761876265, 'reg_lambda': 5.180319380327561}. Best is trial 27 with value: -0.47630731357731404.\n",
            "[I 2025-03-03 16:04:01,619] Trial 32 finished with value: -0.4769160635013474 and parameters: {'max_depth': 19, 'learning_rate': 0.028091862984807692, 'n_estimators': 1406, 'subsample': 0.7905265995070265, 'reg_alpha': 0.038158418525725636, 'reg_lambda': 3.234512719491983}. Best is trial 27 with value: -0.47630731357731404.\n",
            "[I 2025-03-03 16:04:38,841] Trial 33 finished with value: -0.478159533216186 and parameters: {'max_depth': 19, 'learning_rate': 0.027743966571032123, 'n_estimators': 1416, 'subsample': 0.7800373259811468, 'reg_alpha': 0.15068848781852323, 'reg_lambda': 3.267111255226345}. Best is trial 27 with value: -0.47630731357731404.\n",
            "[I 2025-03-03 16:08:08,072] Trial 34 finished with value: -0.4813556049733407 and parameters: {'max_depth': 19, 'learning_rate': 0.06231020293988676, 'n_estimators': 1370, 'subsample': 0.7896787164137824, 'reg_alpha': 0.009475718454181842, 'reg_lambda': 11.461339478962866}. Best is trial 27 with value: -0.47630731357731404.\n",
            "[I 2025-03-03 16:08:50,901] Trial 35 finished with value: -0.47772635583832923 and parameters: {'max_depth': 19, 'learning_rate': 0.020328411928428575, 'n_estimators': 1345, 'subsample': 0.6828042219569148, 'reg_alpha': 0.007220646963292992, 'reg_lambda': 4.046565682786918}. Best is trial 27 with value: -0.47630731357731404.\n",
            "[I 2025-03-03 16:12:44,702] Trial 36 finished with value: -0.4748095025661744 and parameters: {'max_depth': 21, 'learning_rate': 0.021102620098758136, 'n_estimators': 1280, 'subsample': 0.8612110588642797, 'reg_alpha': 0.005045097539759643, 'reg_lambda': 4.071409653899302}. Best is trial 36 with value: -0.4748095025661744.\n",
            "[I 2025-03-03 16:12:52,911] Trial 37 finished with value: -0.4768805811699835 and parameters: {'max_depth': 21, 'learning_rate': 0.044614676340143745, 'n_estimators': 1040, 'subsample': 0.8548058517224632, 'reg_alpha': 0.03975294065007998, 'reg_lambda': 3.850152430691794}. Best is trial 36 with value: -0.4748095025661744.\n",
            "[I 2025-03-03 16:17:09,875] Trial 38 finished with value: -0.48183432902958867 and parameters: {'max_depth': 21, 'learning_rate': 0.10404374501133692, 'n_estimators': 1450, 'subsample': 0.8542560960073297, 'reg_alpha': 0.006616116629891981, 'reg_lambda': 3.7301653207037457}. Best is trial 36 with value: -0.4748095025661744.\n",
            "[I 2025-03-03 16:17:54,692] Trial 39 finished with value: -0.4743268779531757 and parameters: {'max_depth': 24, 'learning_rate': 0.010056109588332075, 'n_estimators': 1037, 'subsample': 0.8772356025693389, 'reg_alpha': 0.019699548532761006, 'reg_lambda': 4.282962398381557}. Best is trial 39 with value: -0.4743268779531757.\n",
            "[W 2025-03-03 16:18:40,791] Trial 40 failed with parameters: {'max_depth': 24, 'learning_rate': 0.010472099142777587, 'n_estimators': 1016, 'subsample': 0.9643201523389364, 'reg_alpha': 0.018538231302903208, 'reg_lambda': 4.390223070293791} because of the following error: KeyboardInterrupt().\n",
            "joblib.externals.loky.process_executor._RemoteTraceback: \n",
            "\"\"\"\n",
            "Traceback (most recent call last):\n",
            "  File \"/usr/local/lib/python3.11/dist-packages/joblib/externals/loky/process_executor.py\", line 463, in _process_worker\n",
            "    r = call_item()\n",
            "        ^^^^^^^^^^^\n",
            "  File \"/usr/local/lib/python3.11/dist-packages/joblib/externals/loky/process_executor.py\", line 291, in __call__\n",
            "    return self.fn(*self.args, **self.kwargs)\n",
            "           ^^^^^^^^^^^^^^^^^^^^^^^^^^^^^^^^^^\n",
            "  File \"/usr/local/lib/python3.11/dist-packages/joblib/parallel.py\", line 598, in __call__\n",
            "    return [func(*args, **kwargs)\n",
            "           ^^^^^^^^^^^^^^^^^^^^^^\n",
            "  File \"/usr/local/lib/python3.11/dist-packages/joblib/parallel.py\", line 598, in <listcomp>\n",
            "    return [func(*args, **kwargs)\n",
            "            ^^^^^^^^^^^^^^^^^^^^^\n",
            "  File \"/usr/local/lib/python3.11/dist-packages/sklearn/utils/parallel.py\", line 139, in __call__\n",
            "    return self.function(*args, **kwargs)\n",
            "           ^^^^^^^^^^^^^^^^^^^^^^^^^^^^^^\n",
            "  File \"/usr/local/lib/python3.11/dist-packages/sklearn/model_selection/_validation.py\", line 866, in _fit_and_score\n",
            "    estimator.fit(X_train, y_train, **fit_params)\n",
            "  File \"/usr/local/lib/python3.11/dist-packages/xgboost/core.py\", line 726, in inner_f\n",
            "    return func(**kwargs)\n",
            "           ^^^^^^^^^^^^^^\n",
            "  File \"/usr/local/lib/python3.11/dist-packages/xgboost/sklearn.py\", line 1170, in fit\n",
            "    self._Booster = train(\n",
            "                    ^^^^^^\n",
            "  File \"/usr/local/lib/python3.11/dist-packages/xgboost/core.py\", line 726, in inner_f\n",
            "    return func(**kwargs)\n",
            "           ^^^^^^^^^^^^^^\n",
            "  File \"/usr/local/lib/python3.11/dist-packages/xgboost/training.py\", line 181, in train\n",
            "    bst.update(dtrain, iteration=i, fobj=obj)\n",
            "  File \"/usr/local/lib/python3.11/dist-packages/xgboost/core.py\", line 2101, in update\n",
            "    _LIB.XGBoosterUpdateOneIter(\n",
            "KeyboardInterrupt\n",
            "\"\"\"\n",
            "\n",
            "The above exception was the direct cause of the following exception:\n",
            "\n",
            "Traceback (most recent call last):\n",
            "  File \"/usr/local/lib/python3.11/dist-packages/optuna/study/_optimize.py\", line 197, in _run_trial\n",
            "    value_or_values = func(trial)\n",
            "                      ^^^^^^^^^^^\n",
            "  File \"<ipython-input-60-095c04b064f8>\", line 22, in objective\n",
            "    scores = cross_val_score(model, X_train, y_train, scoring=\"neg_mean_absolute_error\", cv=5, n_jobs=-1)\n",
            "             ^^^^^^^^^^^^^^^^^^^^^^^^^^^^^^^^^^^^^^^^^^^^^^^^^^^^^^^^^^^^^^^^^^^^^^^^^^^^^^^^^^^^^^^^^^^^\n",
            "  File \"/usr/local/lib/python3.11/dist-packages/sklearn/utils/_param_validation.py\", line 216, in wrapper\n",
            "    return func(*args, **kwargs)\n",
            "           ^^^^^^^^^^^^^^^^^^^^^\n",
            "  File \"/usr/local/lib/python3.11/dist-packages/sklearn/model_selection/_validation.py\", line 684, in cross_val_score\n",
            "    cv_results = cross_validate(\n",
            "                 ^^^^^^^^^^^^^^^\n",
            "  File \"/usr/local/lib/python3.11/dist-packages/sklearn/utils/_param_validation.py\", line 216, in wrapper\n",
            "    return func(*args, **kwargs)\n",
            "           ^^^^^^^^^^^^^^^^^^^^^\n",
            "  File \"/usr/local/lib/python3.11/dist-packages/sklearn/model_selection/_validation.py\", line 411, in cross_validate\n",
            "    results = parallel(\n",
            "              ^^^^^^^^^\n",
            "  File \"/usr/local/lib/python3.11/dist-packages/sklearn/utils/parallel.py\", line 77, in __call__\n",
            "    return super().__call__(iterable_with_config)\n",
            "           ^^^^^^^^^^^^^^^^^^^^^^^^^^^^^^^^^^^^^^\n",
            "  File \"/usr/local/lib/python3.11/dist-packages/joblib/parallel.py\", line 2007, in __call__\n",
            "    return output if self.return_generator else list(output)\n",
            "                                                ^^^^^^^^^^^^\n",
            "  File \"/usr/local/lib/python3.11/dist-packages/joblib/parallel.py\", line 1650, in _get_outputs\n",
            "    yield from self._retrieve()\n",
            "  File \"/usr/local/lib/python3.11/dist-packages/joblib/parallel.py\", line 1754, in _retrieve\n",
            "    self._raise_error_fast()\n",
            "  File \"/usr/local/lib/python3.11/dist-packages/joblib/parallel.py\", line 1789, in _raise_error_fast\n",
            "    error_job.get_result(self.timeout)\n",
            "  File \"/usr/local/lib/python3.11/dist-packages/joblib/parallel.py\", line 745, in get_result\n",
            "    return self._return_or_raise()\n",
            "           ^^^^^^^^^^^^^^^^^^^^^^^\n",
            "  File \"/usr/local/lib/python3.11/dist-packages/joblib/parallel.py\", line 763, in _return_or_raise\n",
            "    raise self._result\n",
            "KeyboardInterrupt\n",
            "[W 2025-03-03 16:18:40,791] Trial 41 failed with parameters: {'max_depth': 24, 'learning_rate': 0.010239639055270467, 'n_estimators': 1289, 'subsample': 0.9964543964154322, 'reg_alpha': 0.005415552228498187, 'reg_lambda': 4.39360915537265} because of the following error: RuntimeError(\"The executor underlying Parallel has been shutdown. This is likely due to the garbage collection of a previous generator from a call to Parallel with return_as='generator'. Make sure the generator is not garbage collected when submitting a new job or that it is first properly exhausted.\").\n",
            "Traceback (most recent call last):\n",
            "  File \"/usr/local/lib/python3.11/dist-packages/joblib/_parallel_backends.py\", line 595, in retrieve_result_callback\n",
            "    return out.result()\n",
            "           ^^^^^^^^^^^^\n",
            "  File \"/usr/lib/python3.11/concurrent/futures/_base.py\", line 449, in result\n",
            "    return self.__get_result()\n",
            "           ^^^^^^^^^^^^^^^^^^^\n",
            "  File \"/usr/lib/python3.11/concurrent/futures/_base.py\", line 401, in __get_result\n",
            "    raise self._exception\n",
            "joblib.externals.loky.process_executor.ShutdownExecutorError: The Executor was shutdown with `kill_workers=True` before this job could complete.\n",
            "\n",
            "During handling of the above exception, another exception occurred:\n",
            "\n",
            "Traceback (most recent call last):\n",
            "  File \"/usr/local/lib/python3.11/dist-packages/optuna/study/_optimize.py\", line 197, in _run_trial\n",
            "    value_or_values = func(trial)\n",
            "                      ^^^^^^^^^^^\n",
            "  File \"<ipython-input-60-095c04b064f8>\", line 22, in objective\n",
            "    scores = cross_val_score(model, X_train, y_train, scoring=\"neg_mean_absolute_error\", cv=5, n_jobs=-1)\n",
            "             ^^^^^^^^^^^^^^^^^^^^^^^^^^^^^^^^^^^^^^^^^^^^^^^^^^^^^^^^^^^^^^^^^^^^^^^^^^^^^^^^^^^^^^^^^^^^\n",
            "  File \"/usr/local/lib/python3.11/dist-packages/sklearn/utils/_param_validation.py\", line 216, in wrapper\n",
            "    return func(*args, **kwargs)\n",
            "           ^^^^^^^^^^^^^^^^^^^^^\n",
            "  File \"/usr/local/lib/python3.11/dist-packages/sklearn/model_selection/_validation.py\", line 684, in cross_val_score\n",
            "    cv_results = cross_validate(\n",
            "                 ^^^^^^^^^^^^^^^\n",
            "  File \"/usr/local/lib/python3.11/dist-packages/sklearn/utils/_param_validation.py\", line 216, in wrapper\n",
            "    return func(*args, **kwargs)\n",
            "           ^^^^^^^^^^^^^^^^^^^^^\n",
            "  File \"/usr/local/lib/python3.11/dist-packages/sklearn/model_selection/_validation.py\", line 411, in cross_validate\n",
            "    results = parallel(\n",
            "              ^^^^^^^^^\n",
            "  File \"/usr/local/lib/python3.11/dist-packages/sklearn/utils/parallel.py\", line 77, in __call__\n",
            "    return super().__call__(iterable_with_config)\n",
            "           ^^^^^^^^^^^^^^^^^^^^^^^^^^^^^^^^^^^^^^\n",
            "  File \"/usr/local/lib/python3.11/dist-packages/joblib/parallel.py\", line 2007, in __call__\n",
            "    return output if self.return_generator else list(output)\n",
            "                                                ^^^^^^^^^^^^\n",
            "  File \"/usr/local/lib/python3.11/dist-packages/joblib/parallel.py\", line 1650, in _get_outputs\n",
            "    yield from self._retrieve()\n",
            "  File \"/usr/local/lib/python3.11/dist-packages/joblib/parallel.py\", line 1754, in _retrieve\n",
            "    self._raise_error_fast()\n",
            "  File \"/usr/local/lib/python3.11/dist-packages/joblib/parallel.py\", line 1789, in _raise_error_fast\n",
            "    error_job.get_result(self.timeout)\n",
            "  File \"/usr/local/lib/python3.11/dist-packages/joblib/parallel.py\", line 745, in get_result\n",
            "    return self._return_or_raise()\n",
            "           ^^^^^^^^^^^^^^^^^^^^^^^\n",
            "  File \"/usr/local/lib/python3.11/dist-packages/joblib/parallel.py\", line 763, in _return_or_raise\n",
            "    raise self._result\n",
            "RuntimeError: The executor underlying Parallel has been shutdown. This is likely due to the garbage collection of a previous generator from a call to Parallel with return_as='generator'. Make sure the generator is not garbage collected when submitting a new job or that it is first properly exhausted.\n",
            "[W 2025-03-03 16:18:40,794] Trial 40 failed with value None.\n",
            "[W 2025-03-03 16:18:40,798] Trial 41 failed with value None.\n"
          ]
        },
        {
          "ename": "KeyboardInterrupt",
          "evalue": "",
          "output_type": "error",
          "traceback": [
            "\u001b[0;31m---------------------------------------------------------------------------\u001b[0m",
            "\u001b[0;31mKeyboardInterrupt\u001b[0m                         Traceback (most recent call last)",
            "\u001b[0;32m<ipython-input-60-095c04b064f8>\u001b[0m in \u001b[0;36m<cell line: 0>\u001b[0;34m()\u001b[0m\n\u001b[1;32m     25\u001b[0m \u001b[0;31m# Create study and optimize\u001b[0m\u001b[0;34m\u001b[0m\u001b[0;34m\u001b[0m\u001b[0m\n\u001b[1;32m     26\u001b[0m \u001b[0mstudy\u001b[0m \u001b[0;34m=\u001b[0m \u001b[0moptuna\u001b[0m\u001b[0;34m.\u001b[0m\u001b[0mcreate_study\u001b[0m\u001b[0;34m(\u001b[0m\u001b[0mdirection\u001b[0m\u001b[0;34m=\u001b[0m\u001b[0;34m\"maximize\"\u001b[0m\u001b[0;34m)\u001b[0m  \u001b[0;31m# We maximize negative MAE (minimizing MAE)\u001b[0m\u001b[0;34m\u001b[0m\u001b[0;34m\u001b[0m\u001b[0m\n\u001b[0;32m---> 27\u001b[0;31m \u001b[0mstudy\u001b[0m\u001b[0;34m.\u001b[0m\u001b[0moptimize\u001b[0m\u001b[0;34m(\u001b[0m\u001b[0mobjective\u001b[0m\u001b[0;34m,\u001b[0m \u001b[0mn_trials\u001b[0m\u001b[0;34m=\u001b[0m\u001b[0;36m100\u001b[0m\u001b[0;34m,\u001b[0m \u001b[0mn_jobs\u001b[0m\u001b[0;34m=\u001b[0m\u001b[0;34m-\u001b[0m\u001b[0;36m1\u001b[0m\u001b[0;34m)\u001b[0m\u001b[0;34m\u001b[0m\u001b[0;34m\u001b[0m\u001b[0m\n\u001b[0m\u001b[1;32m     28\u001b[0m \u001b[0;34m\u001b[0m\u001b[0m\n\u001b[1;32m     29\u001b[0m \u001b[0;31m# Train final model with best parameters\u001b[0m\u001b[0;34m\u001b[0m\u001b[0;34m\u001b[0m\u001b[0m\n",
            "\u001b[0;32m/usr/local/lib/python3.11/dist-packages/optuna/study/study.py\u001b[0m in \u001b[0;36moptimize\u001b[0;34m(self, func, n_trials, timeout, n_jobs, catch, callbacks, gc_after_trial, show_progress_bar)\u001b[0m\n\u001b[1;32m    473\u001b[0m                 \u001b[0mIf\u001b[0m \u001b[0mnested\u001b[0m \u001b[0minvocation\u001b[0m \u001b[0mof\u001b[0m \u001b[0mthis\u001b[0m \u001b[0mmethod\u001b[0m \u001b[0moccurs\u001b[0m\u001b[0;34m.\u001b[0m\u001b[0;34m\u001b[0m\u001b[0;34m\u001b[0m\u001b[0m\n\u001b[1;32m    474\u001b[0m         \"\"\"\n\u001b[0;32m--> 475\u001b[0;31m         _optimize(\n\u001b[0m\u001b[1;32m    476\u001b[0m             \u001b[0mstudy\u001b[0m\u001b[0;34m=\u001b[0m\u001b[0mself\u001b[0m\u001b[0;34m,\u001b[0m\u001b[0;34m\u001b[0m\u001b[0;34m\u001b[0m\u001b[0m\n\u001b[1;32m    477\u001b[0m             \u001b[0mfunc\u001b[0m\u001b[0;34m=\u001b[0m\u001b[0mfunc\u001b[0m\u001b[0;34m,\u001b[0m\u001b[0;34m\u001b[0m\u001b[0;34m\u001b[0m\u001b[0m\n",
            "\u001b[0;32m/usr/local/lib/python3.11/dist-packages/optuna/study/_optimize.py\u001b[0m in \u001b[0;36m_optimize\u001b[0;34m(study, func, n_trials, timeout, n_jobs, catch, callbacks, gc_after_trial, show_progress_bar)\u001b[0m\n\u001b[1;32m     95\u001b[0m \u001b[0;34m\u001b[0m\u001b[0m\n\u001b[1;32m     96\u001b[0m                     \u001b[0;32mif\u001b[0m \u001b[0mlen\u001b[0m\u001b[0;34m(\u001b[0m\u001b[0mfutures\u001b[0m\u001b[0;34m)\u001b[0m \u001b[0;34m>=\u001b[0m \u001b[0mn_jobs\u001b[0m\u001b[0;34m:\u001b[0m\u001b[0;34m\u001b[0m\u001b[0;34m\u001b[0m\u001b[0m\n\u001b[0;32m---> 97\u001b[0;31m                         \u001b[0mcompleted\u001b[0m\u001b[0;34m,\u001b[0m \u001b[0mfutures\u001b[0m \u001b[0;34m=\u001b[0m \u001b[0mwait\u001b[0m\u001b[0;34m(\u001b[0m\u001b[0mfutures\u001b[0m\u001b[0;34m,\u001b[0m \u001b[0mreturn_when\u001b[0m\u001b[0;34m=\u001b[0m\u001b[0mFIRST_COMPLETED\u001b[0m\u001b[0;34m)\u001b[0m\u001b[0;34m\u001b[0m\u001b[0;34m\u001b[0m\u001b[0m\n\u001b[0m\u001b[1;32m     98\u001b[0m                         \u001b[0;31m# Raise if exception occurred in executing the completed futures.\u001b[0m\u001b[0;34m\u001b[0m\u001b[0;34m\u001b[0m\u001b[0m\n\u001b[1;32m     99\u001b[0m                         \u001b[0;32mfor\u001b[0m \u001b[0mf\u001b[0m \u001b[0;32min\u001b[0m \u001b[0mcompleted\u001b[0m\u001b[0;34m:\u001b[0m\u001b[0;34m\u001b[0m\u001b[0;34m\u001b[0m\u001b[0m\n",
            "\u001b[0;32m/usr/lib/python3.11/concurrent/futures/_base.py\u001b[0m in \u001b[0;36mwait\u001b[0;34m(fs, timeout, return_when)\u001b[0m\n\u001b[1;32m    303\u001b[0m         \u001b[0mwaiter\u001b[0m \u001b[0;34m=\u001b[0m \u001b[0m_create_and_install_waiters\u001b[0m\u001b[0;34m(\u001b[0m\u001b[0mfs\u001b[0m\u001b[0;34m,\u001b[0m \u001b[0mreturn_when\u001b[0m\u001b[0;34m)\u001b[0m\u001b[0;34m\u001b[0m\u001b[0;34m\u001b[0m\u001b[0m\n\u001b[1;32m    304\u001b[0m \u001b[0;34m\u001b[0m\u001b[0m\n\u001b[0;32m--> 305\u001b[0;31m     \u001b[0mwaiter\u001b[0m\u001b[0;34m.\u001b[0m\u001b[0mevent\u001b[0m\u001b[0;34m.\u001b[0m\u001b[0mwait\u001b[0m\u001b[0;34m(\u001b[0m\u001b[0mtimeout\u001b[0m\u001b[0;34m)\u001b[0m\u001b[0;34m\u001b[0m\u001b[0;34m\u001b[0m\u001b[0m\n\u001b[0m\u001b[1;32m    306\u001b[0m     \u001b[0;32mfor\u001b[0m \u001b[0mf\u001b[0m \u001b[0;32min\u001b[0m \u001b[0mfs\u001b[0m\u001b[0;34m:\u001b[0m\u001b[0;34m\u001b[0m\u001b[0;34m\u001b[0m\u001b[0m\n\u001b[1;32m    307\u001b[0m         \u001b[0;32mwith\u001b[0m \u001b[0mf\u001b[0m\u001b[0;34m.\u001b[0m\u001b[0m_condition\u001b[0m\u001b[0;34m:\u001b[0m\u001b[0;34m\u001b[0m\u001b[0;34m\u001b[0m\u001b[0m\n",
            "\u001b[0;32m/usr/lib/python3.11/threading.py\u001b[0m in \u001b[0;36mwait\u001b[0;34m(self, timeout)\u001b[0m\n\u001b[1;32m    627\u001b[0m             \u001b[0msignaled\u001b[0m \u001b[0;34m=\u001b[0m \u001b[0mself\u001b[0m\u001b[0;34m.\u001b[0m\u001b[0m_flag\u001b[0m\u001b[0;34m\u001b[0m\u001b[0;34m\u001b[0m\u001b[0m\n\u001b[1;32m    628\u001b[0m             \u001b[0;32mif\u001b[0m \u001b[0;32mnot\u001b[0m \u001b[0msignaled\u001b[0m\u001b[0;34m:\u001b[0m\u001b[0;34m\u001b[0m\u001b[0;34m\u001b[0m\u001b[0m\n\u001b[0;32m--> 629\u001b[0;31m                 \u001b[0msignaled\u001b[0m \u001b[0;34m=\u001b[0m \u001b[0mself\u001b[0m\u001b[0;34m.\u001b[0m\u001b[0m_cond\u001b[0m\u001b[0;34m.\u001b[0m\u001b[0mwait\u001b[0m\u001b[0;34m(\u001b[0m\u001b[0mtimeout\u001b[0m\u001b[0;34m)\u001b[0m\u001b[0;34m\u001b[0m\u001b[0;34m\u001b[0m\u001b[0m\n\u001b[0m\u001b[1;32m    630\u001b[0m             \u001b[0;32mreturn\u001b[0m \u001b[0msignaled\u001b[0m\u001b[0;34m\u001b[0m\u001b[0;34m\u001b[0m\u001b[0m\n\u001b[1;32m    631\u001b[0m \u001b[0;34m\u001b[0m\u001b[0m\n",
            "\u001b[0;32m/usr/lib/python3.11/threading.py\u001b[0m in \u001b[0;36mwait\u001b[0;34m(self, timeout)\u001b[0m\n\u001b[1;32m    325\u001b[0m         \u001b[0;32mtry\u001b[0m\u001b[0;34m:\u001b[0m    \u001b[0;31m# restore state no matter what (e.g., KeyboardInterrupt)\u001b[0m\u001b[0;34m\u001b[0m\u001b[0;34m\u001b[0m\u001b[0m\n\u001b[1;32m    326\u001b[0m             \u001b[0;32mif\u001b[0m \u001b[0mtimeout\u001b[0m \u001b[0;32mis\u001b[0m \u001b[0;32mNone\u001b[0m\u001b[0;34m:\u001b[0m\u001b[0;34m\u001b[0m\u001b[0;34m\u001b[0m\u001b[0m\n\u001b[0;32m--> 327\u001b[0;31m                 \u001b[0mwaiter\u001b[0m\u001b[0;34m.\u001b[0m\u001b[0macquire\u001b[0m\u001b[0;34m(\u001b[0m\u001b[0;34m)\u001b[0m\u001b[0;34m\u001b[0m\u001b[0;34m\u001b[0m\u001b[0m\n\u001b[0m\u001b[1;32m    328\u001b[0m                 \u001b[0mgotit\u001b[0m \u001b[0;34m=\u001b[0m \u001b[0;32mTrue\u001b[0m\u001b[0;34m\u001b[0m\u001b[0;34m\u001b[0m\u001b[0m\n\u001b[1;32m    329\u001b[0m             \u001b[0;32melse\u001b[0m\u001b[0;34m:\u001b[0m\u001b[0;34m\u001b[0m\u001b[0;34m\u001b[0m\u001b[0m\n",
            "\u001b[0;31mKeyboardInterrupt\u001b[0m: "
          ]
        }
      ],
      "source": [
        "import optuna\n",
        "import numpy as np\n",
        "from xgboost import XGBRegressor\n",
        "from sklearn.model_selection import cross_val_score\n",
        "from sklearn.metrics import mean_absolute_error\n",
        "\n",
        "# Define objective function for Optuna\n",
        "def objective(trial):\n",
        "    params = {\n",
        "        \"max_depth\": trial.suggest_int(\"max_depth\", 10, 25),\n",
        "        \"learning_rate\": trial.suggest_loguniform(\"learning_rate\", 0.01, 0.3),\n",
        "        \"n_estimators\": trial.suggest_int(\"n_estimators\", 500, 1500),\n",
        "        \"subsample\": trial.suggest_float(\"subsample\", 0.5, 1.0),\n",
        "        \"reg_alpha\": trial.suggest_loguniform(\"reg_alpha\", 0.005, 3.0),\n",
        "        \"reg_lambda\": trial.suggest_loguniform(\"reg_lambda\", 3.0, 15.0),\n",
        "        \"random_state\": 42\n",
        "    }\n",
        "\n",
        "    model = XGBRegressor(objective=\"reg:squarederror\", **params)\n",
        "\n",
        "    # Use cross-validation to evaluate model\n",
        "    scores = cross_val_score(model, X_train, y_train, scoring=\"neg_mean_absolute_error\", cv=5, n_jobs=-1)\n",
        "    return np.mean(scores)\n",
        "\n",
        "# Create study and optimize\n",
        "study = optuna.create_study(direction=\"maximize\")  # We maximize negative MAE (minimizing MAE)\n",
        "study.optimize(objective, n_trials=50, n_jobs=-1)\n",
        "\n",
        "# Train final model with best parameters\n",
        "best_params = study.best_params\n",
        "model_optimized = XGBRegressor(objective=\"reg:squarederror\", **best_params)\n",
        "model_optimized.fit(X_train, y_train)\n",
        "\n",
        "# Make predictions\n",
        "y_pred_optuna = np.expm1(model_optimized.predict(X_val))  # Reverse log transformation\n",
        "\n",
        "# Evaluate model\n",
        "mae = mean_absolute_error(y_val, y_pred_optuna)\n",
        "print(\"Best Parameters:\", best_params)\n",
        "print(\"MAE:\", mae)\n"
      ]
    },
    {
      "cell_type": "code",
      "execution_count": null,
      "metadata": {
        "id": "qzzPK7mMcP8Z"
      },
      "outputs": [],
      "source": [
        "# Compute Evaluation Metrics\n",
        "mae = mean_absolute_error(y_val, y_pred_optuna)\n",
        "mse = mean_squared_error(y_val, y_pred_optuna)\n",
        "mape = mean_absolute_percentage_error(y_val, y_pred_optuna)\n",
        "rmse = np.sqrt(mse)\n",
        "r2 = r2_score(y_val, y_pred_optuna)\n",
        "\n",
        "# Print Results\n",
        "print(f\"Model 4 (XGBoost) Performance:\")\n",
        "print(f\"MAE  (Mean Absolute Error): {mae:.4f}\")\n",
        "print(f\"MAPE  (Mean Absolute Percentage Error): {mape:.4f}\")\n",
        "print(f\"MSE  (Mean Squared Error): {mse:.4f}\")\n",
        "print(f\"RMSE (Root Mean Squared Error): {rmse:.4f}\")\n",
        "print(f\"R² Score: {r2:.4f}\")"
      ]
    },
    {
      "cell_type": "markdown",
      "metadata": {
        "id": "ru-LxBzxNHeS"
      },
      "source": [
        "# Comparison"
      ]
    },
    {
      "cell_type": "code",
      "execution_count": null,
      "metadata": {
        "id": "Qu4R-9K9Nr4o"
      },
      "outputs": [],
      "source": [
        "# Ensure all models are trained and available\n",
        "y_pred_baseline = np.expm1(np.clip(baseline.predict(X_val_scaled), -50, 50))  # Baseline Model\n",
        "y_pred_baseline_mean = np.full_like(y_val, np.expm1(baseline_mean))\n",
        "y_pred_model_1 = np.expm1(model_1.predict(X_val))  # Decision Tree\n",
        "y_pred_model_2 = np.expm1(model_2.predict(X_val))  # Random Forest\n",
        "y_pred_model_3 = np.expm1(model_3.predict(X_val))  # Gradient Boosting\n",
        "y_pred_model_4 = np.expm1(model_4.predict(X_val))  # XGBoost\n",
        "y_pred_model_5 = np.expm1(model5.predict(X_val_scaled))  # Neural Network\n",
        "y_pred_optuna = np.expm1(model_optimized.predict(X_val))  # Optuna"
      ]
    },
    {
      "cell_type": "code",
      "execution_count": null,
      "metadata": {
        "id": "V3ez-m49N1kk"
      },
      "outputs": [],
      "source": [
        "# Create a dictionary to store model results\n",
        "results = {}\n",
        "\n",
        "# Function to calculate metrics\n",
        "def evaluate_model(name, y_true, y_pred):\n",
        "    results[name] = {\n",
        "        \"MAE\": mean_absolute_error(y_true, y_pred),\n",
        "        \"MSE\": mean_squared_error(y_true, y_pred),\n",
        "        \"RMSE\": np.sqrt(mean_squared_error(y_true, y_pred)),\n",
        "        \"R² Score\": r2_score(y_true, y_pred),\n",
        "        \"MAPE (%)\": mean_absolute_percentage_error(y_true, y_pred) * 100  # Using sklearn's function\n",
        "\n",
        "    }\n",
        "\n",
        "# Evaluate all models\n",
        "evaluate_model(\"Baseline (Linear Regression)\", y_val, y_pred_baseline)\n",
        "evaluate_model(\"Baseline (Mean)\", y_val, y_pred_baseline_mean)\n",
        "evaluate_model(\"Decision Tree\", y_val, y_pred_model_1)\n",
        "evaluate_model(\"Random Forest\", y_val, y_pred_model_2)\n",
        "evaluate_model(\"Gradient Boosting\", y_val, y_pred_model_3)\n",
        "evaluate_model(\"XGBoost\", y_val, y_pred_model_4)\n",
        "evaluate_model(\"Neural Network\", y_val, y_pred_model_5)\n",
        "evaluate_model(\"Optuna XGBoost\", y_val,y_pred_optuna)"
      ]
    },
    {
      "cell_type": "code",
      "execution_count": null,
      "metadata": {
        "id": "nRb_XwCjOXFV"
      },
      "outputs": [],
      "source": [
        "# Create a df to showcase the results\n",
        "results_df = pd.DataFrame(results).T\n",
        "\n",
        "# Convert scientific notation to fixed-point format\n",
        "results_df_formatted = results_df.copy()\n",
        "\n",
        "# Format all float columns to remove scientific notation\n",
        "results_df_formatted = results_df_formatted.applymap(lambda x: f\"{x:,.2f}\" if isinstance(x, float) else x)\n",
        "\n",
        "results_df_formatted"
      ]
    },
    {
      "cell_type": "markdown",
      "metadata": {
        "id": "tosX6Dy_S9QE"
      },
      "source": [
        "# Creating a pkl file"
      ]
    },
    {
      "cell_type": "code",
      "execution_count": null,
      "metadata": {
        "id": "oPhk8fi8S--9"
      },
      "outputs": [],
      "source": [
        "# Get the best parameters\n",
        "print(\"Best Parameters:\", grid_search.best_params_)"
      ]
    },
    {
      "cell_type": "code",
      "execution_count": null,
      "metadata": {
        "id": "_zvbs9U0UMsJ"
      },
      "outputs": [],
      "source": [
        "import pickle\n",
        "\n",
        "# Save the trained model_4 to a file\n",
        "with open(\"model_4.pkl\", \"wb\") as file:\n",
        "    pickle.dump(model_4, file)\n",
        "\n",
        "print(\"✅ Model saved successfully as 'model_4.pkl'\")"
      ]
    },
    {
      "cell_type": "code",
      "execution_count": null,
      "metadata": {
        "colab": {
          "base_uri": "https://localhost:8080/"
        },
        "id": "TbM1eaF4im9n",
        "outputId": "592b0bad-a848-4894-d851-1f832491b376"
      },
      "outputs": [
        {
          "data": {
            "text/plain": [
              "Index(['prod_year', 'mileage', 'airbags', 'engine_volume',\n",
              "       'leather_interior_yes', 'fuel_type_lpg', 'Model_Grouped_e 350',\n",
              "       'color_silver', 'color_orange', 'wheel_right-hand drive',\n",
              "       'gear_box_type_tiptronic', 'cylinders', 'fuel_type_hybrid',\n",
              "       'fuel_type_diesel', 'Model_Grouped_sonata', 'color_black',\n",
              "       'category_sedan', 'Model_Grouped_camry', 'drive_wheels_front',\n",
              "       'color_white', 'Model_Grouped_others', 'gear_box_type_manual',\n",
              "       'manufacturer_lexus', 'Model_Grouped_gx 460', 'fuel_type_petrol',\n",
              "       'manufacturer_toyota', 'manufacturer_hyundai', 'Model_Grouped_ml 350',\n",
              "       'turbo', 'category_hatchback', 'color_grey', 'category_jeep',\n",
              "       'drive_wheels_rear', 'manufacturer_mercedes-benz', 'Model_Grouped_fit',\n",
              "       'gear_box_type_variator', 'category_coupe', 'color_blue',\n",
              "       'Model_Grouped_highlander', 'manufacturer_honda',\n",
              "       'Model_Grouped_elantra', 'doors_04-may', 'color_green',\n",
              "       'Model_Grouped_prius', 'manufacturer_mazda', 'manufacturer_opel',\n",
              "       'category_minivan', 'color_red', 'manufacturer_nissan',\n",
              "       'manufacturer_bmw', 'color_carnelian red', 'doors_>5',\n",
              "       'manufacturer_chevrolet', 'manufacturer_ford', 'Model_Grouped_fusion',\n",
              "       'color_brown', 'Model_Grouped_santa fe', 'category_universal',\n",
              "       'category_goods wagon', 'color_sky blue', 'Model_Grouped_h1',\n",
              "       'Model_Grouped_aqua', 'category_microbus', 'manufacturer_kia',\n",
              "       'Model_Grouped_x5', 'manufacturer_audi'],\n",
              "      dtype='object')"
            ]
          },
          "execution_count": 101,
          "metadata": {},
          "output_type": "execute_result"
        }
      ],
      "source": [
        "X_new.columns"
      ]
    },
    {
      "cell_type": "code",
      "execution_count": null,
      "metadata": {
        "id": "EhChdVK3hWIY"
      },
      "outputs": [],
      "source": [
        "def preprocess_data(df, model_features):\n",
        "    \"\"\"\n",
        "    Apply preprocessing steps to the input DataFrame.\n",
        "    Ensure output matches the model's expected features.\n",
        "    \"\"\"\n",
        "    df['turbo'] = df['engine_volume'].str.contains('Turbo', case=False, regex=False).astype(str)\n",
        "\n",
        "    # Lowercase column names\n",
        "    df.columns = df.columns.str.lower()\n",
        "\n",
        "    # Convert Turbo from \"Yes\"/\"No\" to binary (1/0)\n",
        "    df[\"turbo\"] = df[\"turbo\"].apply(lambda x: 1 if x.lower() == \"yes\" else 0)\n",
        "\n",
        "    # Convert Engine volume to cubic cm\n",
        "    df[\"engine_volume\"] = df[\"engine_volume\"] * 1000\n",
        "\n",
        "    # Convert Cylinders to integer\n",
        "    df[\"cylinders\"] = df[\"cylinders\"].astype(int)\n",
        "\n",
        "    # One-hot encoding for categorical variables\n",
        "    categorical_cols = df.select_dtypes(include=[\"object\"]).columns\n",
        "    df = pd.get_dummies(df, columns=categorical_cols, drop_first=True)\n",
        "\n",
        "    # Ensure the order of columns matches the model's expected features\n",
        "    for col in model_features:\n",
        "        if col not in df:\n",
        "            df[col] = 0  # Add missing columns as zero (for unseen categories)\n",
        "\n",
        "    df = df[model_features]  # Reorder to match model input\n",
        "\n",
        "    return df\n",
        "\n",
        "def transform_input_data(data, model_features):\n",
        "    \"\"\"\n",
        "    Convert input dictionary to DataFrame and apply preprocessing.\n",
        "    \"\"\"\n",
        "    df = pd.DataFrame([data])\n",
        "    return preprocess_data(df, model_features)"
      ]
    },
    {
      "cell_type": "code",
      "execution_count": null,
      "metadata": {
        "colab": {
          "base_uri": "https://localhost:8080/",
          "height": 443
        },
        "id": "uvzakN2B10Hq",
        "outputId": "8aa2cf5e-d23e-47e4-be91-789cfa002c0a"
      },
      "outputs": [
        {
          "data": {
            "application/vnd.google.colaboratory.intrinsic+json": {
              "summary": "{\n  \"name\": \"preprocess_data(df,df\",\n  \"rows\": 19237,\n  \"fields\": [\n    {\n      \"column\": \"id\",\n      \"properties\": {\n        \"dtype\": \"number\",\n        \"std\": 936591,\n        \"min\": 20746880,\n        \"max\": 45816654,\n        \"num_unique_values\": 18924,\n        \"samples\": [\n          45770559,\n          45812744,\n          45803306\n        ],\n        \"semantic_type\": \"\",\n        \"description\": \"\"\n      }\n    },\n    {\n      \"column\": \"price\",\n      \"properties\": {\n        \"dtype\": \"number\",\n        \"std\": 190581,\n        \"min\": 1,\n        \"max\": 26307500,\n        \"num_unique_values\": 2315,\n        \"samples\": [\n          31650,\n          10914,\n          9408\n        ],\n        \"semantic_type\": \"\",\n        \"description\": \"\"\n      }\n    },\n    {\n      \"column\": \"levy\",\n      \"properties\": {\n        \"dtype\": \"number\",\n        \"std\": 0,\n        \"min\": 0,\n        \"max\": 0,\n        \"num_unique_values\": 1,\n        \"samples\": [\n          0\n        ],\n        \"semantic_type\": \"\",\n        \"description\": \"\"\n      }\n    },\n    {\n      \"column\": \"manufacturer\",\n      \"properties\": {\n        \"dtype\": \"number\",\n        \"std\": 0,\n        \"min\": 0,\n        \"max\": 0,\n        \"num_unique_values\": 1,\n        \"samples\": [\n          0\n        ],\n        \"semantic_type\": \"\",\n        \"description\": \"\"\n      }\n    },\n    {\n      \"column\": \"model\",\n      \"properties\": {\n        \"dtype\": \"number\",\n        \"std\": 0,\n        \"min\": 0,\n        \"max\": 0,\n        \"num_unique_values\": 1,\n        \"samples\": [\n          0\n        ],\n        \"semantic_type\": \"\",\n        \"description\": \"\"\n      }\n    },\n    {\n      \"column\": \"prod_year\",\n      \"properties\": {\n        \"dtype\": \"number\",\n        \"std\": 5,\n        \"min\": 1939,\n        \"max\": 2020,\n        \"num_unique_values\": 54,\n        \"samples\": [\n          2004\n        ],\n        \"semantic_type\": \"\",\n        \"description\": \"\"\n      }\n    },\n    {\n      \"column\": \"category\",\n      \"properties\": {\n        \"dtype\": \"number\",\n        \"std\": 0,\n        \"min\": 0,\n        \"max\": 0,\n        \"num_unique_values\": 1,\n        \"samples\": [\n          0\n        ],\n        \"semantic_type\": \"\",\n        \"description\": \"\"\n      }\n    },\n    {\n      \"column\": \"leather_interior\",\n      \"properties\": {\n        \"dtype\": \"number\",\n        \"std\": 0,\n        \"min\": 0,\n        \"max\": 0,\n        \"num_unique_values\": 1,\n        \"samples\": [\n          0\n        ],\n        \"semantic_type\": \"\",\n        \"description\": \"\"\n      }\n    },\n    {\n      \"column\": \"fuel_type\",\n      \"properties\": {\n        \"dtype\": \"number\",\n        \"std\": 0,\n        \"min\": 0,\n        \"max\": 0,\n        \"num_unique_values\": 1,\n        \"samples\": [\n          0\n        ],\n        \"semantic_type\": \"\",\n        \"description\": \"\"\n      }\n    },\n    {\n      \"column\": \"engine_volume\",\n      \"properties\": {\n        \"dtype\": \"number\",\n        \"std\": 0,\n        \"min\": 0,\n        \"max\": 0,\n        \"num_unique_values\": 1,\n        \"samples\": [\n          0\n        ],\n        \"semantic_type\": \"\",\n        \"description\": \"\"\n      }\n    },\n    {\n      \"column\": \"mileage\",\n      \"properties\": {\n        \"dtype\": \"number\",\n        \"std\": 0,\n        \"min\": 0,\n        \"max\": 0,\n        \"num_unique_values\": 1,\n        \"samples\": [\n          0\n        ],\n        \"semantic_type\": \"\",\n        \"description\": \"\"\n      }\n    },\n    {\n      \"column\": \"cylinders\",\n      \"properties\": {\n        \"dtype\": \"number\",\n        \"std\": 1,\n        \"min\": 1,\n        \"max\": 16,\n        \"num_unique_values\": 13,\n        \"samples\": [\n          10\n        ],\n        \"semantic_type\": \"\",\n        \"description\": \"\"\n      }\n    },\n    {\n      \"column\": \"gear_box_type\",\n      \"properties\": {\n        \"dtype\": \"number\",\n        \"std\": 0,\n        \"min\": 0,\n        \"max\": 0,\n        \"num_unique_values\": 1,\n        \"samples\": [\n          0\n        ],\n        \"semantic_type\": \"\",\n        \"description\": \"\"\n      }\n    },\n    {\n      \"column\": \"drive_wheels\",\n      \"properties\": {\n        \"dtype\": \"number\",\n        \"std\": 0,\n        \"min\": 0,\n        \"max\": 0,\n        \"num_unique_values\": 1,\n        \"samples\": [\n          0\n        ],\n        \"semantic_type\": \"\",\n        \"description\": \"\"\n      }\n    },\n    {\n      \"column\": \"doors\",\n      \"properties\": {\n        \"dtype\": \"number\",\n        \"std\": 0,\n        \"min\": 0,\n        \"max\": 0,\n        \"num_unique_values\": 1,\n        \"samples\": [\n          0\n        ],\n        \"semantic_type\": \"\",\n        \"description\": \"\"\n      }\n    },\n    {\n      \"column\": \"wheel\",\n      \"properties\": {\n        \"dtype\": \"number\",\n        \"std\": 0,\n        \"min\": 0,\n        \"max\": 0,\n        \"num_unique_values\": 1,\n        \"samples\": [\n          0\n        ],\n        \"semantic_type\": \"\",\n        \"description\": \"\"\n      }\n    },\n    {\n      \"column\": \"color\",\n      \"properties\": {\n        \"dtype\": \"number\",\n        \"std\": 0,\n        \"min\": 0,\n        \"max\": 0,\n        \"num_unique_values\": 1,\n        \"samples\": [\n          0\n        ],\n        \"semantic_type\": \"\",\n        \"description\": \"\"\n      }\n    },\n    {\n      \"column\": \"airbags\",\n      \"properties\": {\n        \"dtype\": \"number\",\n        \"std\": 4,\n        \"min\": 0,\n        \"max\": 16,\n        \"num_unique_values\": 17,\n        \"samples\": [\n          12\n        ],\n        \"semantic_type\": \"\",\n        \"description\": \"\"\n      }\n    },\n    {\n      \"column\": \"turbo\",\n      \"properties\": {\n        \"dtype\": \"number\",\n        \"std\": 0,\n        \"min\": 0,\n        \"max\": 0,\n        \"num_unique_values\": 1,\n        \"samples\": [\n          0\n        ],\n        \"semantic_type\": \"\",\n        \"description\": \"\"\n      }\n    }\n  ]\n}",
              "type": "dataframe"
            },
            "text/html": [
              "\n",
              "  <div id=\"df-88be0ed6-80e0-413c-ad4b-ed4c0d454a21\" class=\"colab-df-container\">\n",
              "    <div>\n",
              "<style scoped>\n",
              "    .dataframe tbody tr th:only-of-type {\n",
              "        vertical-align: middle;\n",
              "    }\n",
              "\n",
              "    .dataframe tbody tr th {\n",
              "        vertical-align: top;\n",
              "    }\n",
              "\n",
              "    .dataframe thead th {\n",
              "        text-align: right;\n",
              "    }\n",
              "</style>\n",
              "<table border=\"1\" class=\"dataframe\">\n",
              "  <thead>\n",
              "    <tr style=\"text-align: right;\">\n",
              "      <th></th>\n",
              "      <th>id</th>\n",
              "      <th>price</th>\n",
              "      <th>levy</th>\n",
              "      <th>manufacturer</th>\n",
              "      <th>model</th>\n",
              "      <th>prod_year</th>\n",
              "      <th>category</th>\n",
              "      <th>leather_interior</th>\n",
              "      <th>fuel_type</th>\n",
              "      <th>engine_volume</th>\n",
              "      <th>mileage</th>\n",
              "      <th>cylinders</th>\n",
              "      <th>gear_box_type</th>\n",
              "      <th>drive_wheels</th>\n",
              "      <th>doors</th>\n",
              "      <th>wheel</th>\n",
              "      <th>color</th>\n",
              "      <th>airbags</th>\n",
              "      <th>turbo</th>\n",
              "    </tr>\n",
              "  </thead>\n",
              "  <tbody>\n",
              "    <tr>\n",
              "      <th>0</th>\n",
              "      <td>45654403</td>\n",
              "      <td>13328</td>\n",
              "      <td>0</td>\n",
              "      <td>0</td>\n",
              "      <td>0</td>\n",
              "      <td>2010</td>\n",
              "      <td>0</td>\n",
              "      <td>0</td>\n",
              "      <td>0</td>\n",
              "      <td>0</td>\n",
              "      <td>0</td>\n",
              "      <td>6</td>\n",
              "      <td>0</td>\n",
              "      <td>0</td>\n",
              "      <td>0</td>\n",
              "      <td>0</td>\n",
              "      <td>0</td>\n",
              "      <td>12</td>\n",
              "      <td>0</td>\n",
              "    </tr>\n",
              "    <tr>\n",
              "      <th>1</th>\n",
              "      <td>44731507</td>\n",
              "      <td>16621</td>\n",
              "      <td>0</td>\n",
              "      <td>0</td>\n",
              "      <td>0</td>\n",
              "      <td>2011</td>\n",
              "      <td>0</td>\n",
              "      <td>0</td>\n",
              "      <td>0</td>\n",
              "      <td>0</td>\n",
              "      <td>0</td>\n",
              "      <td>6</td>\n",
              "      <td>0</td>\n",
              "      <td>0</td>\n",
              "      <td>0</td>\n",
              "      <td>0</td>\n",
              "      <td>0</td>\n",
              "      <td>8</td>\n",
              "      <td>0</td>\n",
              "    </tr>\n",
              "    <tr>\n",
              "      <th>2</th>\n",
              "      <td>45774419</td>\n",
              "      <td>8467</td>\n",
              "      <td>0</td>\n",
              "      <td>0</td>\n",
              "      <td>0</td>\n",
              "      <td>2006</td>\n",
              "      <td>0</td>\n",
              "      <td>0</td>\n",
              "      <td>0</td>\n",
              "      <td>0</td>\n",
              "      <td>0</td>\n",
              "      <td>4</td>\n",
              "      <td>0</td>\n",
              "      <td>0</td>\n",
              "      <td>0</td>\n",
              "      <td>0</td>\n",
              "      <td>0</td>\n",
              "      <td>2</td>\n",
              "      <td>0</td>\n",
              "    </tr>\n",
              "    <tr>\n",
              "      <th>3</th>\n",
              "      <td>45769185</td>\n",
              "      <td>3607</td>\n",
              "      <td>0</td>\n",
              "      <td>0</td>\n",
              "      <td>0</td>\n",
              "      <td>2011</td>\n",
              "      <td>0</td>\n",
              "      <td>0</td>\n",
              "      <td>0</td>\n",
              "      <td>0</td>\n",
              "      <td>0</td>\n",
              "      <td>4</td>\n",
              "      <td>0</td>\n",
              "      <td>0</td>\n",
              "      <td>0</td>\n",
              "      <td>0</td>\n",
              "      <td>0</td>\n",
              "      <td>0</td>\n",
              "      <td>0</td>\n",
              "    </tr>\n",
              "    <tr>\n",
              "      <th>4</th>\n",
              "      <td>45809263</td>\n",
              "      <td>11726</td>\n",
              "      <td>0</td>\n",
              "      <td>0</td>\n",
              "      <td>0</td>\n",
              "      <td>2014</td>\n",
              "      <td>0</td>\n",
              "      <td>0</td>\n",
              "      <td>0</td>\n",
              "      <td>0</td>\n",
              "      <td>0</td>\n",
              "      <td>4</td>\n",
              "      <td>0</td>\n",
              "      <td>0</td>\n",
              "      <td>0</td>\n",
              "      <td>0</td>\n",
              "      <td>0</td>\n",
              "      <td>4</td>\n",
              "      <td>0</td>\n",
              "    </tr>\n",
              "    <tr>\n",
              "      <th>...</th>\n",
              "      <td>...</td>\n",
              "      <td>...</td>\n",
              "      <td>...</td>\n",
              "      <td>...</td>\n",
              "      <td>...</td>\n",
              "      <td>...</td>\n",
              "      <td>...</td>\n",
              "      <td>...</td>\n",
              "      <td>...</td>\n",
              "      <td>...</td>\n",
              "      <td>...</td>\n",
              "      <td>...</td>\n",
              "      <td>...</td>\n",
              "      <td>...</td>\n",
              "      <td>...</td>\n",
              "      <td>...</td>\n",
              "      <td>...</td>\n",
              "      <td>...</td>\n",
              "      <td>...</td>\n",
              "    </tr>\n",
              "    <tr>\n",
              "      <th>19232</th>\n",
              "      <td>45798355</td>\n",
              "      <td>8467</td>\n",
              "      <td>0</td>\n",
              "      <td>0</td>\n",
              "      <td>0</td>\n",
              "      <td>1999</td>\n",
              "      <td>0</td>\n",
              "      <td>0</td>\n",
              "      <td>0</td>\n",
              "      <td>0</td>\n",
              "      <td>0</td>\n",
              "      <td>4</td>\n",
              "      <td>0</td>\n",
              "      <td>0</td>\n",
              "      <td>0</td>\n",
              "      <td>0</td>\n",
              "      <td>0</td>\n",
              "      <td>5</td>\n",
              "      <td>0</td>\n",
              "    </tr>\n",
              "    <tr>\n",
              "      <th>19233</th>\n",
              "      <td>45778856</td>\n",
              "      <td>15681</td>\n",
              "      <td>0</td>\n",
              "      <td>0</td>\n",
              "      <td>0</td>\n",
              "      <td>2011</td>\n",
              "      <td>0</td>\n",
              "      <td>0</td>\n",
              "      <td>0</td>\n",
              "      <td>0</td>\n",
              "      <td>0</td>\n",
              "      <td>4</td>\n",
              "      <td>0</td>\n",
              "      <td>0</td>\n",
              "      <td>0</td>\n",
              "      <td>0</td>\n",
              "      <td>0</td>\n",
              "      <td>8</td>\n",
              "      <td>0</td>\n",
              "    </tr>\n",
              "    <tr>\n",
              "      <th>19234</th>\n",
              "      <td>45804997</td>\n",
              "      <td>26108</td>\n",
              "      <td>0</td>\n",
              "      <td>0</td>\n",
              "      <td>0</td>\n",
              "      <td>2010</td>\n",
              "      <td>0</td>\n",
              "      <td>0</td>\n",
              "      <td>0</td>\n",
              "      <td>0</td>\n",
              "      <td>0</td>\n",
              "      <td>4</td>\n",
              "      <td>0</td>\n",
              "      <td>0</td>\n",
              "      <td>0</td>\n",
              "      <td>0</td>\n",
              "      <td>0</td>\n",
              "      <td>4</td>\n",
              "      <td>0</td>\n",
              "    </tr>\n",
              "    <tr>\n",
              "      <th>19235</th>\n",
              "      <td>45793526</td>\n",
              "      <td>5331</td>\n",
              "      <td>0</td>\n",
              "      <td>0</td>\n",
              "      <td>0</td>\n",
              "      <td>2007</td>\n",
              "      <td>0</td>\n",
              "      <td>0</td>\n",
              "      <td>0</td>\n",
              "      <td>0</td>\n",
              "      <td>0</td>\n",
              "      <td>4</td>\n",
              "      <td>0</td>\n",
              "      <td>0</td>\n",
              "      <td>0</td>\n",
              "      <td>0</td>\n",
              "      <td>0</td>\n",
              "      <td>4</td>\n",
              "      <td>0</td>\n",
              "    </tr>\n",
              "    <tr>\n",
              "      <th>19236</th>\n",
              "      <td>45813273</td>\n",
              "      <td>470</td>\n",
              "      <td>0</td>\n",
              "      <td>0</td>\n",
              "      <td>0</td>\n",
              "      <td>2012</td>\n",
              "      <td>0</td>\n",
              "      <td>0</td>\n",
              "      <td>0</td>\n",
              "      <td>0</td>\n",
              "      <td>0</td>\n",
              "      <td>4</td>\n",
              "      <td>0</td>\n",
              "      <td>0</td>\n",
              "      <td>0</td>\n",
              "      <td>0</td>\n",
              "      <td>0</td>\n",
              "      <td>12</td>\n",
              "      <td>0</td>\n",
              "    </tr>\n",
              "  </tbody>\n",
              "</table>\n",
              "<p>19237 rows × 19 columns</p>\n",
              "</div>\n",
              "    <div class=\"colab-df-buttons\">\n",
              "\n",
              "  <div class=\"colab-df-container\">\n",
              "    <button class=\"colab-df-convert\" onclick=\"convertToInteractive('df-88be0ed6-80e0-413c-ad4b-ed4c0d454a21')\"\n",
              "            title=\"Convert this dataframe to an interactive table.\"\n",
              "            style=\"display:none;\">\n",
              "\n",
              "  <svg xmlns=\"http://www.w3.org/2000/svg\" height=\"24px\" viewBox=\"0 -960 960 960\">\n",
              "    <path d=\"M120-120v-720h720v720H120Zm60-500h600v-160H180v160Zm220 220h160v-160H400v160Zm0 220h160v-160H400v160ZM180-400h160v-160H180v160Zm440 0h160v-160H620v160ZM180-180h160v-160H180v160Zm440 0h160v-160H620v160Z\"/>\n",
              "  </svg>\n",
              "    </button>\n",
              "\n",
              "  <style>\n",
              "    .colab-df-container {\n",
              "      display:flex;\n",
              "      gap: 12px;\n",
              "    }\n",
              "\n",
              "    .colab-df-convert {\n",
              "      background-color: #E8F0FE;\n",
              "      border: none;\n",
              "      border-radius: 50%;\n",
              "      cursor: pointer;\n",
              "      display: none;\n",
              "      fill: #1967D2;\n",
              "      height: 32px;\n",
              "      padding: 0 0 0 0;\n",
              "      width: 32px;\n",
              "    }\n",
              "\n",
              "    .colab-df-convert:hover {\n",
              "      background-color: #E2EBFA;\n",
              "      box-shadow: 0px 1px 2px rgba(60, 64, 67, 0.3), 0px 1px 3px 1px rgba(60, 64, 67, 0.15);\n",
              "      fill: #174EA6;\n",
              "    }\n",
              "\n",
              "    .colab-df-buttons div {\n",
              "      margin-bottom: 4px;\n",
              "    }\n",
              "\n",
              "    [theme=dark] .colab-df-convert {\n",
              "      background-color: #3B4455;\n",
              "      fill: #D2E3FC;\n",
              "    }\n",
              "\n",
              "    [theme=dark] .colab-df-convert:hover {\n",
              "      background-color: #434B5C;\n",
              "      box-shadow: 0px 1px 3px 1px rgba(0, 0, 0, 0.15);\n",
              "      filter: drop-shadow(0px 1px 2px rgba(0, 0, 0, 0.3));\n",
              "      fill: #FFFFFF;\n",
              "    }\n",
              "  </style>\n",
              "\n",
              "    <script>\n",
              "      const buttonEl =\n",
              "        document.querySelector('#df-88be0ed6-80e0-413c-ad4b-ed4c0d454a21 button.colab-df-convert');\n",
              "      buttonEl.style.display =\n",
              "        google.colab.kernel.accessAllowed ? 'block' : 'none';\n",
              "\n",
              "      async function convertToInteractive(key) {\n",
              "        const element = document.querySelector('#df-88be0ed6-80e0-413c-ad4b-ed4c0d454a21');\n",
              "        const dataTable =\n",
              "          await google.colab.kernel.invokeFunction('convertToInteractive',\n",
              "                                                    [key], {});\n",
              "        if (!dataTable) return;\n",
              "\n",
              "        const docLinkHtml = 'Like what you see? Visit the ' +\n",
              "          '<a target=\"_blank\" href=https://colab.research.google.com/notebooks/data_table.ipynb>data table notebook</a>'\n",
              "          + ' to learn more about interactive tables.';\n",
              "        element.innerHTML = '';\n",
              "        dataTable['output_type'] = 'display_data';\n",
              "        await google.colab.output.renderOutput(dataTable, element);\n",
              "        const docLink = document.createElement('div');\n",
              "        docLink.innerHTML = docLinkHtml;\n",
              "        element.appendChild(docLink);\n",
              "      }\n",
              "    </script>\n",
              "  </div>\n",
              "\n",
              "\n",
              "<div id=\"df-1e599d7b-84b5-4202-bcc3-4bb8b16c8b68\">\n",
              "  <button class=\"colab-df-quickchart\" onclick=\"quickchart('df-1e599d7b-84b5-4202-bcc3-4bb8b16c8b68')\"\n",
              "            title=\"Suggest charts\"\n",
              "            style=\"display:none;\">\n",
              "\n",
              "<svg xmlns=\"http://www.w3.org/2000/svg\" height=\"24px\"viewBox=\"0 0 24 24\"\n",
              "     width=\"24px\">\n",
              "    <g>\n",
              "        <path d=\"M19 3H5c-1.1 0-2 .9-2 2v14c0 1.1.9 2 2 2h14c1.1 0 2-.9 2-2V5c0-1.1-.9-2-2-2zM9 17H7v-7h2v7zm4 0h-2V7h2v10zm4 0h-2v-4h2v4z\"/>\n",
              "    </g>\n",
              "</svg>\n",
              "  </button>\n",
              "\n",
              "<style>\n",
              "  .colab-df-quickchart {\n",
              "      --bg-color: #E8F0FE;\n",
              "      --fill-color: #1967D2;\n",
              "      --hover-bg-color: #E2EBFA;\n",
              "      --hover-fill-color: #174EA6;\n",
              "      --disabled-fill-color: #AAA;\n",
              "      --disabled-bg-color: #DDD;\n",
              "  }\n",
              "\n",
              "  [theme=dark] .colab-df-quickchart {\n",
              "      --bg-color: #3B4455;\n",
              "      --fill-color: #D2E3FC;\n",
              "      --hover-bg-color: #434B5C;\n",
              "      --hover-fill-color: #FFFFFF;\n",
              "      --disabled-bg-color: #3B4455;\n",
              "      --disabled-fill-color: #666;\n",
              "  }\n",
              "\n",
              "  .colab-df-quickchart {\n",
              "    background-color: var(--bg-color);\n",
              "    border: none;\n",
              "    border-radius: 50%;\n",
              "    cursor: pointer;\n",
              "    display: none;\n",
              "    fill: var(--fill-color);\n",
              "    height: 32px;\n",
              "    padding: 0;\n",
              "    width: 32px;\n",
              "  }\n",
              "\n",
              "  .colab-df-quickchart:hover {\n",
              "    background-color: var(--hover-bg-color);\n",
              "    box-shadow: 0 1px 2px rgba(60, 64, 67, 0.3), 0 1px 3px 1px rgba(60, 64, 67, 0.15);\n",
              "    fill: var(--button-hover-fill-color);\n",
              "  }\n",
              "\n",
              "  .colab-df-quickchart-complete:disabled,\n",
              "  .colab-df-quickchart-complete:disabled:hover {\n",
              "    background-color: var(--disabled-bg-color);\n",
              "    fill: var(--disabled-fill-color);\n",
              "    box-shadow: none;\n",
              "  }\n",
              "\n",
              "  .colab-df-spinner {\n",
              "    border: 2px solid var(--fill-color);\n",
              "    border-color: transparent;\n",
              "    border-bottom-color: var(--fill-color);\n",
              "    animation:\n",
              "      spin 1s steps(1) infinite;\n",
              "  }\n",
              "\n",
              "  @keyframes spin {\n",
              "    0% {\n",
              "      border-color: transparent;\n",
              "      border-bottom-color: var(--fill-color);\n",
              "      border-left-color: var(--fill-color);\n",
              "    }\n",
              "    20% {\n",
              "      border-color: transparent;\n",
              "      border-left-color: var(--fill-color);\n",
              "      border-top-color: var(--fill-color);\n",
              "    }\n",
              "    30% {\n",
              "      border-color: transparent;\n",
              "      border-left-color: var(--fill-color);\n",
              "      border-top-color: var(--fill-color);\n",
              "      border-right-color: var(--fill-color);\n",
              "    }\n",
              "    40% {\n",
              "      border-color: transparent;\n",
              "      border-right-color: var(--fill-color);\n",
              "      border-top-color: var(--fill-color);\n",
              "    }\n",
              "    60% {\n",
              "      border-color: transparent;\n",
              "      border-right-color: var(--fill-color);\n",
              "    }\n",
              "    80% {\n",
              "      border-color: transparent;\n",
              "      border-right-color: var(--fill-color);\n",
              "      border-bottom-color: var(--fill-color);\n",
              "    }\n",
              "    90% {\n",
              "      border-color: transparent;\n",
              "      border-bottom-color: var(--fill-color);\n",
              "    }\n",
              "  }\n",
              "</style>\n",
              "\n",
              "  <script>\n",
              "    async function quickchart(key) {\n",
              "      const quickchartButtonEl =\n",
              "        document.querySelector('#' + key + ' button');\n",
              "      quickchartButtonEl.disabled = true;  // To prevent multiple clicks.\n",
              "      quickchartButtonEl.classList.add('colab-df-spinner');\n",
              "      try {\n",
              "        const charts = await google.colab.kernel.invokeFunction(\n",
              "            'suggestCharts', [key], {});\n",
              "      } catch (error) {\n",
              "        console.error('Error during call to suggestCharts:', error);\n",
              "      }\n",
              "      quickchartButtonEl.classList.remove('colab-df-spinner');\n",
              "      quickchartButtonEl.classList.add('colab-df-quickchart-complete');\n",
              "    }\n",
              "    (() => {\n",
              "      let quickchartButtonEl =\n",
              "        document.querySelector('#df-1e599d7b-84b5-4202-bcc3-4bb8b16c8b68 button');\n",
              "      quickchartButtonEl.style.display =\n",
              "        google.colab.kernel.accessAllowed ? 'block' : 'none';\n",
              "    })();\n",
              "  </script>\n",
              "</div>\n",
              "\n",
              "    </div>\n",
              "  </div>\n"
            ],
            "text/plain": [
              "             id  price  levy  manufacturer  model  prod_year  category  \\\n",
              "0      45654403  13328     0             0      0       2010         0   \n",
              "1      44731507  16621     0             0      0       2011         0   \n",
              "2      45774419   8467     0             0      0       2006         0   \n",
              "3      45769185   3607     0             0      0       2011         0   \n",
              "4      45809263  11726     0             0      0       2014         0   \n",
              "...         ...    ...   ...           ...    ...        ...       ...   \n",
              "19232  45798355   8467     0             0      0       1999         0   \n",
              "19233  45778856  15681     0             0      0       2011         0   \n",
              "19234  45804997  26108     0             0      0       2010         0   \n",
              "19235  45793526   5331     0             0      0       2007         0   \n",
              "19236  45813273    470     0             0      0       2012         0   \n",
              "\n",
              "       leather_interior  fuel_type  engine_volume  mileage  cylinders  \\\n",
              "0                     0          0              0        0          6   \n",
              "1                     0          0              0        0          6   \n",
              "2                     0          0              0        0          4   \n",
              "3                     0          0              0        0          4   \n",
              "4                     0          0              0        0          4   \n",
              "...                 ...        ...            ...      ...        ...   \n",
              "19232                 0          0              0        0          4   \n",
              "19233                 0          0              0        0          4   \n",
              "19234                 0          0              0        0          4   \n",
              "19235                 0          0              0        0          4   \n",
              "19236                 0          0              0        0          4   \n",
              "\n",
              "       gear_box_type  drive_wheels  doors  wheel  color  airbags  turbo  \n",
              "0                  0             0      0      0      0       12      0  \n",
              "1                  0             0      0      0      0        8      0  \n",
              "2                  0             0      0      0      0        2      0  \n",
              "3                  0             0      0      0      0        0      0  \n",
              "4                  0             0      0      0      0        4      0  \n",
              "...              ...           ...    ...    ...    ...      ...    ...  \n",
              "19232              0             0      0      0      0        5      0  \n",
              "19233              0             0      0      0      0        8      0  \n",
              "19234              0             0      0      0      0        4      0  \n",
              "19235              0             0      0      0      0        4      0  \n",
              "19236              0             0      0      0      0       12      0  \n",
              "\n",
              "[19237 rows x 19 columns]"
            ]
          },
          "execution_count": 117,
          "metadata": {},
          "output_type": "execute_result"
        }
      ],
      "source": [
        "preprocess_data(df,df.columns.tolist())"
      ]
    },
    {
      "cell_type": "code",
      "execution_count": null,
      "metadata": {
        "colab": {
          "base_uri": "https://localhost:8080/"
        },
        "id": "vRNB5d_B13y4",
        "outputId": "1f56d5ab-5c9c-41b4-dc60-4931ae829279"
      },
      "outputs": [
        {
          "name": "stdout",
          "output_type": "stream",
          "text": [
            "['id', 'price', 'levy', 'manufacturer', 'model', 'prod_year', 'category', 'leather_interior', 'fuel_type', 'engine_volume', 'mileage', 'cylinders', 'gear_box_type', 'drive_wheels', 'doors', 'wheel', 'color', 'airbags']\n"
          ]
        }
      ],
      "source": [
        "print(df.columns.tolist())\n"
      ]
    },
    {
      "cell_type": "code",
      "execution_count": null,
      "metadata": {
        "id": "tfRNHaS63etK"
      },
      "outputs": [],
      "source": []
    }
  ],
  "metadata": {
    "accelerator": "GPU",
    "colab": {
      "collapsed_sections": [
        "PHovis8rvmBb",
        "EgbUrvE7OtSM",
        "EZuIZoAgvo6g",
        "-JJSkyxzxg7E",
        "wr8fMWGMzxAR",
        "2ZGHWTu1zLAj",
        "F-Gow7oMHpYs",
        "E7jWmrSLHra1",
        "FRPUKSxhIFDi",
        "68ANRCBUdVSx",
        "w3GSctRSRVjj",
        "cSmmTxvDI1Zh",
        "D5R6dMlwOX1-",
        "_lLWNgJfKTZs",
        "heuXGNYbKh_j",
        "zcn3vsZxLuBq",
        "1XJ6o_W9m2YC",
        "f_vk3v5ZpNYR",
        "eyIJNWP8pZ6r",
        "qhKQtiN6cP8Z",
        "ru-LxBzxNHeS"
      ],
      "gpuType": "T4",
      "provenance": []
    },
    "kernelspec": {
      "display_name": "Python 3",
      "name": "python3"
    },
    "language_info": {
      "codemirror_mode": {
        "name": "ipython",
        "version": 3
      },
      "file_extension": ".py",
      "mimetype": "text/x-python",
      "name": "python",
      "nbconvert_exporter": "python",
      "pygments_lexer": "ipython3",
      "version": "3.8.12"
    }
  },
  "nbformat": 4,
  "nbformat_minor": 0
}
