{
  "cells": [
    {
      "cell_type": "markdown",
      "metadata": {
        "id": "PHovis8rvmBb"
      },
      "source": [
        "## Imports"
      ]
    },
    {
      "cell_type": "code",
      "execution_count": null,
      "metadata": {},
      "outputs": [],
      "source": [
        "!pip install tensorflow keras kagglehub numpy pandas optuna joblib scikit-learn matplotlib seaborn"
      ]
    },
    {
      "cell_type": "code",
      "execution_count": 1,
      "metadata": {
        "id": "GJ2JKVZOdA76"
      },
      "outputs": [
        {
          "name": "stderr",
          "output_type": "stream",
          "text": [
            "/Users/maltestaab/.pyenv/versions/3.8.12/lib/python3.8/site-packages/tqdm/auto.py:21: TqdmWarning: IProgress not found. Please update jupyter and ipywidgets. See https://ipywidgets.readthedocs.io/en/stable/user_install.html\n",
            "  from .autonotebook import tqdm as notebook_tqdm\n"
          ]
        }
      ],
      "source": [
        "import numpy as np\n",
        "import pandas as pd\n",
        "import matplotlib.pyplot as plt\n",
        "import seaborn as sns\n",
        "from sklearn.preprocessing import StandardScaler\n",
        "from sklearn.model_selection import train_test_split\n",
        "from sklearn.metrics import accuracy_score\n",
        "from sklearn.model_selection import train_test_split, GridSearchCV\n",
        "from sklearn.linear_model import LinearRegression\n",
        "from sklearn.metrics import mean_absolute_error, mean_squared_error, r2_score\n",
        "from sklearn.tree import DecisionTreeRegressor\n",
        "from sklearn.ensemble import RandomForestClassifier\n",
        "from sklearn.ensemble import RandomForestRegressor\n",
        "from sklearn.ensemble import GradientBoostingRegressor\n",
        "from xgboost import XGBRegressor\n",
        "import xgboost as xgb\n",
        "from sklearn.feature_selection import SelectKBest, chi2\n",
        "import os\n",
        "from sklearn.metrics import mean_absolute_percentage_error\n",
        "import kagglehub\n",
        "import pickle\n",
        "import joblib\n",
        "\n",
        "\n",
        "\n"
      ]
    },
    {
      "cell_type": "markdown",
      "metadata": {
        "id": "EgbUrvE7OtSM"
      },
      "source": [
        "# Dataset"
      ]
    },
    {
      "cell_type": "markdown",
      "metadata": {
        "id": "EZuIZoAgvo6g"
      },
      "source": [
        "## Loading the dataset"
      ]
    },
    {
      "cell_type": "code",
      "execution_count": 2,
      "metadata": {
        "colab": {
          "base_uri": "https://localhost:8080/"
        },
        "id": "y-LO5B9vvqcB",
        "outputId": "f153e38a-9426-40f7-8a2e-182c48d11057"
      },
      "outputs": [
        {
          "name": "stdout",
          "output_type": "stream",
          "text": [
            "Warning: Looks like you're using an outdated `kagglehub` version, please consider updating (latest version: 0.3.10)\n",
            "Available files: ['test.csv', 'train.csv']\n",
            "Train Dataset:\n",
            "         ID  Price  Levy Manufacturer    Model  Prod. year   Category  \\\n",
            "0  45654403  13328  1399        LEXUS   RX 450        2010       Jeep   \n",
            "1  44731507  16621  1018    CHEVROLET  Equinox        2011       Jeep   \n",
            "2  45774419   8467     -        HONDA      FIT        2006  Hatchback   \n",
            "3  45769185   3607   862         FORD   Escape        2011       Jeep   \n",
            "4  45809263  11726   446        HONDA      FIT        2014  Hatchback   \n",
            "\n",
            "  Leather interior Fuel type Engine volume    Mileage  Cylinders  \\\n",
            "0              Yes    Hybrid           3.5  186005 km        6.0   \n",
            "1               No    Petrol             3  192000 km        6.0   \n",
            "2               No    Petrol           1.3  200000 km        4.0   \n",
            "3              Yes    Hybrid           2.5  168966 km        4.0   \n",
            "4              Yes    Petrol           1.3   91901 km        4.0   \n",
            "\n",
            "  Gear box type Drive wheels   Doors             Wheel   Color  Airbags  \n",
            "0     Automatic          4x4  04-May        Left wheel  Silver       12  \n",
            "1     Tiptronic          4x4  04-May        Left wheel   Black        8  \n",
            "2      Variator        Front  04-May  Right-hand drive   Black        2  \n",
            "3     Automatic          4x4  04-May        Left wheel   White        0  \n",
            "4     Automatic        Front  04-May        Left wheel  Silver        4  \n",
            "\n",
            "Test Dataset:\n",
            "         ID Levy Manufacturer   Model  Prod. year   Category Leather interior  \\\n",
            "0  44020629    -   VOLKSWAGEN    Golf        2012  Hatchback               No   \n",
            "1  45784798    -      HYUNDAI  Sonata        2012      Sedan              Yes   \n",
            "2  45800257    -       NISSAN   Tiida        2005      Sedan               No   \n",
            "3  45797981  975        VOLVO    XC90        2012       Jeep              Yes   \n",
            "4  45814303    -         OPEL   Astra        1993  Hatchback               No   \n",
            "\n",
            "  Fuel type Engine volume    Mileage  Cylinders Gear box type Drive wheels  \\\n",
            "0    Diesel     2.0 Turbo       0 km          4        Manual        Front   \n",
            "1    Petrol           2.4   26000 km          4     Tiptronic        Front   \n",
            "2    Petrol           1.5  168000 km          4     Automatic        Front   \n",
            "3    Petrol           3.2  143000 km          6     Automatic          4x4   \n",
            "4    Petrol           1.6  200000 km          4        Manual        Front   \n",
            "\n",
            "    Doors             Wheel     Color  Airbags  Price  \n",
            "0  02-Mar        Left wheel      Grey       10    NaN  \n",
            "1  04-May        Left wheel      Grey       10    NaN  \n",
            "2  04-May  Right-hand drive  Sky blue        8    NaN  \n",
            "3  04-May        Left wheel      Blue       12    NaN  \n",
            "4  04-May        Left wheel     Black        0    NaN  \n"
          ]
        }
      ],
      "source": [
        "# Download dataset\n",
        "path = kagglehub.dataset_download(\"sidharth178/car-prices-dataset\")\n",
        "\n",
        "# List available files\n",
        "files = os.listdir(path)\n",
        "print(\"Available files:\", files)\n",
        "\n",
        "# Load both datasets into DataFrames\n",
        "df = pd.read_csv(os.path.join(path, \"train.csv\"))\n",
        "df_test = pd.read_csv(os.path.join(path, \"test.csv\"))\n",
        "\n",
        "# Display first few rows\n",
        "print(\"Train Dataset:\")\n",
        "print(df.head())\n",
        "\n",
        "print(\"\\nTest Dataset:\")\n",
        "print(df_test.head())"
      ]
    },
    {
      "cell_type": "code",
      "execution_count": 3,
      "metadata": {
        "colab": {
          "base_uri": "https://localhost:8080/"
        },
        "id": "UbRANdjLURlt",
        "outputId": "5633efec-b51c-472b-e351-ca063870a165"
      },
      "outputs": [],
      "source": [
        "# To make all letters into lowercase for JSON file formatting later on\n",
        "# Function to convert only strings to lowercase\n",
        "def lowercase_text(cell):\n",
        "    if isinstance(cell, str):  # Check if cell is a string\n",
        "        return cell.lower()  # Convert only text to lowercase\n",
        "    return cell  # Leave numbers unchanged\n",
        "\n",
        "# Apply the function to the entire DataFrame\n",
        "df = df.applymap(lowercase_text)"
      ]
    },
    {
      "cell_type": "code",
      "execution_count": 4,
      "metadata": {
        "colab": {
          "base_uri": "https://localhost:8080/"
        },
        "id": "VOHHoLeGW1C4",
        "outputId": "df955877-5c98-470a-9359-67954c165303"
      },
      "outputs": [
        {
          "name": "stdout",
          "output_type": "stream",
          "text": [
            "Index(['ID', 'Price', 'Levy', 'manufacturer', 'model', 'prod_year', 'category',\n",
            "       'leather_interior', 'fuel_type', 'engine_volume', 'mileage',\n",
            "       'cylinders', 'gear_box_type', 'drive_wheels', 'doors', 'wheel', 'color',\n",
            "       'airbags'],\n",
            "      dtype='object')\n"
          ]
        }
      ],
      "source": [
        "# Define the mapping of old column names to new column names\n",
        "column_mapping = {\n",
        "    'Manufacturer': 'manufacturer',\n",
        "    'Model': 'model',\n",
        "    'Prod. year': 'prod_year',\n",
        "    'Category': 'category',\n",
        "    'Leather interior': 'leather_interior',\n",
        "    'Fuel type': 'fuel_type',\n",
        "    'Engine volume': 'engine_volume',\n",
        "    'Mileage': 'mileage',\n",
        "    'Cylinders': 'cylinders',\n",
        "    'Gear box type': 'gear_box_type',\n",
        "    'Drive wheels': 'drive_wheels',\n",
        "    'Doors': 'doors',\n",
        "    'Wheel': 'wheel',\n",
        "    'Color': 'color',\n",
        "    'Airbags': 'airbags'\n",
        "}\n",
        "\n",
        "# Rename columns based on the mapping\n",
        "df.rename(columns=column_mapping, inplace=True)\n",
        "\n",
        "# Print updated column names\n",
        "print(df.columns)\n"
      ]
    },
    {
      "cell_type": "markdown",
      "metadata": {
        "id": "-JJSkyxzxg7E"
      },
      "source": [
        "## Preprocessing (Checking NaN)"
      ]
    },
    {
      "cell_type": "code",
      "execution_count": 5,
      "metadata": {
        "colab": {
          "base_uri": "https://localhost:8080/"
        },
        "id": "aU26n3ewxoZ7",
        "outputId": "1059c135-cea8-49c0-d9e3-7ae1ded6f10e"
      },
      "outputs": [
        {
          "name": "stdout",
          "output_type": "stream",
          "text": [
            "ID                  0\n",
            "Price               0\n",
            "Levy                0\n",
            "manufacturer        0\n",
            "model               0\n",
            "prod_year           0\n",
            "category            0\n",
            "leather_interior    0\n",
            "fuel_type           0\n",
            "engine_volume       0\n",
            "mileage             0\n",
            "cylinders           0\n",
            "gear_box_type       0\n",
            "drive_wheels        0\n",
            "doors               0\n",
            "wheel               0\n",
            "color               0\n",
            "airbags             0\n",
            "dtype: int64\n"
          ]
        }
      ],
      "source": [
        "print(df.isnull().sum())  # Shows missing values per column"
      ]
    },
    {
      "cell_type": "code",
      "execution_count": 6,
      "metadata": {
        "colab": {
          "base_uri": "https://localhost:8080/"
        },
        "id": "4f-70d9yyBJK",
        "outputId": "8cc959f2-0cd1-40c9-ff28-18247e4b1ce1"
      },
      "outputs": [
        {
          "name": "stdout",
          "output_type": "stream",
          "text": [
            "False\n"
          ]
        }
      ],
      "source": [
        "print(df.isnull().values.any())  # Returns True if any NaN values exist"
      ]
    },
    {
      "cell_type": "markdown",
      "metadata": {
        "id": "wr8fMWGMzxAR"
      },
      "source": [
        "## Handling Categorical Variables"
      ]
    },
    {
      "cell_type": "markdown",
      "metadata": {
        "id": "j04KD3jf8-k_"
      },
      "source": [
        "The ID and Mileage features"
      ]
    },
    {
      "cell_type": "code",
      "execution_count": 7,
      "metadata": {
        "id": "PjIt_r9N8sTY"
      },
      "outputs": [],
      "source": [
        "df = df.drop(\"ID\", axis=1)  # axis=1 means dropping a column\n",
        "\n",
        "# Remove \"km\" and convert to numeric\n",
        "df[\"mileage\"] = df[\"mileage\"].str.replace(\" km\", \"\", regex=False).astype(int)"
      ]
    },
    {
      "cell_type": "code",
      "execution_count": 8,
      "metadata": {
        "colab": {
          "base_uri": "https://localhost:8080/"
        },
        "id": "BriognuK8ujU",
        "outputId": "0b031431-1184-40c9-f1e8-46781d919d0e"
      },
      "outputs": [
        {
          "name": "stdout",
          "output_type": "stream",
          "text": [
            "   Price manufacturer    model  prod_year   category leather_interior  \\\n",
            "0  13328        lexus   rx 450       2010       jeep              yes   \n",
            "1  16621    chevrolet  equinox       2011       jeep               no   \n",
            "2   8467        honda      fit       2006  hatchback               no   \n",
            "3   3607         ford   escape       2011       jeep              yes   \n",
            "4  11726        honda      fit       2014  hatchback              yes   \n",
            "\n",
            "  fuel_type engine_volume  mileage  cylinders gear_box_type drive_wheels  \\\n",
            "0    hybrid           3.5   186005        6.0     automatic          4x4   \n",
            "1    petrol             3   192000        6.0     tiptronic          4x4   \n",
            "2    petrol           1.3   200000        4.0      variator        front   \n",
            "3    hybrid           2.5   168966        4.0     automatic          4x4   \n",
            "4    petrol           1.3    91901        4.0     automatic        front   \n",
            "\n",
            "    doors             wheel   color  airbags  \n",
            "0  04-may        left wheel  silver       12  \n",
            "1  04-may        left wheel   black        8  \n",
            "2  04-may  right-hand drive   black        2  \n",
            "3  04-may        left wheel   white        0  \n",
            "4  04-may        left wheel  silver        4  \n",
            "Price                 int64\n",
            "manufacturer         object\n",
            "model                object\n",
            "prod_year             int64\n",
            "category             object\n",
            "leather_interior     object\n",
            "fuel_type            object\n",
            "engine_volume        object\n",
            "mileage               int64\n",
            "cylinders           float64\n",
            "gear_box_type        object\n",
            "drive_wheels         object\n",
            "doors                object\n",
            "wheel                object\n",
            "color                object\n",
            "airbags               int64\n",
            "dtype: object\n"
          ]
        }
      ],
      "source": [
        "df = df.drop(\"Levy\", axis=1)\n",
        "# Display updated DataFrame\n",
        "print(df.head())\n",
        "print(df.dtypes)  # Check if it's now integer"
      ]
    },
    {
      "cell_type": "markdown",
      "metadata": {
        "id": "Waqvla7w9BpB"
      },
      "source": [
        "Identifying remaining troublesome features"
      ]
    },
    {
      "cell_type": "code",
      "execution_count": 9,
      "metadata": {
        "colab": {
          "base_uri": "https://localhost:8080/"
        },
        "id": "zkKGqfH98055",
        "outputId": "217fa6ed-287d-4713-af69-becabad16277"
      },
      "outputs": [
        {
          "name": "stdout",
          "output_type": "stream",
          "text": [
            "               Price manufacturer  model     prod_year category  \\\n",
            "count   1.923700e+04        19237  19237  19237.000000    19237   \n",
            "unique           NaN           65   1511           NaN       11   \n",
            "top              NaN      hyundai  prius           NaN    sedan   \n",
            "freq             NaN         3769   1083           NaN     8736   \n",
            "mean    1.855593e+04          NaN    NaN   2010.912824      NaN   \n",
            "std     1.905813e+05          NaN    NaN      5.668673      NaN   \n",
            "min     1.000000e+00          NaN    NaN   1939.000000      NaN   \n",
            "25%     5.331000e+03          NaN    NaN   2009.000000      NaN   \n",
            "50%     1.317200e+04          NaN    NaN   2012.000000      NaN   \n",
            "75%     2.207500e+04          NaN    NaN   2015.000000      NaN   \n",
            "max     2.630750e+07          NaN    NaN   2020.000000      NaN   \n",
            "\n",
            "       leather_interior fuel_type engine_volume       mileage     cylinders  \\\n",
            "count             19237     19237         19237  1.923700e+04  19237.000000   \n",
            "unique                2         7           107           NaN           NaN   \n",
            "top                 yes    petrol             2           NaN           NaN   \n",
            "freq              13954     10150          3916           NaN           NaN   \n",
            "mean                NaN       NaN           NaN  1.532236e+06      4.582991   \n",
            "std                 NaN       NaN           NaN  4.840387e+07      1.199933   \n",
            "min                 NaN       NaN           NaN  0.000000e+00      1.000000   \n",
            "25%                 NaN       NaN           NaN  7.013900e+04      4.000000   \n",
            "50%                 NaN       NaN           NaN  1.260000e+05      4.000000   \n",
            "75%                 NaN       NaN           NaN  1.888880e+05      4.000000   \n",
            "max                 NaN       NaN           NaN  2.147484e+09     16.000000   \n",
            "\n",
            "       gear_box_type drive_wheels   doors       wheel  color       airbags  \n",
            "count          19237        19237   19237       19237  19237  19237.000000  \n",
            "unique             4            3       3           2     16           NaN  \n",
            "top        automatic        front  04-may  left wheel  black           NaN  \n",
            "freq           13514        12874   18332       17753   5033           NaN  \n",
            "mean             NaN          NaN     NaN         NaN    NaN      6.582627  \n",
            "std              NaN          NaN     NaN         NaN    NaN      4.320168  \n",
            "min              NaN          NaN     NaN         NaN    NaN      0.000000  \n",
            "25%              NaN          NaN     NaN         NaN    NaN      4.000000  \n",
            "50%              NaN          NaN     NaN         NaN    NaN      6.000000  \n",
            "75%              NaN          NaN     NaN         NaN    NaN     12.000000  \n",
            "max              NaN          NaN     NaN         NaN    NaN     16.000000  \n"
          ]
        }
      ],
      "source": [
        "print(df.describe(include=\"all\"))"
      ]
    },
    {
      "cell_type": "markdown",
      "metadata": {
        "id": "QlskFm7F9F8b"
      },
      "source": [
        "Handling the Model Feature"
      ]
    },
    {
      "cell_type": "code",
      "execution_count": 10,
      "metadata": {
        "id": "S_fcaOXt83rr"
      },
      "outputs": [],
      "source": [
        "df[\"model_frequency\"] = df[\"model\"].map(df[\"model\"].value_counts())"
      ]
    },
    {
      "cell_type": "code",
      "execution_count": 11,
      "metadata": {
        "colab": {
          "base_uri": "https://localhost:8080/"
        },
        "id": "NRusc1VZ9N77",
        "outputId": "2fc2934c-285d-4e0f-9474-abe78af96458"
      },
      "outputs": [
        {
          "name": "stdout",
          "output_type": "stream",
          "text": [
            "      model  count  cumulative_Percentage\n",
            "0     prius   1083               0.056298\n",
            "1    sonata   1079               0.112388\n",
            "2     camry    938               0.161148\n",
            "3   elantra    922               0.209076\n",
            "4     e 350    542               0.237251\n",
            "5  santa fe    533               0.264958\n",
            "6       fit    446               0.288143\n",
            "7        h1    437               0.310859\n",
            "8    tucson    429               0.333160\n",
            "9        x5    353               0.351510\n"
          ]
        }
      ],
      "source": [
        "# Get model frequency sorted from largest to smallest\n",
        "model_counts = df[\"model\"].value_counts().reset_index()\n",
        "model_counts.columns = [\"model\", \"count\"]\n",
        "\n",
        "# Calculate cumulative percentage\n",
        "model_counts[\"cumulative_Percentage\"] = model_counts[\"count\"].cumsum() / model_counts[\"count\"].sum()\n",
        "\n",
        "print(model_counts.head(10))  # Show top 10 most frequent models"
      ]
    },
    {
      "cell_type": "code",
      "execution_count": 12,
      "metadata": {
        "colab": {
          "base_uri": "https://localhost:8080/"
        },
        "id": "ajz0FiEl9Rna",
        "outputId": "8bf41303-f840-44bd-9315-f1f2c5a10e21"
      },
      "outputs": [
        {
          "name": "stdout",
          "output_type": "stream",
          "text": [
            "Top 50% Models: ['prius', 'sonata', 'camry', 'elantra', 'e 350', 'santa fe', 'fit', 'h1', 'tucson', 'x5', 'aqua', 'cruze', 'fusion', 'optima', 'gx 460', 'transit', 'highlander', 'ml 350', 'jetta', 'actyon', 'civic', 'rexton']\n"
          ]
        }
      ],
      "source": [
        "# Get models contributing to 50% of total frequency\n",
        "top_50_models = model_counts[model_counts[\"cumulative_Percentage\"] <= 0.50][\"model\"].tolist()\n",
        "\n",
        "print(\"Top 50% Models:\", top_50_models)  # Show first 10 models"
      ]
    },
    {
      "cell_type": "code",
      "execution_count": 13,
      "metadata": {
        "colab": {
          "base_uri": "https://localhost:8080/"
        },
        "id": "f-iU3qeH9WMq",
        "outputId": "ef51e47b-5e0f-4041-fdb5-8b799b27ae15"
      },
      "outputs": [
        {
          "name": "stdout",
          "output_type": "stream",
          "text": [
            "Model_Grouped\n",
            "others        9698\n",
            "prius         1083\n",
            "sonata        1079\n",
            "camry          938\n",
            "elantra        922\n",
            "e 350          542\n",
            "santa fe       533\n",
            "fit            446\n",
            "h1             437\n",
            "tucson         429\n",
            "x5             353\n",
            "aqua           331\n",
            "cruze          302\n",
            "fusion         301\n",
            "optima         233\n",
            "gx 460         224\n",
            "transit        217\n",
            "highlander     216\n",
            "ml 350         202\n",
            "jetta          201\n",
            "actyon         188\n",
            "civic          187\n",
            "rexton         175\n",
            "Name: count, dtype: int64\n"
          ]
        }
      ],
      "source": [
        "# Replace less frequent models with \"Others\"\n",
        "df[\"Model_Grouped\"] = df[\"model\"].apply(lambda x: x if x in top_50_models else \"others\")\n",
        "\n",
        "print(df[\"Model_Grouped\"].value_counts())  # Check distribution"
      ]
    },
    {
      "cell_type": "code",
      "execution_count": 14,
      "metadata": {
        "id": "fmtCAj6U9e0x"
      },
      "outputs": [],
      "source": [
        "df = pd.get_dummies(df, columns=[\"Model_Grouped\"], drop_first=True)\n",
        "df = df.drop(\"model\", axis=1)\n",
        "df = df.drop(\"model_frequency\", axis=1)"
      ]
    },
    {
      "cell_type": "markdown",
      "metadata": {
        "id": "h3tZkKuZ_MVr"
      },
      "source": [
        "Transforming Engine and Cylinders into a Continuous Feature"
      ]
    },
    {
      "cell_type": "code",
      "execution_count": 15,
      "metadata": {
        "id": "ABjnf1pL_RvE"
      },
      "outputs": [],
      "source": [
        "# Step 1: Create the binary 'Turbo' column\n",
        "df['turbo'] = df['engine_volume'].str.contains('Turbo', case=False, regex=False).astype(int)\n",
        "\n",
        "# Step 2: Remove 'Turbo' from the original 'engine' column\n",
        "df['engine_volume'] = df['engine_volume'].str.replace(' Turbo', '', case=False, regex=False).str.strip()\n",
        "\n",
        "# Extract only the numeric part before any text\n",
        "df[\"engine_volume\"] = df[\"engine_volume\"].str.extract(r\"(\\d+\\.?\\d*)\")[0].astype(float) * 1000  # Convert to cubic cm\n",
        "\n",
        "# Convert to integer\n",
        "df[\"engine_volume\"] = df[\"engine_volume\"].astype(int)\n",
        "\n",
        "# Convert to integer\n",
        "df[\"cylinders\"] = df[\"cylinders\"].astype(int)"
      ]
    },
    {
      "cell_type": "markdown",
      "metadata": {
        "id": "kGUtZ7sD9Jew"
      },
      "source": [
        "Creating Dummy Variables for the Remaining Categorical Features"
      ]
    },
    {
      "cell_type": "code",
      "execution_count": 16,
      "metadata": {
        "colab": {
          "base_uri": "https://localhost:8080/"
        },
        "id": "DCO3qU9vz0H9",
        "outputId": "a7f0a29c-010e-4d6c-c9a1-053844f63ffb"
      },
      "outputs": [
        {
          "name": "stdout",
          "output_type": "stream",
          "text": [
            "Categorical Columns: Index(['manufacturer', 'category', 'leather_interior', 'fuel_type',\n",
            "       'gear_box_type', 'drive_wheels', 'doors', 'wheel', 'color'],\n",
            "      dtype='object')\n"
          ]
        }
      ],
      "source": [
        "# Identify categorical columns\n",
        "categorical_cols = df.select_dtypes(include=[\"object\"]).columns\n",
        "print(\"Categorical Columns:\", categorical_cols)"
      ]
    },
    {
      "cell_type": "code",
      "execution_count": 17,
      "metadata": {
        "id": "kJLGmZSn0gGy"
      },
      "outputs": [],
      "source": [
        "df = pd.get_dummies(df, columns=categorical_cols, drop_first=True)"
      ]
    },
    {
      "cell_type": "markdown",
      "metadata": {
        "id": "2ZGHWTu1zLAj"
      },
      "source": [
        "## Feature Selection"
      ]
    },
    {
      "cell_type": "markdown",
      "metadata": {
        "id": "F-Gow7oMHpYs"
      },
      "source": [
        "### Correlation Matrix"
      ]
    },
    {
      "cell_type": "code",
      "execution_count": 18,
      "metadata": {
        "colab": {
          "base_uri": "https://localhost:8080/"
        },
        "id": "A_zDHET8zMho",
        "outputId": "7c50a5b7-38b6-4f6f-d1ca-bf8ebfe4cb08"
      },
      "outputs": [
        {
          "name": "stdout",
          "output_type": "stream",
          "text": [
            "              Feature 1             Feature 2  Correlation\n",
            "0         engine_volume             cylinders     0.778524\n",
            "1             cylinders         engine_volume     0.778524\n",
            "2  Model_Grouped_optima      manufacturer_kia     0.740249\n",
            "3      manufacturer_kia  Model_Grouped_optima     0.740249\n"
          ]
        }
      ],
      "source": [
        "# Compute the correlation matrix\n",
        "corr_matrix = df.corr()\n",
        "\n",
        "# Set correlation threshold\n",
        "threshold = 0.7  # Change to 0.8 if needed\n",
        "\n",
        "# Find highly correlated feature pairs\n",
        "high_corr_features = [(col1, col2, corr_matrix.loc[col1, col2])\n",
        "                      for col1 in corr_matrix.columns\n",
        "                      for col2 in corr_matrix.columns\n",
        "                      if col1 != col2 and abs(corr_matrix.loc[col1, col2]) > threshold]\n",
        "\n",
        "# Convert to DataFrame for better readability\n",
        "high_corr_df = pd.DataFrame(high_corr_features, columns=[\"Feature 1\", \"Feature 2\", \"Correlation\"])\n",
        "\n",
        "print(high_corr_df)"
      ]
    },
    {
      "cell_type": "markdown",
      "metadata": {
        "id": "E7jWmrSLHra1"
      },
      "source": [
        "### Random Forest Feature Selection"
      ]
    },
    {
      "cell_type": "code",
      "execution_count": 19,
      "metadata": {
        "colab": {
          "base_uri": "https://localhost:8080/"
        },
        "id": "sgUv1TdEB7bO",
        "outputId": "71e864e6-821e-4f3a-c05f-d5732db24f00"
      },
      "outputs": [
        {
          "name": "stdout",
          "output_type": "stream",
          "text": [
            "99.9th Percentile Cutoff Value: 171375.6200000134\n"
          ]
        }
      ],
      "source": [
        "Y = df[\"Price\"]\n",
        "X = df.drop(\"Price\", axis=1)\n",
        "\n",
        "# Find the 99.9th percentile (top 0.1% cutoff)\n",
        "percentile_99 = np.percentile(Y, 99.9)\n",
        "\n",
        "# Remove the top 0.1% of highest values\n",
        "mask = Y <= percentile_99\n",
        "Y = Y[mask]\n",
        "X = X.loc[mask]  # Keep only corresponding X values\n",
        "\n",
        "#print(f\"Training Size: {len(Y)}\")\n",
        "print(f\"99.9th Percentile Cutoff Value: {percentile_99}\")\n",
        "\n",
        "# Train model\n",
        "model = RandomForestClassifier(n_estimators=100, random_state=42, max_depth=5)\n",
        "model.fit(X, Y) #For the feature selection, we can use the whole dataset, dont need train-test split\n",
        "\n",
        "# Get feature importance scores\n",
        "importance = model.feature_importances_\n",
        "\n",
        "# Convert to DataFrame\n",
        "feature_importance = pd.DataFrame({\"Feature\": X.columns, \"Importance\": importance})\n",
        "feature_importance = feature_importance.sort_values(by=\"Importance\", ascending=False)"
      ]
    },
    {
      "cell_type": "code",
      "execution_count": 20,
      "metadata": {
        "id": "NfHHnjcRFwK2"
      },
      "outputs": [],
      "source": [
        "# Calculate cumulative importance\n",
        "feature_importance[\"Cumulative Importance\"] = feature_importance[\"Importance\"].cumsum()\n",
        "\n",
        "# Select features contributing to top 98% importance\n",
        "threshold = 0.98\n",
        "selected_features = feature_importance[feature_importance[\"Cumulative Importance\"] <= threshold][\"Feature\"]\n",
        "X_new = X[selected_features].copy()"
      ]
    },
    {
      "cell_type": "code",
      "execution_count": 21,
      "metadata": {
        "colab": {
          "base_uri": "https://localhost:8080/",
          "height": 564
        },
        "id": "_Srsx61AHVOf",
        "outputId": "f9c2278d-204a-41af-dafa-e19da912080e"
      },
      "outputs": [
        {
          "data": {
            "image/png": "[encoded data removed]",
            "text/plain": [
              "<Figure size 1000x600 with 1 Axes>"
            ]
          },
          "metadata": {},
          "output_type": "display_data"
        }
      ],
      "source": [
        "plt.figure(figsize=(10, 6))\n",
        "plt.barh(feature_importance[\"Feature\"], feature_importance[\"Importance\"], color=\"skyblue\")\n",
        "plt.xlabel(\"Feature Importance\")\n",
        "plt.ylabel(\"Features\")\n",
        "plt.title(\"Feature Importance - Random Forest\")\n",
        "plt.gca().invert_yaxis()  # Reverse order to show most important features on top\n",
        "plt.show()"
      ]
    },
    {
      "cell_type": "markdown",
      "metadata": {
        "id": "FRPUKSxhIFDi"
      },
      "source": [
        "## Splitting into Training, Validation and Test set"
      ]
    },
    {
      "cell_type": "code",
      "execution_count": 22,
      "metadata": {
        "colab": {
          "base_uri": "https://localhost:8080/"
        },
        "id": "A0BOgi5_Hx9t",
        "outputId": "fb44bc16-4d58-4844-89ea-524d6c7e045b"
      },
      "outputs": [
        {
          "name": "stdout",
          "output_type": "stream",
          "text": [
            "Training Set: (15373, 66)\n",
            "Validation Set: (1922, 66)\n",
            "Test Set: (1922, 66)\n"
          ]
        }
      ],
      "source": [
        "# First, split into Training (80%) and Temp (20%) (Test + Validation)\n",
        "X_train, X_temp, y_train, y_temp = train_test_split(X_new, Y, test_size=0.2, random_state=42)\n",
        "\n",
        "# Then, split Temp (20%) into Validation (10%) and Test (10%)\n",
        "X_val, X_test, y_val, y_test = train_test_split(X_temp, y_temp, test_size=0.5, random_state=42)\n",
        "\n",
        "# Print sizes\n",
        "print(f\"Training Set: {X_train.shape}\")\n",
        "print(f\"Validation Set: {X_val.shape}\")\n",
        "print(f\"Test Set: {X_test.shape}\")"
      ]
    },
    {
      "cell_type": "markdown",
      "metadata": {
        "id": "68ANRCBUdVSx"
      },
      "source": [
        "## Scaling the Data"
      ]
    },
    {
      "cell_type": "code",
      "execution_count": 23,
      "metadata": {
        "id": "caltN2yXdWCj"
      },
      "outputs": [],
      "source": [
        "# Scale the features (Neural networks perform better with normalized data)\n",
        "scaler = StandardScaler()\n",
        "X_train_scaled = scaler.fit_transform(X_train)\n",
        "X_val_scaled = scaler.transform(X_val)\n",
        "X_test_scaled = scaler.transform(X_test)"
      ]
    },
    {
      "cell_type": "markdown",
      "metadata": {
        "id": "w3GSctRSRVjj"
      },
      "source": [
        "## Checking Target Variable"
      ]
    },
    {
      "cell_type": "code",
      "execution_count": 24,
      "metadata": {
        "colab": {
          "base_uri": "https://localhost:8080/"
        },
        "id": "Jq18cIqnRhZG",
        "outputId": "ffad0990-1ee8-45db-9f7f-3b2129410b4f"
      },
      "outputs": [
        {
          "data": {
            "image/png": "[encoded data removed]",
            "text/plain": [
              "<Figure size 1200x500 with 2 Axes>"
            ]
          },
          "metadata": {},
          "output_type": "display_data"
        }
      ],
      "source": [
        "import seaborn as sns\n",
        "import matplotlib.pyplot as plt\n",
        "\n",
        "plt.figure(figsize=(12,5))\n",
        "\n",
        "# Boxplot for y_train\n",
        "plt.subplot(1, 2, 1)\n",
        "sns.boxplot(y=y_train)\n",
        "plt.title(\"Boxplot of y_train\")\n",
        "\n",
        "# Boxplot for y_val\n",
        "plt.subplot(1, 2, 2)\n",
        "sns.boxplot(y=y_val)\n",
        "plt.title(\"Boxplot of y_val\")\n",
        "\n",
        "plt.show()"
      ]
    },
    {
      "cell_type": "code",
      "execution_count": 25,
      "metadata": {
        "colab": {
          "base_uri": "https://localhost:8080/"
        },
        "id": "NEEgTKD1Raf7",
        "outputId": "d9862737-e342-4723-d77e-37b92cc819dc"
      },
      "outputs": [
        {
          "data": {
            "image/png": "[encoded data removed]",
            "text/plain": [
              "<Figure size 800x500 with 1 Axes>"
            ]
          },
          "metadata": {},
          "output_type": "display_data"
        }
      ],
      "source": [
        "import matplotlib.pyplot as plt\n",
        "import seaborn as sns\n",
        "\n",
        "# Plot histogram for y_train\n",
        "plt.figure(figsize=(8,5))\n",
        "sns.histplot(y_train, bins=30, kde=True)\n",
        "plt.title(\"Histogram of y_train\")\n",
        "plt.xlabel(\"Value\")\n",
        "plt.ylabel(\"Frequency\")\n",
        "plt.show()"
      ]
    },
    {
      "cell_type": "markdown",
      "metadata": {
        "id": "8YE7jkrKRkK2"
      },
      "source": [
        "There are extreme outliers and the target variable is heavily skewed. Therefore we log-transform y_train and y_val"
      ]
    },
    {
      "cell_type": "code",
      "execution_count": 26,
      "metadata": {
        "id": "psJbM64bR2t7"
      },
      "outputs": [],
      "source": [
        "import numpy as np\n",
        "\n",
        "y_train = np.log1p(y_train)  # log(1 + y) to avoid log(0)"
      ]
    },
    {
      "cell_type": "code",
      "execution_count": 27,
      "metadata": {
        "id": "owuCUk5vA3lr"
      },
      "outputs": [],
      "source": [
        "y_val_log = np.log1p(y_val)"
      ]
    },
    {
      "cell_type": "markdown",
      "metadata": {
        "id": "_diQPuvSNETT"
      },
      "source": [
        "# Models"
      ]
    },
    {
      "cell_type": "markdown",
      "metadata": {
        "id": "cSmmTxvDI1Zh"
      },
      "source": [
        "## Baseline Model / Linear Regression"
      ]
    },
    {
      "cell_type": "code",
      "execution_count": 28,
      "metadata": {
        "id": "y5MHTpvEI3zf"
      },
      "outputs": [],
      "source": [
        "# Initialize Linear Regression model\n",
        "baseline = LinearRegression()\n",
        "\n",
        "# Train on training data\n",
        "baseline.fit(X_train_scaled, y_train)\n",
        "\n",
        "# Make predictions on validation set\n",
        "y_pred_baseline = baseline.predict(X_val_scaled)"
      ]
    },
    {
      "cell_type": "code",
      "execution_count": 29,
      "metadata": {
        "colab": {
          "base_uri": "https://localhost:8080/"
        },
        "id": "3Nij82s_J6-8",
        "outputId": "62504ca2-9426-4270-b6a4-f2e60281a6c5"
      },
      "outputs": [
        {
          "name": "stdout",
          "output_type": "stream",
          "text": [
            "Baseline Linear Regression Performance:\n",
            "MAE  (Mean Absolute Error): 17139.3593\n",
            "MSE  (Mean Squared Error): 595781060.8433\n",
            "RMSE (Root Mean Squared Error): 24408.6268\n",
            "R² Score: -0.9725\n"
          ]
        }
      ],
      "source": [
        "# Compute Evaluation Metrics\n",
        "mae = mean_absolute_error(y_val, y_pred_baseline)\n",
        "mse = mean_squared_error(y_val, y_pred_baseline)\n",
        "rmse = np.sqrt(mse)\n",
        "r2 = r2_score(y_val, y_pred_baseline)\n",
        "\n",
        "# Print Results\n",
        "print(f\"Baseline Linear Regression Performance:\")\n",
        "print(f\"MAE  (Mean Absolute Error): {mae:.4f}\")\n",
        "print(f\"MSE  (Mean Squared Error): {mse:.4f}\")\n",
        "print(f\"RMSE (Root Mean Squared Error): {rmse:.4f}\")\n",
        "print(f\"R² Score: {r2:.4f}\")"
      ]
    },
    {
      "cell_type": "markdown",
      "metadata": {
        "id": "D5R6dMlwOX1-"
      },
      "source": [
        "## Baseline 2: Predicting using the mean"
      ]
    },
    {
      "cell_type": "code",
      "execution_count": 30,
      "metadata": {
        "id": "29TWe1aOOhVV"
      },
      "outputs": [],
      "source": [
        "# Compute mean of y_train\n",
        "baseline_mean = np.mean(y_train)\n",
        "\n",
        "# Make predictions (same mean for every data point in validation set)\n",
        "y_pred_baseline_mean = np.full_like(y_val, baseline_mean)"
      ]
    },
    {
      "cell_type": "markdown",
      "metadata": {
        "id": "_lLWNgJfKTZs"
      },
      "source": [
        "## Model 1: Decision Tree"
      ]
    },
    {
      "cell_type": "markdown",
      "metadata": {
        "id": "p6h7nkUvh5LF"
      },
      "source": []
    },
    {
      "cell_type": "code",
      "execution_count": 31,
      "metadata": {
        "colab": {
          "base_uri": "https://localhost:8080/"
        },
        "id": "12eMt2esh6-I",
        "outputId": "9ffc9dd5-5e10-49b2-8c0b-13158f5db59b"
      },
      "outputs": [
        {
          "name": "stdout",
          "output_type": "stream",
          "text": [
            "Decision Tree Model Performance:\n",
            "MAE: 5418.03\n",
            "MSE: 117288980.65\n",
            "R² Score: 0.6117\n"
          ]
        }
      ],
      "source": [
        "# Initialize a simple Decision Tree Regressor\n",
        "model_1 = DecisionTreeRegressor(random_state=42)  # Default settings\n",
        "\n",
        "# Train on X_train and y_train\n",
        "model_1.fit(X_train, y_train)\n",
        "\n",
        "# Predict on validation set\n",
        "y_pred_model_1 = np.expm1(model_1.predict(X_val))\n",
        "\n",
        "# Compute evaluation metrics\n",
        "mae = mean_absolute_error(y_val, y_pred_model_1)\n",
        "mse = mean_squared_error(y_val, y_pred_model_1)\n",
        "r2 = r2_score(y_val, y_pred_model_1)\n",
        "\n",
        "# Print results\n",
        "print(f\"Decision Tree Model Performance:\")\n",
        "print(f\"MAE: {mae:.2f}\")\n",
        "print(f\"MSE: {mse:.2f}\")\n",
        "print(f\"R² Score: {r2:.4f}\")\n"
      ]
    },
    {
      "cell_type": "markdown",
      "metadata": {
        "id": "heuXGNYbKh_j"
      },
      "source": [
        "## Model 2: Random Forest"
      ]
    },
    {
      "cell_type": "code",
      "execution_count": 32,
      "metadata": {
        "id": "9z2oz3AkKjUQ"
      },
      "outputs": [
        {
          "ename": "KeyboardInterrupt",
          "evalue": "",
          "output_type": "error",
          "traceback": [
            "\u001b[0;31m---------------------------------------------------------------------------\u001b[0m",
            "\u001b[0;31mKeyboardInterrupt\u001b[0m                         Traceback (most recent call last)",
            "Cell \u001b[0;32mIn[32], line 10\u001b[0m\n\u001b[1;32m      2\u001b[0m model_2 \u001b[38;5;241m=\u001b[39m RandomForestRegressor(\n\u001b[1;32m      3\u001b[0m     n_estimators\u001b[38;5;241m=\u001b[39m\u001b[38;5;241m100\u001b[39m,\n\u001b[1;32m      4\u001b[0m     max_depth\u001b[38;5;241m=\u001b[39m\u001b[38;5;241m5\u001b[39m,  \u001b[38;5;66;03m# Prevents deep trees\u001b[39;00m\n\u001b[1;32m      5\u001b[0m     random_state\u001b[38;5;241m=\u001b[39m\u001b[38;5;241m42\u001b[39m,\n\u001b[1;32m      6\u001b[0m     criterion\u001b[38;5;241m=\u001b[39m\u001b[38;5;124m\"\u001b[39m\u001b[38;5;124mabsolute_error\u001b[39m\u001b[38;5;124m\"\u001b[39m\n\u001b[1;32m      7\u001b[0m )\n\u001b[1;32m      9\u001b[0m \u001b[38;5;66;03m# Train on training data\u001b[39;00m\n\u001b[0;32m---> 10\u001b[0m \u001b[43mmodel_2\u001b[49m\u001b[38;5;241;43m.\u001b[39;49m\u001b[43mfit\u001b[49m\u001b[43m(\u001b[49m\u001b[43mX_train\u001b[49m\u001b[43m,\u001b[49m\u001b[43m \u001b[49m\u001b[43my_train\u001b[49m\u001b[43m)\u001b[49m\n\u001b[1;32m     12\u001b[0m \u001b[38;5;66;03m# Make predictions on validation set\u001b[39;00m\n\u001b[1;32m     13\u001b[0m y_pred_model_2 \u001b[38;5;241m=\u001b[39m np\u001b[38;5;241m.\u001b[39mexpm1(model_2\u001b[38;5;241m.\u001b[39mpredict(X_val))\n",
            "File \u001b[0;32m~/.pyenv/versions/3.8.12/lib/python3.8/site-packages/sklearn/base.py:1152\u001b[0m, in \u001b[0;36m_fit_context.<locals>.decorator.<locals>.wrapper\u001b[0;34m(estimator, *args, **kwargs)\u001b[0m\n\u001b[1;32m   1145\u001b[0m     estimator\u001b[38;5;241m.\u001b[39m_validate_params()\n\u001b[1;32m   1147\u001b[0m \u001b[38;5;28;01mwith\u001b[39;00m config_context(\n\u001b[1;32m   1148\u001b[0m     skip_parameter_validation\u001b[38;5;241m=\u001b[39m(\n\u001b[1;32m   1149\u001b[0m         prefer_skip_nested_validation \u001b[38;5;129;01mor\u001b[39;00m global_skip_validation\n\u001b[1;32m   1150\u001b[0m     )\n\u001b[1;32m   1151\u001b[0m ):\n\u001b[0;32m-> 1152\u001b[0m     \u001b[38;5;28;01mreturn\u001b[39;00m \u001b[43mfit_method\u001b[49m\u001b[43m(\u001b[49m\u001b[43mestimator\u001b[49m\u001b[43m,\u001b[49m\u001b[43m \u001b[49m\u001b[38;5;241;43m*\u001b[39;49m\u001b[43margs\u001b[49m\u001b[43m,\u001b[49m\u001b[43m \u001b[49m\u001b[38;5;241;43m*\u001b[39;49m\u001b[38;5;241;43m*\u001b[39;49m\u001b[43mkwargs\u001b[49m\u001b[43m)\u001b[49m\n",
            "File \u001b[0;32m~/.pyenv/versions/3.8.12/lib/python3.8/site-packages/sklearn/ensemble/_forest.py:456\u001b[0m, in \u001b[0;36mBaseForest.fit\u001b[0;34m(self, X, y, sample_weight)\u001b[0m\n\u001b[1;32m    445\u001b[0m trees \u001b[38;5;241m=\u001b[39m [\n\u001b[1;32m    446\u001b[0m     \u001b[38;5;28mself\u001b[39m\u001b[38;5;241m.\u001b[39m_make_estimator(append\u001b[38;5;241m=\u001b[39m\u001b[38;5;28;01mFalse\u001b[39;00m, random_state\u001b[38;5;241m=\u001b[39mrandom_state)\n\u001b[1;32m    447\u001b[0m     \u001b[38;5;28;01mfor\u001b[39;00m i \u001b[38;5;129;01min\u001b[39;00m \u001b[38;5;28mrange\u001b[39m(n_more_estimators)\n\u001b[1;32m    448\u001b[0m ]\n\u001b[1;32m    450\u001b[0m \u001b[38;5;66;03m# Parallel loop: we prefer the threading backend as the Cython code\u001b[39;00m\n\u001b[1;32m    451\u001b[0m \u001b[38;5;66;03m# for fitting the trees is internally releasing the Python GIL\u001b[39;00m\n\u001b[1;32m    452\u001b[0m \u001b[38;5;66;03m# making threading more efficient than multiprocessing in\u001b[39;00m\n\u001b[1;32m    453\u001b[0m \u001b[38;5;66;03m# that case. However, for joblib 0.12+ we respect any\u001b[39;00m\n\u001b[1;32m    454\u001b[0m \u001b[38;5;66;03m# parallel_backend contexts set at a higher level,\u001b[39;00m\n\u001b[1;32m    455\u001b[0m \u001b[38;5;66;03m# since correctness does not rely on using threads.\u001b[39;00m\n\u001b[0;32m--> 456\u001b[0m trees \u001b[38;5;241m=\u001b[39m \u001b[43mParallel\u001b[49m\u001b[43m(\u001b[49m\n\u001b[1;32m    457\u001b[0m \u001b[43m    \u001b[49m\u001b[43mn_jobs\u001b[49m\u001b[38;5;241;43m=\u001b[39;49m\u001b[38;5;28;43mself\u001b[39;49m\u001b[38;5;241;43m.\u001b[39;49m\u001b[43mn_jobs\u001b[49m\u001b[43m,\u001b[49m\n\u001b[1;32m    458\u001b[0m \u001b[43m    \u001b[49m\u001b[43mverbose\u001b[49m\u001b[38;5;241;43m=\u001b[39;49m\u001b[38;5;28;43mself\u001b[39;49m\u001b[38;5;241;43m.\u001b[39;49m\u001b[43mverbose\u001b[49m\u001b[43m,\u001b[49m\n\u001b[1;32m    459\u001b[0m \u001b[43m    \u001b[49m\u001b[43mprefer\u001b[49m\u001b[38;5;241;43m=\u001b[39;49m\u001b[38;5;124;43m\"\u001b[39;49m\u001b[38;5;124;43mthreads\u001b[39;49m\u001b[38;5;124;43m\"\u001b[39;49m\u001b[43m,\u001b[49m\n\u001b[1;32m    460\u001b[0m \u001b[43m\u001b[49m\u001b[43m)\u001b[49m\u001b[43m(\u001b[49m\n\u001b[1;32m    461\u001b[0m \u001b[43m    \u001b[49m\u001b[43mdelayed\u001b[49m\u001b[43m(\u001b[49m\u001b[43m_parallel_build_trees\u001b[49m\u001b[43m)\u001b[49m\u001b[43m(\u001b[49m\n\u001b[1;32m    462\u001b[0m \u001b[43m        \u001b[49m\u001b[43mt\u001b[49m\u001b[43m,\u001b[49m\n\u001b[1;32m    463\u001b[0m \u001b[43m        \u001b[49m\u001b[38;5;28;43mself\u001b[39;49m\u001b[38;5;241;43m.\u001b[39;49m\u001b[43mbootstrap\u001b[49m\u001b[43m,\u001b[49m\n\u001b[1;32m    464\u001b[0m \u001b[43m        \u001b[49m\u001b[43mX\u001b[49m\u001b[43m,\u001b[49m\n\u001b[1;32m    465\u001b[0m \u001b[43m        \u001b[49m\u001b[43my\u001b[49m\u001b[43m,\u001b[49m\n\u001b[1;32m    466\u001b[0m \u001b[43m        \u001b[49m\u001b[43msample_weight\u001b[49m\u001b[43m,\u001b[49m\n\u001b[1;32m    467\u001b[0m \u001b[43m        \u001b[49m\u001b[43mi\u001b[49m\u001b[43m,\u001b[49m\n\u001b[1;32m    468\u001b[0m \u001b[43m        \u001b[49m\u001b[38;5;28;43mlen\u001b[39;49m\u001b[43m(\u001b[49m\u001b[43mtrees\u001b[49m\u001b[43m)\u001b[49m\u001b[43m,\u001b[49m\n\u001b[1;32m    469\u001b[0m \u001b[43m        \u001b[49m\u001b[43mverbose\u001b[49m\u001b[38;5;241;43m=\u001b[39;49m\u001b[38;5;28;43mself\u001b[39;49m\u001b[38;5;241;43m.\u001b[39;49m\u001b[43mverbose\u001b[49m\u001b[43m,\u001b[49m\n\u001b[1;32m    470\u001b[0m \u001b[43m        \u001b[49m\u001b[43mclass_weight\u001b[49m\u001b[38;5;241;43m=\u001b[39;49m\u001b[38;5;28;43mself\u001b[39;49m\u001b[38;5;241;43m.\u001b[39;49m\u001b[43mclass_weight\u001b[49m\u001b[43m,\u001b[49m\n\u001b[1;32m    471\u001b[0m \u001b[43m        \u001b[49m\u001b[43mn_samples_bootstrap\u001b[49m\u001b[38;5;241;43m=\u001b[39;49m\u001b[43mn_samples_bootstrap\u001b[49m\u001b[43m,\u001b[49m\n\u001b[1;32m    472\u001b[0m \u001b[43m    \u001b[49m\u001b[43m)\u001b[49m\n\u001b[1;32m    473\u001b[0m \u001b[43m    \u001b[49m\u001b[38;5;28;43;01mfor\u001b[39;49;00m\u001b[43m \u001b[49m\u001b[43mi\u001b[49m\u001b[43m,\u001b[49m\u001b[43m \u001b[49m\u001b[43mt\u001b[49m\u001b[43m \u001b[49m\u001b[38;5;129;43;01min\u001b[39;49;00m\u001b[43m \u001b[49m\u001b[38;5;28;43menumerate\u001b[39;49m\u001b[43m(\u001b[49m\u001b[43mtrees\u001b[49m\u001b[43m)\u001b[49m\n\u001b[1;32m    474\u001b[0m \u001b[43m\u001b[49m\u001b[43m)\u001b[49m\n\u001b[1;32m    476\u001b[0m \u001b[38;5;66;03m# Collect newly grown trees\u001b[39;00m\n\u001b[1;32m    477\u001b[0m \u001b[38;5;28mself\u001b[39m\u001b[38;5;241m.\u001b[39mestimators_\u001b[38;5;241m.\u001b[39mextend(trees)\n",
            "File \u001b[0;32m~/.pyenv/versions/3.8.12/lib/python3.8/site-packages/sklearn/utils/parallel.py:65\u001b[0m, in \u001b[0;36mParallel.__call__\u001b[0;34m(self, iterable)\u001b[0m\n\u001b[1;32m     60\u001b[0m config \u001b[38;5;241m=\u001b[39m get_config()\n\u001b[1;32m     61\u001b[0m iterable_with_config \u001b[38;5;241m=\u001b[39m (\n\u001b[1;32m     62\u001b[0m     (_with_config(delayed_func, config), args, kwargs)\n\u001b[1;32m     63\u001b[0m     \u001b[38;5;28;01mfor\u001b[39;00m delayed_func, args, kwargs \u001b[38;5;129;01min\u001b[39;00m iterable\n\u001b[1;32m     64\u001b[0m )\n\u001b[0;32m---> 65\u001b[0m \u001b[38;5;28;01mreturn\u001b[39;00m \u001b[38;5;28;43msuper\u001b[39;49m\u001b[43m(\u001b[49m\u001b[43m)\u001b[49m\u001b[38;5;241;43m.\u001b[39;49m\u001b[38;5;21;43m__call__\u001b[39;49m\u001b[43m(\u001b[49m\u001b[43miterable_with_config\u001b[49m\u001b[43m)\u001b[49m\n",
            "File \u001b[0;32m~/.pyenv/versions/3.8.12/lib/python3.8/site-packages/joblib/parallel.py:1918\u001b[0m, in \u001b[0;36mParallel.__call__\u001b[0;34m(self, iterable)\u001b[0m\n\u001b[1;32m   1916\u001b[0m     output \u001b[38;5;241m=\u001b[39m \u001b[38;5;28mself\u001b[39m\u001b[38;5;241m.\u001b[39m_get_sequential_output(iterable)\n\u001b[1;32m   1917\u001b[0m     \u001b[38;5;28mnext\u001b[39m(output)\n\u001b[0;32m-> 1918\u001b[0m     \u001b[38;5;28;01mreturn\u001b[39;00m output \u001b[38;5;28;01mif\u001b[39;00m \u001b[38;5;28mself\u001b[39m\u001b[38;5;241m.\u001b[39mreturn_generator \u001b[38;5;28;01melse\u001b[39;00m \u001b[38;5;28;43mlist\u001b[39;49m\u001b[43m(\u001b[49m\u001b[43moutput\u001b[49m\u001b[43m)\u001b[49m\n\u001b[1;32m   1920\u001b[0m \u001b[38;5;66;03m# Let's create an ID that uniquely identifies the current call. If the\u001b[39;00m\n\u001b[1;32m   1921\u001b[0m \u001b[38;5;66;03m# call is interrupted early and that the same instance is immediately\u001b[39;00m\n\u001b[1;32m   1922\u001b[0m \u001b[38;5;66;03m# re-used, this id will be used to prevent workers that were\u001b[39;00m\n\u001b[1;32m   1923\u001b[0m \u001b[38;5;66;03m# concurrently finalizing a task from the previous call to run the\u001b[39;00m\n\u001b[1;32m   1924\u001b[0m \u001b[38;5;66;03m# callback.\u001b[39;00m\n\u001b[1;32m   1925\u001b[0m \u001b[38;5;28;01mwith\u001b[39;00m \u001b[38;5;28mself\u001b[39m\u001b[38;5;241m.\u001b[39m_lock:\n",
            "File \u001b[0;32m~/.pyenv/versions/3.8.12/lib/python3.8/site-packages/joblib/parallel.py:1847\u001b[0m, in \u001b[0;36mParallel._get_sequential_output\u001b[0;34m(self, iterable)\u001b[0m\n\u001b[1;32m   1845\u001b[0m \u001b[38;5;28mself\u001b[39m\u001b[38;5;241m.\u001b[39mn_dispatched_batches \u001b[38;5;241m+\u001b[39m\u001b[38;5;241m=\u001b[39m \u001b[38;5;241m1\u001b[39m\n\u001b[1;32m   1846\u001b[0m \u001b[38;5;28mself\u001b[39m\u001b[38;5;241m.\u001b[39mn_dispatched_tasks \u001b[38;5;241m+\u001b[39m\u001b[38;5;241m=\u001b[39m \u001b[38;5;241m1\u001b[39m\n\u001b[0;32m-> 1847\u001b[0m res \u001b[38;5;241m=\u001b[39m \u001b[43mfunc\u001b[49m\u001b[43m(\u001b[49m\u001b[38;5;241;43m*\u001b[39;49m\u001b[43margs\u001b[49m\u001b[43m,\u001b[49m\u001b[43m \u001b[49m\u001b[38;5;241;43m*\u001b[39;49m\u001b[38;5;241;43m*\u001b[39;49m\u001b[43mkwargs\u001b[49m\u001b[43m)\u001b[49m\n\u001b[1;32m   1848\u001b[0m \u001b[38;5;28mself\u001b[39m\u001b[38;5;241m.\u001b[39mn_completed_tasks \u001b[38;5;241m+\u001b[39m\u001b[38;5;241m=\u001b[39m \u001b[38;5;241m1\u001b[39m\n\u001b[1;32m   1849\u001b[0m \u001b[38;5;28mself\u001b[39m\u001b[38;5;241m.\u001b[39mprint_progress()\n",
            "File \u001b[0;32m~/.pyenv/versions/3.8.12/lib/python3.8/site-packages/sklearn/utils/parallel.py:127\u001b[0m, in \u001b[0;36m_FuncWrapper.__call__\u001b[0;34m(self, *args, **kwargs)\u001b[0m\n\u001b[1;32m    125\u001b[0m     config \u001b[38;5;241m=\u001b[39m {}\n\u001b[1;32m    126\u001b[0m \u001b[38;5;28;01mwith\u001b[39;00m config_context(\u001b[38;5;241m*\u001b[39m\u001b[38;5;241m*\u001b[39mconfig):\n\u001b[0;32m--> 127\u001b[0m     \u001b[38;5;28;01mreturn\u001b[39;00m \u001b[38;5;28;43mself\u001b[39;49m\u001b[38;5;241;43m.\u001b[39;49m\u001b[43mfunction\u001b[49m\u001b[43m(\u001b[49m\u001b[38;5;241;43m*\u001b[39;49m\u001b[43margs\u001b[49m\u001b[43m,\u001b[49m\u001b[43m \u001b[49m\u001b[38;5;241;43m*\u001b[39;49m\u001b[38;5;241;43m*\u001b[39;49m\u001b[43mkwargs\u001b[49m\u001b[43m)\u001b[49m\n",
            "File \u001b[0;32m~/.pyenv/versions/3.8.12/lib/python3.8/site-packages/sklearn/ensemble/_forest.py:188\u001b[0m, in \u001b[0;36m_parallel_build_trees\u001b[0;34m(tree, bootstrap, X, y, sample_weight, tree_idx, n_trees, verbose, class_weight, n_samples_bootstrap)\u001b[0m\n\u001b[1;32m    185\u001b[0m     \u001b[38;5;28;01melif\u001b[39;00m class_weight \u001b[38;5;241m==\u001b[39m \u001b[38;5;124m\"\u001b[39m\u001b[38;5;124mbalanced_subsample\u001b[39m\u001b[38;5;124m\"\u001b[39m:\n\u001b[1;32m    186\u001b[0m         curr_sample_weight \u001b[38;5;241m*\u001b[39m\u001b[38;5;241m=\u001b[39m compute_sample_weight(\u001b[38;5;124m\"\u001b[39m\u001b[38;5;124mbalanced\u001b[39m\u001b[38;5;124m\"\u001b[39m, y, indices\u001b[38;5;241m=\u001b[39mindices)\n\u001b[0;32m--> 188\u001b[0m     \u001b[43mtree\u001b[49m\u001b[38;5;241;43m.\u001b[39;49m\u001b[43mfit\u001b[49m\u001b[43m(\u001b[49m\u001b[43mX\u001b[49m\u001b[43m,\u001b[49m\u001b[43m \u001b[49m\u001b[43my\u001b[49m\u001b[43m,\u001b[49m\u001b[43m \u001b[49m\u001b[43msample_weight\u001b[49m\u001b[38;5;241;43m=\u001b[39;49m\u001b[43mcurr_sample_weight\u001b[49m\u001b[43m,\u001b[49m\u001b[43m \u001b[49m\u001b[43mcheck_input\u001b[49m\u001b[38;5;241;43m=\u001b[39;49m\u001b[38;5;28;43;01mFalse\u001b[39;49;00m\u001b[43m)\u001b[49m\n\u001b[1;32m    189\u001b[0m \u001b[38;5;28;01melse\u001b[39;00m:\n\u001b[1;32m    190\u001b[0m     tree\u001b[38;5;241m.\u001b[39mfit(X, y, sample_weight\u001b[38;5;241m=\u001b[39msample_weight, check_input\u001b[38;5;241m=\u001b[39m\u001b[38;5;28;01mFalse\u001b[39;00m)\n",
            "File \u001b[0;32m~/.pyenv/versions/3.8.12/lib/python3.8/site-packages/sklearn/base.py:1152\u001b[0m, in \u001b[0;36m_fit_context.<locals>.decorator.<locals>.wrapper\u001b[0;34m(estimator, *args, **kwargs)\u001b[0m\n\u001b[1;32m   1145\u001b[0m     estimator\u001b[38;5;241m.\u001b[39m_validate_params()\n\u001b[1;32m   1147\u001b[0m \u001b[38;5;28;01mwith\u001b[39;00m config_context(\n\u001b[1;32m   1148\u001b[0m     skip_parameter_validation\u001b[38;5;241m=\u001b[39m(\n\u001b[1;32m   1149\u001b[0m         prefer_skip_nested_validation \u001b[38;5;129;01mor\u001b[39;00m global_skip_validation\n\u001b[1;32m   1150\u001b[0m     )\n\u001b[1;32m   1151\u001b[0m ):\n\u001b[0;32m-> 1152\u001b[0m     \u001b[38;5;28;01mreturn\u001b[39;00m \u001b[43mfit_method\u001b[49m\u001b[43m(\u001b[49m\u001b[43mestimator\u001b[49m\u001b[43m,\u001b[49m\u001b[43m \u001b[49m\u001b[38;5;241;43m*\u001b[39;49m\u001b[43margs\u001b[49m\u001b[43m,\u001b[49m\u001b[43m \u001b[49m\u001b[38;5;241;43m*\u001b[39;49m\u001b[38;5;241;43m*\u001b[39;49m\u001b[43mkwargs\u001b[49m\u001b[43m)\u001b[49m\n",
            "File \u001b[0;32m~/.pyenv/versions/3.8.12/lib/python3.8/site-packages/sklearn/tree/_classes.py:1320\u001b[0m, in \u001b[0;36mDecisionTreeRegressor.fit\u001b[0;34m(self, X, y, sample_weight, check_input)\u001b[0m\n\u001b[1;32m   1290\u001b[0m \u001b[38;5;129m@_fit_context\u001b[39m(prefer_skip_nested_validation\u001b[38;5;241m=\u001b[39m\u001b[38;5;28;01mTrue\u001b[39;00m)\n\u001b[1;32m   1291\u001b[0m \u001b[38;5;28;01mdef\u001b[39;00m\u001b[38;5;250m \u001b[39m\u001b[38;5;21mfit\u001b[39m(\u001b[38;5;28mself\u001b[39m, X, y, sample_weight\u001b[38;5;241m=\u001b[39m\u001b[38;5;28;01mNone\u001b[39;00m, check_input\u001b[38;5;241m=\u001b[39m\u001b[38;5;28;01mTrue\u001b[39;00m):\n\u001b[1;32m   1292\u001b[0m \u001b[38;5;250m    \u001b[39m\u001b[38;5;124;03m\"\"\"Build a decision tree regressor from the training set (X, y).\u001b[39;00m\n\u001b[1;32m   1293\u001b[0m \n\u001b[1;32m   1294\u001b[0m \u001b[38;5;124;03m    Parameters\u001b[39;00m\n\u001b[0;32m   (...)\u001b[0m\n\u001b[1;32m   1317\u001b[0m \u001b[38;5;124;03m        Fitted estimator.\u001b[39;00m\n\u001b[1;32m   1318\u001b[0m \u001b[38;5;124;03m    \"\"\"\u001b[39;00m\n\u001b[0;32m-> 1320\u001b[0m     \u001b[38;5;28;43msuper\u001b[39;49m\u001b[43m(\u001b[49m\u001b[43m)\u001b[49m\u001b[38;5;241;43m.\u001b[39;49m\u001b[43m_fit\u001b[49m\u001b[43m(\u001b[49m\n\u001b[1;32m   1321\u001b[0m \u001b[43m        \u001b[49m\u001b[43mX\u001b[49m\u001b[43m,\u001b[49m\n\u001b[1;32m   1322\u001b[0m \u001b[43m        \u001b[49m\u001b[43my\u001b[49m\u001b[43m,\u001b[49m\n\u001b[1;32m   1323\u001b[0m \u001b[43m        \u001b[49m\u001b[43msample_weight\u001b[49m\u001b[38;5;241;43m=\u001b[39;49m\u001b[43msample_weight\u001b[49m\u001b[43m,\u001b[49m\n\u001b[1;32m   1324\u001b[0m \u001b[43m        \u001b[49m\u001b[43mcheck_input\u001b[49m\u001b[38;5;241;43m=\u001b[39;49m\u001b[43mcheck_input\u001b[49m\u001b[43m,\u001b[49m\n\u001b[1;32m   1325\u001b[0m \u001b[43m    \u001b[49m\u001b[43m)\u001b[49m\n\u001b[1;32m   1326\u001b[0m     \u001b[38;5;28;01mreturn\u001b[39;00m \u001b[38;5;28mself\u001b[39m\n",
            "File \u001b[0;32m~/.pyenv/versions/3.8.12/lib/python3.8/site-packages/sklearn/tree/_classes.py:443\u001b[0m, in \u001b[0;36mBaseDecisionTree._fit\u001b[0;34m(self, X, y, sample_weight, check_input, missing_values_in_feature_mask)\u001b[0m\n\u001b[1;32m    432\u001b[0m \u001b[38;5;28;01melse\u001b[39;00m:\n\u001b[1;32m    433\u001b[0m     builder \u001b[38;5;241m=\u001b[39m BestFirstTreeBuilder(\n\u001b[1;32m    434\u001b[0m         splitter,\n\u001b[1;32m    435\u001b[0m         min_samples_split,\n\u001b[0;32m   (...)\u001b[0m\n\u001b[1;32m    440\u001b[0m         \u001b[38;5;28mself\u001b[39m\u001b[38;5;241m.\u001b[39mmin_impurity_decrease,\n\u001b[1;32m    441\u001b[0m     )\n\u001b[0;32m--> 443\u001b[0m \u001b[43mbuilder\u001b[49m\u001b[38;5;241;43m.\u001b[39;49m\u001b[43mbuild\u001b[49m\u001b[43m(\u001b[49m\u001b[38;5;28;43mself\u001b[39;49m\u001b[38;5;241;43m.\u001b[39;49m\u001b[43mtree_\u001b[49m\u001b[43m,\u001b[49m\u001b[43m \u001b[49m\u001b[43mX\u001b[49m\u001b[43m,\u001b[49m\u001b[43m \u001b[49m\u001b[43my\u001b[49m\u001b[43m,\u001b[49m\u001b[43m \u001b[49m\u001b[43msample_weight\u001b[49m\u001b[43m,\u001b[49m\u001b[43m \u001b[49m\u001b[43mmissing_values_in_feature_mask\u001b[49m\u001b[43m)\u001b[49m\n\u001b[1;32m    445\u001b[0m \u001b[38;5;28;01mif\u001b[39;00m \u001b[38;5;28mself\u001b[39m\u001b[38;5;241m.\u001b[39mn_outputs_ \u001b[38;5;241m==\u001b[39m \u001b[38;5;241m1\u001b[39m \u001b[38;5;129;01mand\u001b[39;00m is_classifier(\u001b[38;5;28mself\u001b[39m):\n\u001b[1;32m    446\u001b[0m     \u001b[38;5;28mself\u001b[39m\u001b[38;5;241m.\u001b[39mn_classes_ \u001b[38;5;241m=\u001b[39m \u001b[38;5;28mself\u001b[39m\u001b[38;5;241m.\u001b[39mn_classes_[\u001b[38;5;241m0\u001b[39m]\n",
            "\u001b[0;31mKeyboardInterrupt\u001b[0m: "
          ]
        }
      ],
      "source": [
        "# Initialize Random Forest model\n",
        "model_2 = RandomForestRegressor(\n",
        "    n_estimators=100,\n",
        "    max_depth=5,  # Prevents deep trees\n",
        "    random_state=42,\n",
        "    criterion=\"absolute_error\"\n",
        ")\n",
        "\n",
        "# Train on training data\n",
        "model_2.fit(X_train, y_train)\n",
        "\n",
        "# Make predictions on validation set\n",
        "y_pred_model_2 = np.expm1(model_2.predict(X_val))"
      ]
    },
    {
      "cell_type": "code",
      "execution_count": null,
      "metadata": {
        "colab": {
          "base_uri": "https://localhost:8080/"
        },
        "id": "YxKMjZS5LTsh",
        "outputId": "dfd46223-da09-48b2-8a37-df304845daca"
      },
      "outputs": [
        {
          "name": "stdout",
          "output_type": "stream",
          "text": [
            "Model 3 (Random Forest) Performance:\n",
            "MAE  (Mean Absolute Error): 7222.9321\n",
            "MSE  (Mean Squared Error): 186006650.4038\n",
            "RMSE (Root Mean Squared Error): 13638.4255\n",
            "R² Score: 0.3842\n"
          ]
        }
      ],
      "source": [
        "# Compute Evaluation Metrics\n",
        "mae = mean_absolute_error(y_val, y_pred_model_2)\n",
        "mse = mean_squared_error(y_val, y_pred_model_2)\n",
        "rmse = np.sqrt(mse)\n",
        "r2 = r2_score(y_val, y_pred_model_2)\n",
        "\n",
        "# Print Results\n",
        "print(f\"Model 3 (Random Forest) Performance:\")\n",
        "print(f\"MAE  (Mean Absolute Error): {mae:.4f}\")\n",
        "print(f\"MSE  (Mean Squared Error): {mse:.4f}\")\n",
        "print(f\"RMSE (Root Mean Squared Error): {rmse:.4f}\")\n",
        "print(f\"R² Score: {r2:.4f}\")"
      ]
    },
    {
      "cell_type": "markdown",
      "metadata": {
        "id": "zcn3vsZxLuBq"
      },
      "source": [
        "## Model 3: Gradient Boost"
      ]
    },
    {
      "cell_type": "code",
      "execution_count": null,
      "metadata": {
        "id": "VKIXydGhLwWa"
      },
      "outputs": [],
      "source": [
        "# Initialize Gradient Boosting model\n",
        "model_3 = GradientBoostingRegressor(n_estimators=100, learning_rate=0.1, max_depth=3, random_state=42)\n",
        "\n",
        "# Train on training data\n",
        "model_3.fit(X_train, y_train)\n",
        "\n",
        "# Make predictions on validation set\n",
        "y_pred_model_3 = np.expm1(model_3.predict(X_val))"
      ]
    },
    {
      "cell_type": "code",
      "execution_count": null,
      "metadata": {
        "colab": {
          "base_uri": "https://localhost:8080/"
        },
        "id": "7eB53rlRMGHO",
        "outputId": "c78dff67-85ca-4145-c160-0b03e4c9cdc3"
      },
      "outputs": [
        {
          "name": "stdout",
          "output_type": "stream",
          "text": [
            "Model 3 (Gradient Boosting) Performance:\n",
            "MAE  (Mean Absolute Error): 6920.4853\n",
            "MSE  (Mean Squared Error): 166494226.2445\n",
            "RMSE (Root Mean Squared Error): 12903.2642\n",
            "R² Score: 0.4488\n"
          ]
        }
      ],
      "source": [
        "# Compute Evaluation Metrics\n",
        "mae = mean_absolute_error(y_val, y_pred_model_3)\n",
        "mse = mean_squared_error(y_val, y_pred_model_3)\n",
        "rmse = np.sqrt(mse)\n",
        "r2 = r2_score(y_val, y_pred_model_3)\n",
        "\n",
        "# Print Results\n",
        "print(f\"Model 3 (Gradient Boosting) Performance:\")\n",
        "print(f\"MAE  (Mean Absolute Error): {mae:.4f}\")\n",
        "print(f\"MSE  (Mean Squared Error): {mse:.4f}\")\n",
        "print(f\"RMSE (Root Mean Squared Error): {rmse:.4f}\")\n",
        "print(f\"R² Score: {r2:.4f}\")"
      ]
    },
    {
      "cell_type": "markdown",
      "metadata": {
        "id": "1FnoYD-zNGAT"
      },
      "source": [
        "## Model 4: XGBoost"
      ]
    },
    {
      "cell_type": "code",
      "execution_count": 35,
      "metadata": {
        "colab": {
          "base_uri": "https://localhost:8080/"
        },
        "id": "bf7PBUQmNHyf",
        "outputId": "d9ce6cb0-e322-4efa-8712-016ff462487a"
      },
      "outputs": [
        {
          "name": "stdout",
          "output_type": "stream",
          "text": [
            "Fitting 3 folds for each of 1 candidates, totalling 3 fits\n",
            "[CV] END learning_rate=0.05, max_depth=9, n_estimators=500, reg_alpha=0.1, reg_lambda=1.0, subsample=0.9; total time=   1.5s\n",
            "[CV] END learning_rate=0.05, max_depth=9, n_estimators=500, reg_alpha=0.1, reg_lambda=1.0, subsample=0.9; total time=   1.6s\n",
            "[CV] END learning_rate=0.05, max_depth=9, n_estimators=500, reg_alpha=0.1, reg_lambda=1.0, subsample=0.9; total time=   1.4s\n"
          ]
        }
      ],
      "source": [
        "# Initialize XGBoost Regressor\n",
        "model_4 = XGBRegressor(\n",
        "    objective=\"reg:squarederror\",  # For regression tasks\n",
        "    random_state=42\n",
        ")\n",
        "\n",
        "from sklearn.model_selection import GridSearchCV\n",
        "\n",
        "# Define parameter grid\n",
        "param_grid = {\n",
        "    \"max_depth\": [9],  # Controls tree depth\n",
        "    \"learning_rate\": [0.05],  # Controls step size\n",
        "    \"n_estimators\": [500],  # Number of trees\n",
        "    \"subsample\": [0.9],  # Sample % for each tree\n",
        "    \"reg_alpha\": [0.1],  # L1 regularization\n",
        "    \"reg_lambda\": [1.0],  # L2 regularization\n",
        "}\n",
        "\n",
        "# Initialize GridSearchCV\n",
        "grid_search = GridSearchCV(\n",
        "    estimator=model_4,\n",
        "    param_grid=param_grid,\n",
        "    scoring=\"neg_mean_absolute_error\",  # Use MAE as evaluation metric\n",
        "    cv=3,  # 3-fold cross-validation\n",
        "    verbose=2,\n",
        "    n_jobs=-1  # Use all available CPUs\n",
        ")\n",
        "\n",
        "# Train with log-transformed target\n",
        "grid_search.fit(X_train, y_train)  # Log transformation for stability\n",
        "\n",
        "model_4 = grid_search.best_estimator_\n",
        "\n",
        "# Predict on validation set\n",
        "y_pred_model_4 = np.expm1(model_4.predict(X_val))  # Reverse log transformation"
      ]
    },
    {
      "cell_type": "code",
      "execution_count": 36,
      "metadata": {
        "colab": {
          "base_uri": "https://localhost:8080/"
        },
        "id": "vaHt_20ZNNVI",
        "outputId": "57c9fb29-d03a-4fbf-c060-5c0f51bdefb8"
      },
      "outputs": [
        {
          "name": "stdout",
          "output_type": "stream",
          "text": [
            "Model 4 (XGBoost) Performance:\n",
            "MAE  (Mean Absolute Error): 5087.1782\n",
            "MSE  (Mean Squared Error): 99687621.9789\n",
            "RMSE (Root Mean Squared Error): 9984.3689\n",
            "R² Score: 0.6700\n"
          ]
        }
      ],
      "source": [
        "# Compute Evaluation Metrics\n",
        "mae = mean_absolute_error(y_val, y_pred_model_4)\n",
        "mse = mean_squared_error(y_val, y_pred_model_4)\n",
        "rmse = np.sqrt(mse)\n",
        "r2 = r2_score(y_val, y_pred_model_4)\n",
        "\n",
        "# Print Results\n",
        "print(f\"Model 4 (XGBoost) Performance:\")\n",
        "print(f\"MAE  (Mean Absolute Error): {mae:.4f}\")\n",
        "print(f\"MSE  (Mean Squared Error): {mse:.4f}\")\n",
        "print(f\"RMSE (Root Mean Squared Error): {rmse:.4f}\")\n",
        "print(f\"R² Score: {r2:.4f}\")"
      ]
    },
    {
      "cell_type": "markdown",
      "metadata": {
        "id": "1XJ6o_W9m2YC"
      },
      "source": [
        "## Model 5: Neural Network"
      ]
    },
    {
      "cell_type": "markdown",
      "metadata": {
        "id": "f_vk3v5ZpNYR"
      },
      "source": [
        "### Imports for Keras"
      ]
    },
    {
      "cell_type": "code",
      "execution_count": null,
      "metadata": {
        "id": "M8vv3TqNn6sN"
      },
      "outputs": [],
      "source": [
        "import os\n",
        "\n",
        "os.environ[\"KERAS_BACKEND\"] = \"torch\"\n",
        "\n",
        "import keras\n",
        "from keras.models import Sequential\n",
        "from keras.layers import Dense, InputLayer\n",
        "from keras.optimizers import Adam\n",
        "from tensorflow.keras.layers import Dropout\n",
        "from tensorflow.keras.layers import BatchNormalization"
      ]
    },
    {
      "cell_type": "markdown",
      "metadata": {
        "id": "eyIJNWP8pZ6r"
      },
      "source": [
        "### Model"
      ]
    },
    {
      "cell_type": "code",
      "execution_count": null,
      "metadata": {
        "cell_id": "00033-d7da52c7-7fbf-4f7d-940d-821cbe255b64",
        "colab": {
          "base_uri": "https://localhost:8080/"
        },
        "deepnote_cell_type": "code",
        "deepnote_to_be_reexecuted": true,
        "id": "Az3ec03zuQsX",
        "outputId": "1fa24081-5912-46ee-bdc3-3fec5bef9999",
        "source_hash": "b623e53d",
        "tags": []
      },
      "outputs": [
        {
          "name": "stderr",
          "output_type": "stream",
          "text": [
            "WARNING:absl:At this time, the v2.11+ optimizer `tf.keras.optimizers.Adam` runs slowly on M1/M2 Macs, please use the legacy Keras optimizer instead, located at `tf.keras.optimizers.legacy.Adam`.\n",
            "WARNING:absl:There is a known slowdown when using v2.11+ Keras optimizers on M1/M2 Macs. Falling back to the legacy Keras optimizer, i.e., `tf.keras.optimizers.legacy.Adam`.\n"
          ]
        },
        {
          "name": "stdout",
          "output_type": "stream",
          "text": [
            "Epoch 1/1000\n",
            "61/61 [==============================] - 1s 11ms/step - loss: 55.3464 - mse: 55.3464 - val_loss: 51.5071 - val_mse: 51.5071\n",
            "Epoch 2/1000\n",
            "61/61 [==============================] - 1s 9ms/step - loss: 6.6102 - mse: 6.6102 - val_loss: 11.8051 - val_mse: 11.8051\n",
            "Epoch 3/1000\n",
            "61/61 [==============================] - 1s 10ms/step - loss: 3.0105 - mse: 3.0105 - val_loss: 5.5854 - val_mse: 5.5854\n",
            "Epoch 4/1000\n",
            "61/61 [==============================] - 1s 11ms/step - loss: 2.7049 - mse: 2.7049 - val_loss: 3.0155 - val_mse: 3.0155\n",
            "Epoch 5/1000\n",
            "61/61 [==============================] - 1s 11ms/step - loss: 2.4678 - mse: 2.4678 - val_loss: 2.0706 - val_mse: 2.0706\n",
            "Epoch 6/1000\n",
            "61/61 [==============================] - 1s 10ms/step - loss: 2.3392 - mse: 2.3392 - val_loss: 1.7100 - val_mse: 1.7100\n",
            "Epoch 7/1000\n",
            "61/61 [==============================] - 1s 10ms/step - loss: 2.2240 - mse: 2.2240 - val_loss: 1.5445 - val_mse: 1.5445\n",
            "Epoch 8/1000\n",
            "61/61 [==============================] - 1s 10ms/step - loss: 2.1710 - mse: 2.1710 - val_loss: 1.5879 - val_mse: 1.5879\n",
            "Epoch 9/1000\n",
            "61/61 [==============================] - 1s 11ms/step - loss: 2.0912 - mse: 2.0912 - val_loss: 1.4939 - val_mse: 1.4939\n",
            "Epoch 10/1000\n",
            "61/61 [==============================] - 1s 10ms/step - loss: 2.0127 - mse: 2.0127 - val_loss: 1.4656 - val_mse: 1.4656\n",
            "Epoch 11/1000\n",
            "61/61 [==============================] - 1s 10ms/step - loss: 1.9529 - mse: 1.9529 - val_loss: 1.4519 - val_mse: 1.4519\n",
            "Epoch 12/1000\n",
            "61/61 [==============================] - 1s 10ms/step - loss: 1.9175 - mse: 1.9175 - val_loss: 1.4648 - val_mse: 1.4648\n",
            "Epoch 13/1000\n",
            "61/61 [==============================] - 1s 10ms/step - loss: 1.9217 - mse: 1.9217 - val_loss: 1.3930 - val_mse: 1.3930\n",
            "Epoch 14/1000\n",
            "61/61 [==============================] - 1s 11ms/step - loss: 1.8187 - mse: 1.8187 - val_loss: 1.4161 - val_mse: 1.4161\n",
            "Epoch 15/1000\n",
            "61/61 [==============================] - 1s 14ms/step - loss: 1.8255 - mse: 1.8255 - val_loss: 1.3959 - val_mse: 1.3959\n",
            "Epoch 16/1000\n",
            "61/61 [==============================] - 1s 13ms/step - loss: 1.7742 - mse: 1.7742 - val_loss: 1.3701 - val_mse: 1.3701\n",
            "Epoch 17/1000\n",
            "61/61 [==============================] - 1s 13ms/step - loss: 1.7522 - mse: 1.7522 - val_loss: 1.3546 - val_mse: 1.3546\n",
            "Epoch 18/1000\n",
            "61/61 [==============================] - 1s 13ms/step - loss: 1.7604 - mse: 1.7604 - val_loss: 1.3277 - val_mse: 1.3277\n",
            "Epoch 19/1000\n",
            "61/61 [==============================] - 1s 10ms/step - loss: 1.7032 - mse: 1.7032 - val_loss: 1.3177 - val_mse: 1.3177\n",
            "Epoch 20/1000\n",
            "61/61 [==============================] - 1s 10ms/step - loss: 1.6880 - mse: 1.6880 - val_loss: 1.3753 - val_mse: 1.3753\n",
            "Epoch 21/1000\n",
            "61/61 [==============================] - 1s 10ms/step - loss: 1.6654 - mse: 1.6654 - val_loss: 1.3517 - val_mse: 1.3517\n",
            "Epoch 22/1000\n",
            "61/61 [==============================] - 1s 10ms/step - loss: 1.6708 - mse: 1.6708 - val_loss: 1.3025 - val_mse: 1.3025\n",
            "Epoch 23/1000\n",
            "61/61 [==============================] - 1s 10ms/step - loss: 1.6205 - mse: 1.6205 - val_loss: 1.2876 - val_mse: 1.2876\n",
            "Epoch 24/1000\n",
            "61/61 [==============================] - 1s 10ms/step - loss: 1.6076 - mse: 1.6076 - val_loss: 1.2533 - val_mse: 1.2533\n",
            "Epoch 25/1000\n",
            "61/61 [==============================] - 1s 10ms/step - loss: 1.5975 - mse: 1.5975 - val_loss: 1.2839 - val_mse: 1.2839\n",
            "Epoch 26/1000\n",
            "61/61 [==============================] - 1s 10ms/step - loss: 1.5720 - mse: 1.5720 - val_loss: 1.2583 - val_mse: 1.2583\n",
            "Epoch 27/1000\n",
            "61/61 [==============================] - 1s 11ms/step - loss: 1.5724 - mse: 1.5724 - val_loss: 1.2574 - val_mse: 1.2574\n",
            "Epoch 28/1000\n",
            "61/61 [==============================] - 1s 10ms/step - loss: 1.5536 - mse: 1.5536 - val_loss: 1.2622 - val_mse: 1.2622\n",
            "Epoch 29/1000\n",
            "61/61 [==============================] - 1s 10ms/step - loss: 1.5341 - mse: 1.5341 - val_loss: 1.2578 - val_mse: 1.2578\n",
            "Epoch 30/1000\n",
            "61/61 [==============================] - 1s 10ms/step - loss: 1.5487 - mse: 1.5487 - val_loss: 1.2553 - val_mse: 1.2553\n",
            "Epoch 31/1000\n",
            "61/61 [==============================] - 1s 10ms/step - loss: 1.5800 - mse: 1.5800 - val_loss: 1.2450 - val_mse: 1.2450\n",
            "Epoch 32/1000\n",
            "61/61 [==============================] - 1s 10ms/step - loss: 1.4983 - mse: 1.4983 - val_loss: 1.2439 - val_mse: 1.2439\n",
            "Epoch 33/1000\n",
            "61/61 [==============================] - 1s 10ms/step - loss: 1.4666 - mse: 1.4666 - val_loss: 1.2744 - val_mse: 1.2744\n",
            "Epoch 34/1000\n",
            "61/61 [==============================] - 1s 10ms/step - loss: 1.4921 - mse: 1.4921 - val_loss: 1.2170 - val_mse: 1.2170\n",
            "Epoch 35/1000\n",
            "61/61 [==============================] - 1s 10ms/step - loss: 1.4619 - mse: 1.4619 - val_loss: 1.2637 - val_mse: 1.2637\n",
            "Epoch 36/1000\n",
            "61/61 [==============================] - 1s 10ms/step - loss: 1.4765 - mse: 1.4765 - val_loss: 1.2599 - val_mse: 1.2599\n",
            "Epoch 37/1000\n",
            "61/61 [==============================] - 1s 10ms/step - loss: 1.4149 - mse: 1.4149 - val_loss: 1.2206 - val_mse: 1.2206\n",
            "Epoch 38/1000\n",
            "61/61 [==============================] - 1s 10ms/step - loss: 1.4271 - mse: 1.4271 - val_loss: 1.2406 - val_mse: 1.2406\n",
            "Epoch 39/1000\n",
            "61/61 [==============================] - 1s 10ms/step - loss: 1.4274 - mse: 1.4274 - val_loss: 1.2563 - val_mse: 1.2563\n",
            "Epoch 40/1000\n",
            "61/61 [==============================] - 1s 10ms/step - loss: 1.4109 - mse: 1.4109 - val_loss: 1.2019 - val_mse: 1.2019\n",
            "Epoch 41/1000\n",
            "61/61 [==============================] - 1s 10ms/step - loss: 1.3918 - mse: 1.3918 - val_loss: 1.2080 - val_mse: 1.2080\n",
            "Epoch 42/1000\n",
            "61/61 [==============================] - 1s 10ms/step - loss: 1.3904 - mse: 1.3904 - val_loss: 1.2338 - val_mse: 1.2338\n",
            "Epoch 43/1000\n",
            "61/61 [==============================] - 1s 10ms/step - loss: 1.4090 - mse: 1.4090 - val_loss: 1.2213 - val_mse: 1.2213\n",
            "Epoch 44/1000\n",
            "61/61 [==============================] - 1s 14ms/step - loss: 1.3618 - mse: 1.3618 - val_loss: 1.2360 - val_mse: 1.2360\n",
            "Epoch 45/1000\n",
            "61/61 [==============================] - 1s 12ms/step - loss: 1.3498 - mse: 1.3498 - val_loss: 1.2417 - val_mse: 1.2417\n",
            "Epoch 46/1000\n",
            "61/61 [==============================] - 1s 10ms/step - loss: 1.3495 - mse: 1.3495 - val_loss: 1.2330 - val_mse: 1.2330\n",
            "Epoch 47/1000\n",
            "61/61 [==============================] - 1s 10ms/step - loss: 1.3546 - mse: 1.3546 - val_loss: 1.2664 - val_mse: 1.2664\n",
            "Epoch 48/1000\n",
            "61/61 [==============================] - 1s 11ms/step - loss: 1.3476 - mse: 1.3476 - val_loss: 1.2367 - val_mse: 1.2367\n",
            "Epoch 49/1000\n",
            "61/61 [==============================] - 1s 10ms/step - loss: 1.3161 - mse: 1.3161 - val_loss: 1.2015 - val_mse: 1.2015\n",
            "Epoch 50/1000\n",
            "61/61 [==============================] - 1s 10ms/step - loss: 1.3436 - mse: 1.3436 - val_loss: 1.2229 - val_mse: 1.2229\n",
            "Epoch 51/1000\n",
            "61/61 [==============================] - 1s 10ms/step - loss: 1.3091 - mse: 1.3091 - val_loss: 1.2220 - val_mse: 1.2220\n",
            "Epoch 52/1000\n",
            "61/61 [==============================] - 1s 10ms/step - loss: 1.3043 - mse: 1.3043 - val_loss: 1.2443 - val_mse: 1.2443\n",
            "Epoch 53/1000\n",
            "61/61 [==============================] - 1s 10ms/step - loss: 1.3027 - mse: 1.3027 - val_loss: 1.1880 - val_mse: 1.1880\n",
            "Epoch 54/1000\n",
            "61/61 [==============================] - 1s 10ms/step - loss: 1.2693 - mse: 1.2693 - val_loss: 1.2099 - val_mse: 1.2099\n",
            "Epoch 55/1000\n",
            "61/61 [==============================] - 1s 10ms/step - loss: 1.2749 - mse: 1.2749 - val_loss: 1.2287 - val_mse: 1.2287\n",
            "Epoch 56/1000\n",
            "61/61 [==============================] - 1s 10ms/step - loss: 1.2942 - mse: 1.2942 - val_loss: 1.2220 - val_mse: 1.2220\n",
            "Epoch 57/1000\n",
            "61/61 [==============================] - 1s 11ms/step - loss: 1.2705 - mse: 1.2705 - val_loss: 1.1900 - val_mse: 1.1900\n",
            "Epoch 58/1000\n",
            "61/61 [==============================] - 1s 11ms/step - loss: 1.2371 - mse: 1.2371 - val_loss: 1.1879 - val_mse: 1.1879\n",
            "Epoch 59/1000\n",
            "61/61 [==============================] - 1s 10ms/step - loss: 1.2460 - mse: 1.2460 - val_loss: 1.2512 - val_mse: 1.2512\n",
            "Epoch 60/1000\n",
            "61/61 [==============================] - 1s 10ms/step - loss: 1.2473 - mse: 1.2473 - val_loss: 1.2108 - val_mse: 1.2108\n",
            "Epoch 61/1000\n",
            "61/61 [==============================] - 1s 10ms/step - loss: 1.2529 - mse: 1.2529 - val_loss: 1.2281 - val_mse: 1.2281\n",
            "Epoch 62/1000\n",
            "61/61 [==============================] - 1s 10ms/step - loss: 1.2238 - mse: 1.2238 - val_loss: 1.2166 - val_mse: 1.2166\n",
            "Epoch 63/1000\n",
            "61/61 [==============================] - 1s 10ms/step - loss: 1.2167 - mse: 1.2167 - val_loss: 1.2424 - val_mse: 1.2424\n",
            "Epoch 64/1000\n",
            "61/61 [==============================] - 1s 10ms/step - loss: 1.1999 - mse: 1.1999 - val_loss: 1.2489 - val_mse: 1.2489\n",
            "Epoch 65/1000\n",
            "61/61 [==============================] - 1s 10ms/step - loss: 1.2258 - mse: 1.2258 - val_loss: 1.2098 - val_mse: 1.2098\n",
            "Epoch 66/1000\n",
            "61/61 [==============================] - 1s 10ms/step - loss: 1.1916 - mse: 1.1916 - val_loss: 1.1899 - val_mse: 1.1899\n",
            "Epoch 67/1000\n",
            "61/61 [==============================] - 1s 10ms/step - loss: 1.1985 - mse: 1.1985 - val_loss: 1.2137 - val_mse: 1.2137\n",
            "Epoch 68/1000\n",
            "61/61 [==============================] - 1s 10ms/step - loss: 1.1494 - mse: 1.1494 - val_loss: 1.2845 - val_mse: 1.2845\n",
            "Epoch 69/1000\n",
            "61/61 [==============================] - 1s 11ms/step - loss: 1.1701 - mse: 1.1701 - val_loss: 1.2142 - val_mse: 1.2142\n",
            "Epoch 70/1000\n",
            "61/61 [==============================] - 1s 10ms/step - loss: 1.1887 - mse: 1.1887 - val_loss: 1.2545 - val_mse: 1.2545\n",
            "Epoch 71/1000\n",
            "61/61 [==============================] - 1s 10ms/step - loss: 1.1641 - mse: 1.1641 - val_loss: 1.2340 - val_mse: 1.2340\n",
            "Epoch 72/1000\n",
            "61/61 [==============================] - 1s 10ms/step - loss: 1.1522 - mse: 1.1522 - val_loss: 1.1998 - val_mse: 1.1998\n",
            "Epoch 73/1000\n",
            "61/61 [==============================] - ETA: 0s - loss: 1.1466 - mse: 1.1466Restoring model weights from the end of the best epoch: 58.\n",
            "61/61 [==============================] - 1s 10ms/step - loss: 1.1466 - mse: 1.1466 - val_loss: 1.2726 - val_mse: 1.2726\n",
            "Epoch 73: early stopping\n"
          ]
        }
      ],
      "source": [
        "from tensorflow.keras.optimizers import Adam\n",
        "\n",
        "callback = keras.callbacks.EarlyStopping(\n",
        "    monitor=\"val_loss\",\n",
        "    min_delta=0,\n",
        "    patience=15,\n",
        "    verbose=1,\n",
        "    mode=\"min\",\n",
        "    baseline=None,\n",
        "    restore_best_weights=True,\n",
        "    start_from_epoch=0,\n",
        ")\n",
        "\n",
        "input_layer = InputLayer(input_shape=(X_train_scaled.shape[1],))\n",
        "hidden_layer0 = Dense(units=1024, activation=\"relu\")\n",
        "hidden_layer1 = Dense(units=512, activation=\"relu\")\n",
        "hidden_layer2 = Dense(units=256, activation=\"relu\")\n",
        "hidden_layer3 = Dense(units=128, activation=\"relu\")\n",
        "hidden_layer4 = Dense(units=64, activation=\"relu\")\n",
        "hidden_layer5 = Dense(units=32, activation=\"relu\")\n",
        "hidden_layer6 = Dense(units=16, activation=\"relu\")\n",
        "\n",
        "output_layer = Dense(units=1, activation=\"linear\")\n",
        "\n",
        "model5 = Sequential([\n",
        "  input_layer,\n",
        "  hidden_layer0,\n",
        "  BatchNormalization(),\n",
        "  Dropout(0.2),\n",
        "  hidden_layer1,\n",
        "  BatchNormalization(),\n",
        "  Dropout(0.2),\n",
        "  hidden_layer2,\n",
        "  BatchNormalization(),\n",
        "  Dropout(0.2),\n",
        "  hidden_layer3,\n",
        "  BatchNormalization(),\n",
        "  Dropout(0.2),\n",
        "  hidden_layer4,\n",
        "  hidden_layer5,\n",
        "  hidden_layer6,\n",
        "  output_layer\n",
        "])\n",
        "\n",
        "\n",
        "optim = Adam(learning_rate=0.0003)\n",
        "\n",
        "model5.compile(optimizer=optim, loss=\"mse\",metrics=[\"mse\"])\n",
        "\n",
        "m5 = model5.fit(X_train_scaled, y_train, epochs=1000,batch_size=256, validation_data=(X_val_scaled,np.log1p(y_val)),callbacks=callback)"
      ]
    },
    {
      "cell_type": "code",
      "execution_count": null,
      "metadata": {
        "colab": {
          "base_uri": "https://localhost:8080/"
        },
        "id": "PmwVfMQTKyhP",
        "outputId": "e930c32d-0a2d-410b-b06c-74719e7f28c5"
      },
      "outputs": [
        {
          "data": {
            "image/png": "[encoded data removed]",
            "text/plain": [
              "<Figure size 800x500 with 1 Axes>"
            ]
          },
          "metadata": {},
          "output_type": "display_data"
        }
      ],
      "source": [
        "import matplotlib.pyplot as plt\n",
        "\n",
        "plt.figure(figsize=(8,5))\n",
        "plt.plot(m5.history['loss'], label='Training Loss')\n",
        "plt.plot(m5.history['val_loss'], label='Validation Loss')\n",
        "plt.xlabel(\"Epochs\")\n",
        "plt.ylabel(\"Loss (MSE)\")\n",
        "plt.title(\"Model Training Performance\")\n",
        "plt.legend()\n",
        "plt.show()"
      ]
    },
    {
      "cell_type": "markdown",
      "metadata": {
        "id": "qhKQtiN6cP8Z"
      },
      "source": [
        "## Model 6: Optuna XGBoost"
      ]
    },
    {
      "cell_type": "code",
      "execution_count": null,
      "metadata": {
        "colab": {
          "base_uri": "https://localhost:8080/",
          "height": 1000
        },
        "id": "XmN-G_HocP8Z",
        "outputId": "48479fc9-d95d-4efd-bf77-91f14918225e"
      },
      "outputs": [
        {
          "name": "stderr",
          "output_type": "stream",
          "text": [
            "[I 2025-03-03 19:52:52,915] A new study created in memory with name: no-name-aaee017d-9904-479c-9102-77059702f1fc\n",
            "/var/folders/_z/pk7xchh534z0b20y163z8lbc0000gn/T/ipykernel_57263/1069408239.py:11: FutureWarning: suggest_loguniform has been deprecated in v3.0.0. This feature will be removed in v6.0.0. See https://github.com/optuna/optuna/releases/tag/v3.0.0. Use suggest_float(..., log=True) instead.\n",
            "  \"learning_rate\": trial.suggest_loguniform(\"learning_rate\", 0.01, 0.3),\n",
            "/var/folders/_z/pk7xchh534z0b20y163z8lbc0000gn/T/ipykernel_57263/1069408239.py:14: FutureWarning: suggest_loguniform has been deprecated in v3.0.0. This feature will be removed in v6.0.0. See https://github.com/optuna/optuna/releases/tag/v3.0.0. Use suggest_float(..., log=True) instead.\n",
            "  \"reg_alpha\": trial.suggest_loguniform(\"reg_alpha\", 0.005, 3.0),\n",
            "/var/folders/_z/pk7xchh534z0b20y163z8lbc0000gn/T/ipykernel_57263/1069408239.py:15: FutureWarning: suggest_loguniform has been deprecated in v3.0.0. This feature will be removed in v6.0.0. See https://github.com/optuna/optuna/releases/tag/v3.0.0. Use suggest_float(..., log=True) instead.\n",
            "  \"reg_lambda\": trial.suggest_loguniform(\"reg_lambda\", 3.0, 15.0),\n",
            "[I 2025-03-03 19:53:24,831] Trial 1 finished with value: -0.4843933726018956 and parameters: {'max_depth': 19, 'learning_rate': 0.03924425293946742, 'n_estimators': 1245, 'subsample': 0.5143355758594476, 'reg_alpha': 0.014419372969352206, 'reg_lambda': 3.4194893256632333}. Best is trial 1 with value: -0.4843933726018956.\n",
            "[I 2025-03-03 19:53:37,148] Trial 3 finished with value: -0.4890627753735924 and parameters: {'max_depth': 18, 'learning_rate': 0.07941760580793894, 'n_estimators': 1287, 'subsample': 0.9721771892819735, 'reg_alpha': 0.9323720707787858, 'reg_lambda': 6.429046147694859}. Best is trial 1 with value: -0.4843933726018956.\n",
            "[I 2025-03-03 19:53:42,652] Trial 2 finished with value: -0.508821302973845 and parameters: {'max_depth': 24, 'learning_rate': 0.2714333931465016, 'n_estimators': 1410, 'subsample': 0.7311988382306156, 'reg_alpha': 0.040304177832171946, 'reg_lambda': 3.064238313397624}. Best is trial 1 with value: -0.4843933726018956.\n",
            "[I 2025-03-03 19:53:53,145] Trial 0 finished with value: -0.48821046923094036 and parameters: {'max_depth': 17, 'learning_rate': 0.04839986305238987, 'n_estimators': 1220, 'subsample': 0.6494345662839857, 'reg_alpha': 0.660973194967366, 'reg_lambda': 3.878735049686355}. Best is trial 1 with value: -0.4843933726018956.\n",
            "[I 2025-03-03 19:54:03,770] Trial 5 finished with value: -0.4907094765261645 and parameters: {'max_depth': 21, 'learning_rate': 0.055080461873021014, 'n_estimators': 1086, 'subsample': 0.9789437576475006, 'reg_alpha': 1.6471505838511133, 'reg_lambda': 3.982002841602294}. Best is trial 1 with value: -0.4843933726018956.\n",
            "[I 2025-03-03 19:54:08,576] Trial 7 finished with value: -0.4778669641955931 and parameters: {'max_depth': 22, 'learning_rate': 0.038078014635871515, 'n_estimators': 528, 'subsample': 0.7741350474576987, 'reg_alpha': 0.16586098315204081, 'reg_lambda': 3.0117965034730734}. Best is trial 7 with value: -0.4778669641955931.\n",
            "/Users/maltestaab/.pyenv/versions/3.8.12/lib/python3.8/site-packages/joblib/externals/loky/process_executor.py:752: UserWarning: A worker stopped while some jobs were given to the executor. This can be caused by a too short worker timeout or by a memory leak.\n",
            "  warnings.warn(\n",
            "[I 2025-03-03 19:54:49,980] Trial 6 finished with value: -0.47955144140376654 and parameters: {'max_depth': 21, 'learning_rate': 0.03147950944375125, 'n_estimators': 1395, 'subsample': 0.9833996731738598, 'reg_alpha': 0.02229749509260938, 'reg_lambda': 8.171398889510547}. Best is trial 7 with value: -0.4778669641955931.\n",
            "[I 2025-03-03 19:54:51,290] Trial 4 finished with value: -0.4816281387960902 and parameters: {'max_depth': 25, 'learning_rate': 0.08423555853761029, 'n_estimators': 995, 'subsample': 0.9537775454225035, 'reg_alpha': 0.012306109761144086, 'reg_lambda': 3.2685489273230304}. Best is trial 7 with value: -0.4778669641955931.\n",
            "[I 2025-03-03 19:54:57,535] Trial 8 finished with value: -0.5168129892833864 and parameters: {'max_depth': 10, 'learning_rate': 0.07370824849276227, 'n_estimators': 1398, 'subsample': 0.7266706352998917, 'reg_alpha': 0.6771280782613542, 'reg_lambda': 14.797429966083975}. Best is trial 7 with value: -0.4778669641955931.\n",
            "[I 2025-03-03 19:55:04,384] Trial 9 finished with value: -0.48308410836994975 and parameters: {'max_depth': 21, 'learning_rate': 0.17251362268538906, 'n_estimators': 1119, 'subsample': 0.9652275698766696, 'reg_alpha': 0.06494866095966151, 'reg_lambda': 4.067756472119143}. Best is trial 7 with value: -0.4778669641955931.\n",
            "[I 2025-03-03 19:55:38,352] Trial 11 finished with value: -0.48219287003298383 and parameters: {'max_depth': 21, 'learning_rate': 0.06365388462546435, 'n_estimators': 763, 'subsample': 0.7118553293873321, 'reg_alpha': 0.19217370221773616, 'reg_lambda': 6.3960121367477285}. Best is trial 7 with value: -0.4778669641955931.\n",
            "[I 2025-03-03 19:55:39,110] Trial 10 finished with value: -0.48071662178415336 and parameters: {'max_depth': 22, 'learning_rate': 0.017217839384325268, 'n_estimators': 1354, 'subsample': 0.5146410364672305, 'reg_alpha': 0.04807721583928601, 'reg_lambda': 4.929079490086814}. Best is trial 7 with value: -0.4778669641955931.\n",
            "[I 2025-03-03 19:55:43,180] Trial 12 finished with value: -0.5001791759726253 and parameters: {'max_depth': 11, 'learning_rate': 0.12366805600076658, 'n_estimators': 971, 'subsample': 0.9108333673657751, 'reg_alpha': 0.10703407640885948, 'reg_lambda': 6.453051291357421}. Best is trial 7 with value: -0.4778669641955931.\n",
            "[I 2025-03-03 19:55:54,846] Trial 14 finished with value: -0.4951062216524303 and parameters: {'max_depth': 19, 'learning_rate': 0.24847834422101048, 'n_estimators': 718, 'subsample': 0.9738583531301599, 'reg_alpha': 0.7336515248064363, 'reg_lambda': 9.954183403666825}. Best is trial 7 with value: -0.4778669641955931.\n",
            "[I 2025-03-03 19:56:08,778] Trial 13 finished with value: -0.48409309833435854 and parameters: {'max_depth': 25, 'learning_rate': 0.0971255710357664, 'n_estimators': 1174, 'subsample': 0.7258879124897268, 'reg_alpha': 0.027179343865618957, 'reg_lambda': 11.563331457156192}. Best is trial 7 with value: -0.4778669641955931.\n",
            "[I 2025-03-03 19:56:29,206] Trial 16 finished with value: -0.5081914313998064 and parameters: {'max_depth': 19, 'learning_rate': 0.1139411904140469, 'n_estimators': 760, 'subsample': 0.5609086318417, 'reg_alpha': 1.6732420929047545, 'reg_lambda': 10.14881276940574}. Best is trial 7 with value: -0.4778669641955931.\n",
            "[I 2025-03-03 19:56:37,505] Trial 17 finished with value: -0.5163083387633559 and parameters: {'max_depth': 14, 'learning_rate': 0.01081229828690063, 'n_estimators': 501, 'subsample': 0.8366696835918925, 'reg_alpha': 0.1766016530953102, 'reg_lambda': 5.7253813488714425}. Best is trial 7 with value: -0.4778669641955931.\n",
            "[I 2025-03-03 19:56:39,319] Trial 15 finished with value: -0.4831664189295979 and parameters: {'max_depth': 19, 'learning_rate': 0.021681796541824346, 'n_estimators': 1470, 'subsample': 0.540524481344699, 'reg_alpha': 0.16167570694744737, 'reg_lambda': 4.524889375437415}. Best is trial 7 with value: -0.4778669641955931.\n",
            "[I 2025-03-03 19:56:46,358] Trial 18 finished with value: -0.5008881371083056 and parameters: {'max_depth': 15, 'learning_rate': 0.017431971994786244, 'n_estimators': 511, 'subsample': 0.8359937423161634, 'reg_alpha': 0.2076709861863267, 'reg_lambda': 10.30867337453587}. Best is trial 7 with value: -0.4778669641955931.\n",
            "[I 2025-03-03 19:56:53,228] Trial 19 finished with value: -0.49327453901296014 and parameters: {'max_depth': 15, 'learning_rate': 0.021055799051286343, 'n_estimators': 587, 'subsample': 0.8411953471678544, 'reg_alpha': 0.1529790439176103, 'reg_lambda': 10.237274590635275}. Best is trial 7 with value: -0.4778669641955931.\n",
            "[I 2025-03-03 19:56:59,863] Trial 20 finished with value: -0.5089071369719149 and parameters: {'max_depth': 14, 'learning_rate': 0.015833447926582946, 'n_estimators': 519, 'subsample': 0.8472688156557537, 'reg_alpha': 0.005225256966670279, 'reg_lambda': 9.848812960700553}. Best is trial 7 with value: -0.4778669641955931.\n",
            "[I 2025-03-03 19:57:03,679] Trial 21 finished with value: -0.4968563699601457 and parameters: {'max_depth': 14, 'learning_rate': 0.02469229718198634, 'n_estimators': 505, 'subsample': 0.8480453097955803, 'reg_alpha': 0.005220746302293314, 'reg_lambda': 9.338205945724063}. Best is trial 7 with value: -0.4778669641955931.\n",
            "[I 2025-03-03 19:57:12,280] Trial 22 finished with value: -0.48475825550971596 and parameters: {'max_depth': 16, 'learning_rate': 0.026265075071663337, 'n_estimators': 563, 'subsample': 0.8281569412921528, 'reg_alpha': 0.00670420856036509, 'reg_lambda': 8.702762672970298}. Best is trial 7 with value: -0.4778669641955931.\n",
            "[I 2025-03-03 19:57:20,028] Trial 23 finished with value: -0.48837827098947617 and parameters: {'max_depth': 15, 'learning_rate': 0.026176764010707683, 'n_estimators': 516, 'subsample': 0.8494123875694307, 'reg_alpha': 0.006149843960984924, 'reg_lambda': 7.990743289712222}. Best is trial 7 with value: -0.4778669641955931.\n",
            "[I 2025-03-03 19:57:25,043] Trial 24 finished with value: -0.4858456142461166 and parameters: {'max_depth': 16, 'learning_rate': 0.02995942439715477, 'n_estimators': 601, 'subsample': 0.8059549812997169, 'reg_alpha': 0.3365759620519733, 'reg_lambda': 8.2349862838779}. Best is trial 7 with value: -0.4778669641955931.\n",
            "[I 2025-03-03 19:57:46,183] Trial 25 finished with value: -0.47564511183069663 and parameters: {'max_depth': 23, 'learning_rate': 0.02978460637988067, 'n_estimators': 511, 'subsample': 0.8277800124360013, 'reg_alpha': 0.007013352310423105, 'reg_lambda': 7.656404845762019}. Best is trial 25 with value: -0.47564511183069663.\n",
            "[I 2025-03-03 19:58:13,624] Trial 26 finished with value: -0.47636728883102036 and parameters: {'max_depth': 23, 'learning_rate': 0.030397084619599196, 'n_estimators': 865, 'subsample': 0.818342787802193, 'reg_alpha': 0.006427940735792369, 'reg_lambda': 8.662109167730952}. Best is trial 25 with value: -0.47564511183069663.\n",
            "[I 2025-03-03 19:58:33,324] Trial 27 finished with value: -0.47920360146475033 and parameters: {'max_depth': 23, 'learning_rate': 0.0336570766316001, 'n_estimators': 883, 'subsample': 0.6372079828447156, 'reg_alpha': 0.006771697451873122, 'reg_lambda': 7.85178819795738}. Best is trial 25 with value: -0.47564511183069663.\n",
            "[I 2025-03-03 19:58:53,167] Trial 28 finished with value: -0.47897247852934904 and parameters: {'max_depth': 23, 'learning_rate': 0.03117985869414454, 'n_estimators': 902, 'subsample': 0.6391779749655893, 'reg_alpha': 0.05352706127509554, 'reg_lambda': 8.175494350029773}. Best is trial 25 with value: -0.47564511183069663.\n",
            "[I 2025-03-03 19:59:31,672] Trial 29 finished with value: -0.48083851852759346 and parameters: {'max_depth': 23, 'learning_rate': 0.031880870383024375, 'n_estimators': 1315, 'subsample': 0.6426067895651781, 'reg_alpha': 0.06649955493676438, 'reg_lambda': 8.023337994984065}. Best is trial 25 with value: -0.47564511183069663.\n",
            "[I 2025-03-03 19:59:49,755] Trial 30 finished with value: -0.48098241309415946 and parameters: {'max_depth': 23, 'learning_rate': 0.036535914136739255, 'n_estimators': 904, 'subsample': 0.6368458573448089, 'reg_alpha': 0.06625211570633595, 'reg_lambda': 5.205939405653035}. Best is trial 25 with value: -0.47564511183069663.\n",
            "[I 2025-03-03 20:00:11,205] Trial 31 finished with value: -0.48073708954300287 and parameters: {'max_depth': 23, 'learning_rate': 0.0356117549011791, 'n_estimators': 1355, 'subsample': 0.6125998529564143, 'reg_alpha': 0.059330834836731, 'reg_lambda': 5.152926381309801}. Best is trial 25 with value: -0.47564511183069663.\n",
            "[I 2025-03-03 20:00:33,887] Trial 32 finished with value: -0.48018061436444415 and parameters: {'max_depth': 23, 'learning_rate': 0.03753217661012379, 'n_estimators': 906, 'subsample': 0.5852828960884922, 'reg_alpha': 0.06945137737959732, 'reg_lambda': 5.283812914641518}. Best is trial 25 with value: -0.47564511183069663.\n",
            "[I 2025-03-03 20:00:51,676] Trial 33 finished with value: -0.4772045972635163 and parameters: {'max_depth': 23, 'learning_rate': 0.03784811466840075, 'n_estimators': 855, 'subsample': 0.7828340885529914, 'reg_alpha': 0.017548312100583392, 'reg_lambda': 7.41954595780847}. Best is trial 25 with value: -0.47564511183069663.\n",
            "[I 2025-03-03 20:01:21,667] Trial 34 finished with value: -0.47763099143927545 and parameters: {'max_depth': 23, 'learning_rate': 0.04068565828189105, 'n_estimators': 877, 'subsample': 0.7642228380967686, 'reg_alpha': 0.013563097245182692, 'reg_lambda': 7.421963674901715}. Best is trial 25 with value: -0.47564511183069663.\n",
            "[I 2025-03-03 20:01:45,055] Trial 35 finished with value: -0.4774529521738554 and parameters: {'max_depth': 23, 'learning_rate': 0.04218442982026036, 'n_estimators': 668, 'subsample': 0.7845510529979404, 'reg_alpha': 0.011717105206070413, 'reg_lambda': 12.786798756359943}. Best is trial 25 with value: -0.47564511183069663.\n",
            "[I 2025-03-03 20:01:51,972] Trial 36 finished with value: -0.4778805891945767 and parameters: {'max_depth': 23, 'learning_rate': 0.04149324565661064, 'n_estimators': 680, 'subsample': 0.7813955351025785, 'reg_alpha': 0.012364327041254602, 'reg_lambda': 7.18065057410155}. Best is trial 25 with value: -0.47564511183069663.\n",
            "[I 2025-03-03 20:02:20,743] Trial 37 finished with value: -0.47816626377301824 and parameters: {'max_depth': 24, 'learning_rate': 0.04266488904056597, 'n_estimators': 652, 'subsample': 0.7805667968552227, 'reg_alpha': 0.011708335497493812, 'reg_lambda': 12.701585314024488}. Best is trial 25 with value: -0.47564511183069663.\n",
            "[I 2025-03-03 20:02:37,126] Trial 38 finished with value: -0.4769434832124614 and parameters: {'max_depth': 24, 'learning_rate': 0.04476394128775073, 'n_estimators': 670, 'subsample': 0.7767823733321547, 'reg_alpha': 0.01160581995939107, 'reg_lambda': 7.02741570596389}. Best is trial 25 with value: -0.47564511183069663.\n",
            "[I 2025-03-03 20:02:52,833] Trial 39 finished with value: -0.47668552063596137 and parameters: {'max_depth': 24, 'learning_rate': 0.049366820801856094, 'n_estimators': 670, 'subsample': 0.7574514416819438, 'reg_alpha': 0.011400863868961116, 'reg_lambda': 7.1933030571532255}. Best is trial 25 with value: -0.47564511183069663.\n",
            "[I 2025-03-03 20:03:24,066] Trial 40 finished with value: -0.4769610483253384 and parameters: {'max_depth': 24, 'learning_rate': 0.05042195573974881, 'n_estimators': 652, 'subsample': 0.7747249430658032, 'reg_alpha': 0.011037054547837278, 'reg_lambda': 7.063202676428798}. Best is trial 25 with value: -0.47564511183069663.\n",
            "[I 2025-03-03 20:03:34,847] Trial 41 finished with value: -0.476377136502318 and parameters: {'max_depth': 25, 'learning_rate': 0.04474522055646747, 'n_estimators': 690, 'subsample': 0.7826808778261287, 'reg_alpha': 0.011806248541490986, 'reg_lambda': 7.223772036550413}. Best is trial 25 with value: -0.47564511183069663.\n",
            "[I 2025-03-03 20:04:14,975] Trial 42 finished with value: -0.478154972235281 and parameters: {'max_depth': 25, 'learning_rate': 0.050283992679167715, 'n_estimators': 805, 'subsample': 0.6842921400011901, 'reg_alpha': 0.012606317323881575, 'reg_lambda': 7.106446036761015}. Best is trial 25 with value: -0.47564511183069663.\n",
            "[I 2025-03-03 20:04:47,155] Trial 43 finished with value: -0.47695512318815403 and parameters: {'max_depth': 25, 'learning_rate': 0.06090720949503552, 'n_estimators': 663, 'subsample': 0.8965347664300699, 'reg_alpha': 0.009037844946037425, 'reg_lambda': 12.759791915431965}. Best is trial 25 with value: -0.47564511183069663.\n",
            "[I 2025-03-03 20:04:54,629] Trial 44 finished with value: -0.4770141926482111 and parameters: {'max_depth': 25, 'learning_rate': 0.04842713463626582, 'n_estimators': 639, 'subsample': 0.8872326470009357, 'reg_alpha': 0.008754282729634915, 'reg_lambda': 12.716040769206558}. Best is trial 25 with value: -0.47564511183069663.\n",
            "[I 2025-03-03 20:05:32,294] Trial 45 finished with value: -0.47775972096253794 and parameters: {'max_depth': 25, 'learning_rate': 0.05037337882631768, 'n_estimators': 832, 'subsample': 0.8934918987552609, 'reg_alpha': 0.021298640758807975, 'reg_lambda': 11.882559287975202}. Best is trial 25 with value: -0.47564511183069663.\n",
            "[I 2025-03-03 20:05:51,298] Trial 46 finished with value: -0.4767251280327585 and parameters: {'max_depth': 25, 'learning_rate': 0.056629372705648745, 'n_estimators': 823, 'subsample': 0.8912932667097048, 'reg_alpha': 0.024282286001980742, 'reg_lambda': 7.112006175840495}. Best is trial 25 with value: -0.47564511183069663.\n",
            "[I 2025-03-03 20:06:06,067] Trial 47 finished with value: -0.4762963683986537 and parameters: {'max_depth': 25, 'learning_rate': 0.06030433421084728, 'n_estimators': 785, 'subsample': 0.8933801385207191, 'reg_alpha': 0.008799225715380568, 'reg_lambda': 5.828438448102249}. Best is trial 25 with value: -0.47564511183069663.\n",
            "[I 2025-03-03 20:06:44,957] Trial 48 finished with value: -0.4767969036494053 and parameters: {'max_depth': 25, 'learning_rate': 0.05325070503874036, 'n_estimators': 799, 'subsample': 0.8930801680347801, 'reg_alpha': 0.007885605552143756, 'reg_lambda': 5.9577241345658605}. Best is trial 25 with value: -0.47564511183069663.\n",
            "[I 2025-03-03 20:06:49,272] Trial 49 finished with value: -0.4787363221207756 and parameters: {'max_depth': 25, 'learning_rate': 0.05924260060028882, 'n_estimators': 786, 'subsample': 0.6898823100257636, 'reg_alpha': 0.008563257931948398, 'reg_lambda': 5.9283405216072245}. Best is trial 25 with value: -0.47564511183069663.\n"
          ]
        },
        {
          "name": "stdout",
          "output_type": "stream",
          "text": [
            "Best Parameters: {'max_depth': 23, 'learning_rate': 0.02978460637988067, 'n_estimators': 511, 'subsample': 0.8277800124360013, 'reg_alpha': 0.007013352310423105, 'reg_lambda': 7.656404845762019}\n",
            "MAE: 4540.635318670759\n"
          ]
        }
      ],
      "source": [
        "import optuna\n",
        "import numpy as np\n",
        "from xgboost import XGBRegressor\n",
        "from sklearn.model_selection import cross_val_score\n",
        "from sklearn.metrics import mean_absolute_error\n",
        "\n",
        "# Define objective function for Optuna\n",
        "def objective(trial):\n",
        "    params = {\n",
        "        \"max_depth\": trial.suggest_int(\"max_depth\", 10, 25),\n",
        "        \"learning_rate\": trial.suggest_loguniform(\"learning_rate\", 0.01, 0.3),\n",
        "        \"n_estimators\": trial.suggest_int(\"n_estimators\", 500, 1500),\n",
        "        \"subsample\": trial.suggest_float(\"subsample\", 0.5, 1.0),\n",
        "        \"reg_alpha\": trial.suggest_loguniform(\"reg_alpha\", 0.005, 3.0),\n",
        "        \"reg_lambda\": trial.suggest_loguniform(\"reg_lambda\", 3.0, 15.0),\n",
        "        \"random_state\": 42\n",
        "    }\n",
        "\n",
        "    model = XGBRegressor(objective=\"reg:squarederror\", **params)\n",
        "\n",
        "    # Use cross-validation to evaluate model\n",
        "    scores = cross_val_score(model, X_train, y_train, scoring=\"neg_mean_absolute_error\", cv=5, n_jobs=-1)\n",
        "    return np.mean(scores)\n",
        "\n",
        "# Create study and optimize\n",
        "study = optuna.create_study(direction=\"maximize\")  # We maximize negative MAE (minimizing MAE)\n",
        "study.optimize(objective, n_trials=50, n_jobs=-1)\n",
        "\n",
        "# Train final model with best parameters\n",
        "best_params = study.best_params\n",
        "model_optimized = XGBRegressor(objective=\"reg:squarederror\", **best_params)\n",
        "model_optimized.fit(X_train, y_train)\n",
        "\n",
        "# Make predictions\n",
        "y_pred_optuna = np.expm1(model_optimized.predict(X_val))  # Reverse log transformation\n",
        "\n",
        "# Evaluate model\n",
        "mae = mean_absolute_error(y_val, y_pred_optuna)\n",
        "print(\"Best Parameters:\", best_params)\n",
        "print(\"MAE:\", mae)\n"
      ]
    },
    {
      "cell_type": "code",
      "execution_count": null,
      "metadata": {
        "id": "qzzPK7mMcP8Z"
      },
      "outputs": [
        {
          "name": "stdout",
          "output_type": "stream",
          "text": [
            "Model 4 (XGBoost) Performance:\n",
            "MAE  (Mean Absolute Error): 4540.6353\n",
            "MAPE  (Mean Absolute Percentage Error): 14.2175\n",
            "MSE  (Mean Squared Error): 82438376.6338\n",
            "RMSE (Root Mean Squared Error): 9079.5582\n",
            "R² Score: 0.7271\n"
          ]
        }
      ],
      "source": [
        "# Compute Evaluation Metrics\n",
        "mae = mean_absolute_error(y_val, y_pred_optuna)\n",
        "mse = mean_squared_error(y_val, y_pred_optuna)\n",
        "mape = mean_absolute_percentage_error(y_val, y_pred_optuna)\n",
        "rmse = np.sqrt(mse)\n",
        "r2 = r2_score(y_val, y_pred_optuna)\n",
        "\n",
        "# Print Results\n",
        "print(f\"Model 4 (XGBoost) Performance:\")\n",
        "print(f\"MAE  (Mean Absolute Error): {mae:.4f}\")\n",
        "print(f\"MAPE  (Mean Absolute Percentage Error): {mape:.4f}\")\n",
        "print(f\"MSE  (Mean Squared Error): {mse:.4f}\")\n",
        "print(f\"RMSE (Root Mean Squared Error): {rmse:.4f}\")\n",
        "print(f\"R² Score: {r2:.4f}\")"
      ]
    },
    {
      "cell_type": "markdown",
      "metadata": {
        "id": "ru-LxBzxNHeS"
      },
      "source": [
        "# Comparison"
      ]
    },
    {
      "cell_type": "code",
      "execution_count": null,
      "metadata": {
        "id": "Qu4R-9K9Nr4o"
      },
      "outputs": [
        {
          "name": "stdout",
          "output_type": "stream",
          "text": [
            "61/61 [==============================] - 0s 2ms/step\n"
          ]
        }
      ],
      "source": [
        "# Ensure all models are trained and available\n",
        "y_pred_baseline = np.expm1(np.clip(baseline.predict(X_val_scaled), -50, 50))  # Baseline Model\n",
        "y_pred_baseline_mean = np.full_like(y_val, np.expm1(baseline_mean))\n",
        "y_pred_model_1 = np.expm1(model_1.predict(X_val))  # Decision Tree\n",
        "y_pred_model_2 = np.expm1(model_2.predict(X_val))  # Random Forest\n",
        "y_pred_model_3 = np.expm1(model_3.predict(X_val))  # Gradient Boosting\n",
        "y_pred_model_4 = np.expm1(model_4.predict(X_val))  # XGBoost\n",
        "y_pred_model_5 = np.expm1(model5.predict(X_val_scaled))  # Neural Network\n",
        "y_pred_optuna = np.expm1(model_optimized.predict(X_val))  # Optuna"
      ]
    },
    {
      "cell_type": "code",
      "execution_count": null,
      "metadata": {
        "id": "V3ez-m49N1kk"
      },
      "outputs": [],
      "source": [
        "# Create a dictionary to store model results\n",
        "results = {}\n",
        "\n",
        "# Function to calculate metrics\n",
        "def evaluate_model(name, y_true, y_pred):\n",
        "    results[name] = {\n",
        "        \"MAE\": mean_absolute_error(y_true, y_pred),\n",
        "        \"MSE\": mean_squared_error(y_true, y_pred),\n",
        "        \"RMSE\": np.sqrt(mean_squared_error(y_true, y_pred)),\n",
        "        \"R² Score\": r2_score(y_true, y_pred),\n",
        "        \"MAPE (%)\": mean_absolute_percentage_error(y_true, y_pred) * 100  # Using sklearn's function\n",
        "\n",
        "    }\n",
        "\n",
        "# Evaluate all models\n",
        "evaluate_model(\"Baseline (Linear Regression)\", y_val, y_pred_baseline)\n",
        "evaluate_model(\"Baseline (Mean)\", y_val, y_pred_baseline_mean)\n",
        "evaluate_model(\"Decision Tree\", y_val, y_pred_model_1)\n",
        "evaluate_model(\"Random Forest\", y_val, y_pred_model_2)\n",
        "evaluate_model(\"Gradient Boosting\", y_val, y_pred_model_3)\n",
        "evaluate_model(\"XGBoost\", y_val, y_pred_model_4)\n",
        "evaluate_model(\"Neural Network\", y_val, y_pred_model_5)\n",
        "evaluate_model(\"Optuna XGBoost\", y_val,y_pred_optuna)"
      ]
    },
    {
      "cell_type": "code",
      "execution_count": null,
      "metadata": {
        "id": "nRb_XwCjOXFV"
      },
      "outputs": [
        {
          "data": {
            "text/html": [
              "<div>\n",
              "<style scoped>\n",
              "    .dataframe tbody tr th:only-of-type {\n",
              "        vertical-align: middle;\n",
              "    }\n",
              "\n",
              "    .dataframe tbody tr th {\n",
              "        vertical-align: top;\n",
              "    }\n",
              "\n",
              "    .dataframe thead th {\n",
              "        text-align: right;\n",
              "    }\n",
              "</style>\n",
              "<table border=\"1\" class=\"dataframe\">\n",
              "  <thead>\n",
              "    <tr style=\"text-align: right;\">\n",
              "      <th></th>\n",
              "      <th>MAE</th>\n",
              "      <th>MSE</th>\n",
              "      <th>RMSE</th>\n",
              "      <th>R² Score</th>\n",
              "      <th>MAPE (%)</th>\n",
              "    </tr>\n",
              "  </thead>\n",
              "  <tbody>\n",
              "    <tr>\n",
              "      <th>Baseline (Linear Regression)</th>\n",
              "      <td>9,446.91</td>\n",
              "      <td>252,634,934.95</td>\n",
              "      <td>15,894.49</td>\n",
              "      <td>0.16</td>\n",
              "      <td>1,302.27</td>\n",
              "    </tr>\n",
              "    <tr>\n",
              "      <th>Baseline (Mean)</th>\n",
              "      <td>12,381.10</td>\n",
              "      <td>380,881,926.85</td>\n",
              "      <td>19,516.20</td>\n",
              "      <td>-0.26</td>\n",
              "      <td>1,499.22</td>\n",
              "    </tr>\n",
              "    <tr>\n",
              "      <th>Decision Tree</th>\n",
              "      <td>5,418.03</td>\n",
              "      <td>117,288,980.65</td>\n",
              "      <td>10,830.00</td>\n",
              "      <td>0.61</td>\n",
              "      <td>1,874.61</td>\n",
              "    </tr>\n",
              "    <tr>\n",
              "      <th>Random Forest</th>\n",
              "      <td>7,222.93</td>\n",
              "      <td>186,006,650.40</td>\n",
              "      <td>13,638.43</td>\n",
              "      <td>0.38</td>\n",
              "      <td>1,416.82</td>\n",
              "    </tr>\n",
              "    <tr>\n",
              "      <th>Gradient Boosting</th>\n",
              "      <td>6,920.49</td>\n",
              "      <td>166,494,226.24</td>\n",
              "      <td>12,903.26</td>\n",
              "      <td>0.45</td>\n",
              "      <td>1,379.05</td>\n",
              "    </tr>\n",
              "    <tr>\n",
              "      <th>XGBoost</th>\n",
              "      <td>5,087.18</td>\n",
              "      <td>99,687,621.98</td>\n",
              "      <td>9,984.37</td>\n",
              "      <td>0.67</td>\n",
              "      <td>1,283.89</td>\n",
              "    </tr>\n",
              "    <tr>\n",
              "      <th>Neural Network</th>\n",
              "      <td>6,387.61</td>\n",
              "      <td>129,758,337.12</td>\n",
              "      <td>11,391.15</td>\n",
              "      <td>0.57</td>\n",
              "      <td>1,424.45</td>\n",
              "    </tr>\n",
              "    <tr>\n",
              "      <th>Optuna XGBoost</th>\n",
              "      <td>4,540.64</td>\n",
              "      <td>82,438,376.63</td>\n",
              "      <td>9,079.56</td>\n",
              "      <td>0.73</td>\n",
              "      <td>1,421.75</td>\n",
              "    </tr>\n",
              "  </tbody>\n",
              "</table>\n",
              "</div>"
            ],
            "text/plain": [
              "                                    MAE             MSE       RMSE R² Score  \\\n",
              "Baseline (Linear Regression)   9,446.91  252,634,934.95  15,894.49     0.16   \n",
              "Baseline (Mean)               12,381.10  380,881,926.85  19,516.20    -0.26   \n",
              "Decision Tree                  5,418.03  117,288,980.65  10,830.00     0.61   \n",
              "Random Forest                  7,222.93  186,006,650.40  13,638.43     0.38   \n",
              "Gradient Boosting              6,920.49  166,494,226.24  12,903.26     0.45   \n",
              "XGBoost                        5,087.18   99,687,621.98   9,984.37     0.67   \n",
              "Neural Network                 6,387.61  129,758,337.12  11,391.15     0.57   \n",
              "Optuna XGBoost                 4,540.64   82,438,376.63   9,079.56     0.73   \n",
              "\n",
              "                              MAPE (%)  \n",
              "Baseline (Linear Regression)  1,302.27  \n",
              "Baseline (Mean)               1,499.22  \n",
              "Decision Tree                 1,874.61  \n",
              "Random Forest                 1,416.82  \n",
              "Gradient Boosting             1,379.05  \n",
              "XGBoost                       1,283.89  \n",
              "Neural Network                1,424.45  \n",
              "Optuna XGBoost                1,421.75  "
            ]
          },
          "execution_count": 54,
          "metadata": {},
          "output_type": "execute_result"
        }
      ],
      "source": [
        "# Create a df to showcase the results\n",
        "results_df = pd.DataFrame(results).T\n",
        "\n",
        "# Convert scientific notation to fixed-point format\n",
        "results_df_formatted = results_df.copy()\n",
        "\n",
        "# Format all float columns to remove scientific notation\n",
        "results_df_formatted = results_df_formatted.applymap(lambda x: f\"{x:,.2f}\" if isinstance(x, float) else x)\n",
        "\n",
        "results_df_formatted"
      ]
    },
    {
      "cell_type": "markdown",
      "metadata": {
        "id": "tosX6Dy_S9QE"
      },
      "source": [
        "# Creating a pkl file"
      ]
    },
    {
      "cell_type": "code",
      "execution_count": null,
      "metadata": {
        "id": "oPhk8fi8S--9"
      },
      "outputs": [
        {
          "name": "stdout",
          "output_type": "stream",
          "text": [
            "Best Parameters: {'max_depth': 23, 'learning_rate': 0.02978460637988067, 'n_estimators': 511, 'subsample': 0.8277800124360013, 'reg_alpha': 0.007013352310423105, 'reg_lambda': 7.656404845762019}\n"
          ]
        }
      ],
      "source": [
        "best_params = study.best_params\n",
        "print(\"Best Parameters:\", best_params)"
      ]
    },
    {
      "cell_type": "code",
      "execution_count": null,
      "metadata": {},
      "outputs": [
        {
          "ename": "NameError",
          "evalue": "name 'study' is not defined",
          "output_type": "error",
          "traceback": [
            "\u001b[0;31m---------------------------------------------------------------------------\u001b[0m",
            "\u001b[0;31mNameError\u001b[0m                                 Traceback (most recent call last)",
            "Cell \u001b[0;32mIn[1], line 2\u001b[0m\n\u001b[1;32m      1\u001b[0m \u001b[38;5;66;03m# Train final model with best parameters\u001b[39;00m\n\u001b[0;32m----> 2\u001b[0m best_params \u001b[38;5;241m=\u001b[39m \u001b[43mstudy\u001b[49m\u001b[38;5;241m.\u001b[39mbest_params\n\u001b[1;32m      3\u001b[0m model_optimized \u001b[38;5;241m=\u001b[39m XGBRegressor(objective\u001b[38;5;241m=\u001b[39m\u001b[38;5;124m\"\u001b[39m\u001b[38;5;124mreg:squarederror\u001b[39m\u001b[38;5;124m\"\u001b[39m, \u001b[38;5;241m*\u001b[39m\u001b[38;5;241m*\u001b[39mbest_params)\n\u001b[1;32m      4\u001b[0m model_optimized\u001b[38;5;241m.\u001b[39mfit(X_train, y_train)\n",
            "\u001b[0;31mNameError\u001b[0m: name 'study' is not defined"
          ]
        }
      ],
      "source": [
        "\n",
        "# Train final model with best parameters\n",
        "best_params = study.best_params\n",
        "model_optimized = XGBRegressor(objective=\"reg:squarederror\", **best_params)\n",
        "model_optimized.fit(X_train, y_train)\n",
        "\n",
        "# Save the trained model instead of just parameters\n",
        "joblib.dump(model_optimized, \"model.pkl\")\n",
        "print(\"Trained model saved to model.pkl\")\n"
      ]
    },
    {
      "cell_type": "code",
      "execution_count": null,
      "metadata": {
        "id": "_zvbs9U0UMsJ"
      },
      "outputs": [
        {
          "name": "stdout",
          "output_type": "stream",
          "text": [
            "Best parameters saved to best_params.pkl\n"
          ]
        }
      ],
      "source": [
        "# Save the best parameters\n",
        "with open(\"best_params.pkl\", \"wb\") as f:\n",
        "    pickle.dump(study.best_params, f)\n",
        "\n",
        "print(\"Best parameters saved to best_params.pkl\")\n"
      ]
    },
    {
      "cell_type": "code",
      "execution_count": null,
      "metadata": {},
      "outputs": [
        {
          "name": "stdout",
          "output_type": "stream",
          "text": [
            "Trained model saved successfully to model.pkl\n"
          ]
        }
      ],
      "source": [
        "import pickle\n",
        "import joblib\n",
        "from xgboost import XGBRegressor\n",
        "\n",
        "# Step 1: Load the best hyperparameters from the pickle file\n",
        "with open(\"best_params.pkl\", \"rb\") as f:\n",
        "    best_params = pickle.load(f)\n",
        "\n",
        "# Step 2: Train the model using the loaded hyperparameters\n",
        "model_optimized = XGBRegressor(objective=\"reg:squarederror\", **best_params)\n",
        "\n",
        "# Ensure X_train and y_train are available in your script\n",
        "model_optimized.fit(X_train, y_train)\n",
        "\n",
        "# Step 3: Save the trained model\n",
        "joblib.dump(model_optimized, \"model.pkl\")\n",
        "print(\"Trained model saved successfully to model.pkl\")\n"
      ]
    },
    {
      "cell_type": "code",
      "execution_count": null,
      "metadata": {
        "colab": {
          "base_uri": "https://localhost:8080/"
        },
        "id": "TbM1eaF4im9n",
        "outputId": "592b0bad-a848-4894-d851-1f832491b376"
      },
      "outputs": [
        {
          "data": {
            "text/plain": [
              "Index(['prod_year', 'mileage', 'airbags', 'engine_volume',\n",
              "       'leather_interior_yes', 'fuel_type_lpg', 'Model_Grouped_e 350',\n",
              "       'color_silver', 'color_orange', 'wheel_right-hand drive',\n",
              "       'gear_box_type_tiptronic', 'cylinders', 'fuel_type_hybrid',\n",
              "       'fuel_type_diesel', 'Model_Grouped_sonata', 'color_black',\n",
              "       'category_sedan', 'Model_Grouped_camry', 'drive_wheels_front',\n",
              "       'color_white', 'Model_Grouped_others', 'gear_box_type_manual',\n",
              "       'manufacturer_lexus', 'Model_Grouped_gx 460', 'fuel_type_petrol',\n",
              "       'manufacturer_toyota', 'manufacturer_hyundai', 'Model_Grouped_ml 350',\n",
              "       'turbo', 'category_hatchback', 'color_grey', 'category_jeep',\n",
              "       'drive_wheels_rear', 'manufacturer_mercedes-benz', 'Model_Grouped_fit',\n",
              "       'gear_box_type_variator', 'category_coupe', 'color_blue',\n",
              "       'Model_Grouped_highlander', 'manufacturer_honda',\n",
              "       'Model_Grouped_elantra', 'doors_04-may', 'color_green',\n",
              "       'Model_Grouped_prius', 'manufacturer_mazda', 'manufacturer_opel',\n",
              "       'category_minivan', 'color_red', 'manufacturer_nissan',\n",
              "       'manufacturer_bmw', 'color_carnelian red', 'doors_>5',\n",
              "       'manufacturer_chevrolet', 'manufacturer_ford', 'Model_Grouped_fusion',\n",
              "       'color_brown', 'Model_Grouped_santa fe', 'category_universal',\n",
              "       'category_goods wagon', 'color_sky blue', 'Model_Grouped_h1',\n",
              "       'Model_Grouped_aqua', 'category_microbus', 'manufacturer_kia',\n",
              "       'Model_Grouped_x5', 'manufacturer_audi'],\n",
              "      dtype='object')"
            ]
          },
          "execution_count": 101,
          "metadata": {},
          "output_type": "execute_result"
        }
      ],
      "source": [
        "X_new.columns"
      ]
    },
    {
      "cell_type": "code",
      "execution_count": null,
      "metadata": {
        "id": "EhChdVK3hWIY"
      },
      "outputs": [],
      "source": [
        "def preprocess_data(df, model_features):\n",
        "    \"\"\"\n",
        "    Apply preprocessing steps to the input DataFrame.\n",
        "    Ensure output matches the model's expected features.\n",
        "    \"\"\"\n",
        "    df['turbo'] = df['engine_volume'].str.contains('Turbo', case=False, regex=False).astype(str)\n",
        "\n",
        "    # Lowercase column names\n",
        "    df.columns = df.columns.str.lower()\n",
        "\n",
        "    # Convert Turbo from \"Yes\"/\"No\" to binary (1/0)\n",
        "    df[\"turbo\"] = df[\"turbo\"].apply(lambda x: 1 if x.lower() == \"yes\" else 0)\n",
        "\n",
        "    # Convert Engine volume to cubic cm\n",
        "    df[\"engine_volume\"] = df[\"engine_volume\"] * 1000\n",
        "\n",
        "    # Convert Cylinders to integer\n",
        "    df[\"cylinders\"] = df[\"cylinders\"].astype(int)\n",
        "\n",
        "    # One-hot encoding for categorical variables\n",
        "    categorical_cols = df.select_dtypes(include=[\"object\"]).columns\n",
        "    df = pd.get_dummies(df, columns=categorical_cols, drop_first=True)\n",
        "\n",
        "    # Ensure the order of columns matches the model's expected features\n",
        "    for col in model_features:\n",
        "        if col not in df:\n",
        "            df[col] = 0  # Add missing columns as zero (for unseen categories)\n",
        "\n",
        "    df = df[model_features]  # Reorder to match model input\n",
        "\n",
        "    return df\n",
        "\n",
        "def transform_input_data(data, model_features):\n",
        "    \"\"\"\n",
        "    Convert input dictionary to DataFrame and apply preprocessing.\n",
        "    \"\"\"\n",
        "    df = pd.DataFrame([data])\n",
        "    return preprocess_data(df, model_features)"
      ]
    },
    {
      "cell_type": "code",
      "execution_count": null,
      "metadata": {
        "colab": {
          "base_uri": "https://localhost:8080/",
          "height": 443
        },
        "id": "uvzakN2B10Hq",
        "outputId": "8aa2cf5e-d23e-47e4-be91-789cfa002c0a"
      },
      "outputs": [
        {
          "data": {
            "application/vnd.google.colaboratory.intrinsic+json": {
              "summary": "{\n  \"name\": \"preprocess_data(df,df\",\n  \"rows\": 19237,\n  \"fields\": [\n    {\n      \"column\": \"id\",\n      \"properties\": {\n        \"dtype\": \"number\",\n        \"std\": 936591,\n        \"min\": 20746880,\n        \"max\": 45816654,\n        \"num_unique_values\": 18924,\n        \"samples\": [\n          45770559,\n          45812744,\n          45803306\n        ],\n        \"semantic_type\": \"\",\n        \"description\": \"\"\n      }\n    },\n    {\n      \"column\": \"price\",\n      \"properties\": {\n        \"dtype\": \"number\",\n        \"std\": 190581,\n        \"min\": 1,\n        \"max\": 26307500,\n        \"num_unique_values\": 2315,\n        \"samples\": [\n          31650,\n          10914,\n          9408\n        ],\n        \"semantic_type\": \"\",\n        \"description\": \"\"\n      }\n    },\n    {\n      \"column\": \"levy\",\n      \"properties\": {\n        \"dtype\": \"number\",\n        \"std\": 0,\n        \"min\": 0,\n        \"max\": 0,\n        \"num_unique_values\": 1,\n        \"samples\": [\n          0\n        ],\n        \"semantic_type\": \"\",\n        \"description\": \"\"\n      }\n    },\n    {\n      \"column\": \"manufacturer\",\n      \"properties\": {\n        \"dtype\": \"number\",\n        \"std\": 0,\n        \"min\": 0,\n        \"max\": 0,\n        \"num_unique_values\": 1,\n        \"samples\": [\n          0\n        ],\n        \"semantic_type\": \"\",\n        \"description\": \"\"\n      }\n    },\n    {\n      \"column\": \"model\",\n      \"properties\": {\n        \"dtype\": \"number\",\n        \"std\": 0,\n        \"min\": 0,\n        \"max\": 0,\n        \"num_unique_values\": 1,\n        \"samples\": [\n          0\n        ],\n        \"semantic_type\": \"\",\n        \"description\": \"\"\n      }\n    },\n    {\n      \"column\": \"prod_year\",\n      \"properties\": {\n        \"dtype\": \"number\",\n        \"std\": 5,\n        \"min\": 1939,\n        \"max\": 2020,\n        \"num_unique_values\": 54,\n        \"samples\": [\n          2004\n        ],\n        \"semantic_type\": \"\",\n        \"description\": \"\"\n      }\n    },\n    {\n      \"column\": \"category\",\n      \"properties\": {\n        \"dtype\": \"number\",\n        \"std\": 0,\n        \"min\": 0,\n        \"max\": 0,\n        \"num_unique_values\": 1,\n        \"samples\": [\n          0\n        ],\n        \"semantic_type\": \"\",\n        \"description\": \"\"\n      }\n    },\n    {\n      \"column\": \"leather_interior\",\n      \"properties\": {\n        \"dtype\": \"number\",\n        \"std\": 0,\n        \"min\": 0,\n        \"max\": 0,\n        \"num_unique_values\": 1,\n        \"samples\": [\n          0\n        ],\n        \"semantic_type\": \"\",\n        \"description\": \"\"\n      }\n    },\n    {\n      \"column\": \"fuel_type\",\n      \"properties\": {\n        \"dtype\": \"number\",\n        \"std\": 0,\n        \"min\": 0,\n        \"max\": 0,\n        \"num_unique_values\": 1,\n        \"samples\": [\n          0\n        ],\n        \"semantic_type\": \"\",\n        \"description\": \"\"\n      }\n    },\n    {\n      \"column\": \"engine_volume\",\n      \"properties\": {\n        \"dtype\": \"number\",\n        \"std\": 0,\n        \"min\": 0,\n        \"max\": 0,\n        \"num_unique_values\": 1,\n        \"samples\": [\n          0\n        ],\n        \"semantic_type\": \"\",\n        \"description\": \"\"\n      }\n    },\n    {\n      \"column\": \"mileage\",\n      \"properties\": {\n        \"dtype\": \"number\",\n        \"std\": 0,\n        \"min\": 0,\n        \"max\": 0,\n        \"num_unique_values\": 1,\n        \"samples\": [\n          0\n        ],\n        \"semantic_type\": \"\",\n        \"description\": \"\"\n      }\n    },\n    {\n      \"column\": \"cylinders\",\n      \"properties\": {\n        \"dtype\": \"number\",\n        \"std\": 1,\n        \"min\": 1,\n        \"max\": 16,\n        \"num_unique_values\": 13,\n        \"samples\": [\n          10\n        ],\n        \"semantic_type\": \"\",\n        \"description\": \"\"\n      }\n    },\n    {\n      \"column\": \"gear_box_type\",\n      \"properties\": {\n        \"dtype\": \"number\",\n        \"std\": 0,\n        \"min\": 0,\n        \"max\": 0,\n        \"num_unique_values\": 1,\n        \"samples\": [\n          0\n        ],\n        \"semantic_type\": \"\",\n        \"description\": \"\"\n      }\n    },\n    {\n      \"column\": \"drive_wheels\",\n      \"properties\": {\n        \"dtype\": \"number\",\n        \"std\": 0,\n        \"min\": 0,\n        \"max\": 0,\n        \"num_unique_values\": 1,\n        \"samples\": [\n          0\n        ],\n        \"semantic_type\": \"\",\n        \"description\": \"\"\n      }\n    },\n    {\n      \"column\": \"doors\",\n      \"properties\": {\n        \"dtype\": \"number\",\n        \"std\": 0,\n        \"min\": 0,\n        \"max\": 0,\n        \"num_unique_values\": 1,\n        \"samples\": [\n          0\n        ],\n        \"semantic_type\": \"\",\n        \"description\": \"\"\n      }\n    },\n    {\n      \"column\": \"wheel\",\n      \"properties\": {\n        \"dtype\": \"number\",\n        \"std\": 0,\n        \"min\": 0,\n        \"max\": 0,\n        \"num_unique_values\": 1,\n        \"samples\": [\n          0\n        ],\n        \"semantic_type\": \"\",\n        \"description\": \"\"\n      }\n    },\n    {\n      \"column\": \"color\",\n      \"properties\": {\n        \"dtype\": \"number\",\n        \"std\": 0,\n        \"min\": 0,\n        \"max\": 0,\n        \"num_unique_values\": 1,\n        \"samples\": [\n          0\n        ],\n        \"semantic_type\": \"\",\n        \"description\": \"\"\n      }\n    },\n    {\n      \"column\": \"airbags\",\n      \"properties\": {\n        \"dtype\": \"number\",\n        \"std\": 4,\n        \"min\": 0,\n        \"max\": 16,\n        \"num_unique_values\": 17,\n        \"samples\": [\n          12\n        ],\n        \"semantic_type\": \"\",\n        \"description\": \"\"\n      }\n    },\n    {\n      \"column\": \"turbo\",\n      \"properties\": {\n        \"dtype\": \"number\",\n        \"std\": 0,\n        \"min\": 0,\n        \"max\": 0,\n        \"num_unique_values\": 1,\n        \"samples\": [\n          0\n        ],\n        \"semantic_type\": \"\",\n        \"description\": \"\"\n      }\n    }\n  ]\n}",
              "type": "dataframe"
            },
            "text/html": [
              "\n",
              "  <div id=\"df-88be0ed6-80e0-413c-ad4b-ed4c0d454a21\" class=\"colab-df-container\">\n",
              "    <div>\n",
              "<style scoped>\n",
              "    .dataframe tbody tr th:only-of-type {\n",
              "        vertical-align: middle;\n",
              "    }\n",
              "\n",
              "    .dataframe tbody tr th {\n",
              "        vertical-align: top;\n",
              "    }\n",
              "\n",
              "    .dataframe thead th {\n",
              "        text-align: right;\n",
              "    }\n",
              "</style>\n",
              "<table border=\"1\" class=\"dataframe\">\n",
              "  <thead>\n",
              "    <tr style=\"text-align: right;\">\n",
              "      <th></th>\n",
              "      <th>id</th>\n",
              "      <th>price</th>\n",
              "      <th>levy</th>\n",
              "      <th>manufacturer</th>\n",
              "      <th>model</th>\n",
              "      <th>prod_year</th>\n",
              "      <th>category</th>\n",
              "      <th>leather_interior</th>\n",
              "      <th>fuel_type</th>\n",
              "      <th>engine_volume</th>\n",
              "      <th>mileage</th>\n",
              "      <th>cylinders</th>\n",
              "      <th>gear_box_type</th>\n",
              "      <th>drive_wheels</th>\n",
              "      <th>doors</th>\n",
              "      <th>wheel</th>\n",
              "      <th>color</th>\n",
              "      <th>airbags</th>\n",
              "      <th>turbo</th>\n",
              "    </tr>\n",
              "  </thead>\n",
              "  <tbody>\n",
              "    <tr>\n",
              "      <th>0</th>\n",
              "      <td>45654403</td>\n",
              "      <td>13328</td>\n",
              "      <td>0</td>\n",
              "      <td>0</td>\n",
              "      <td>0</td>\n",
              "      <td>2010</td>\n",
              "      <td>0</td>\n",
              "      <td>0</td>\n",
              "      <td>0</td>\n",
              "      <td>0</td>\n",
              "      <td>0</td>\n",
              "      <td>6</td>\n",
              "      <td>0</td>\n",
              "      <td>0</td>\n",
              "      <td>0</td>\n",
              "      <td>0</td>\n",
              "      <td>0</td>\n",
              "      <td>12</td>\n",
              "      <td>0</td>\n",
              "    </tr>\n",
              "    <tr>\n",
              "      <th>1</th>\n",
              "      <td>44731507</td>\n",
              "      <td>16621</td>\n",
              "      <td>0</td>\n",
              "      <td>0</td>\n",
              "      <td>0</td>\n",
              "      <td>2011</td>\n",
              "      <td>0</td>\n",
              "      <td>0</td>\n",
              "      <td>0</td>\n",
              "      <td>0</td>\n",
              "      <td>0</td>\n",
              "      <td>6</td>\n",
              "      <td>0</td>\n",
              "      <td>0</td>\n",
              "      <td>0</td>\n",
              "      <td>0</td>\n",
              "      <td>0</td>\n",
              "      <td>8</td>\n",
              "      <td>0</td>\n",
              "    </tr>\n",
              "    <tr>\n",
              "      <th>2</th>\n",
              "      <td>45774419</td>\n",
              "      <td>8467</td>\n",
              "      <td>0</td>\n",
              "      <td>0</td>\n",
              "      <td>0</td>\n",
              "      <td>2006</td>\n",
              "      <td>0</td>\n",
              "      <td>0</td>\n",
              "      <td>0</td>\n",
              "      <td>0</td>\n",
              "      <td>0</td>\n",
              "      <td>4</td>\n",
              "      <td>0</td>\n",
              "      <td>0</td>\n",
              "      <td>0</td>\n",
              "      <td>0</td>\n",
              "      <td>0</td>\n",
              "      <td>2</td>\n",
              "      <td>0</td>\n",
              "    </tr>\n",
              "    <tr>\n",
              "      <th>3</th>\n",
              "      <td>45769185</td>\n",
              "      <td>3607</td>\n",
              "      <td>0</td>\n",
              "      <td>0</td>\n",
              "      <td>0</td>\n",
              "      <td>2011</td>\n",
              "      <td>0</td>\n",
              "      <td>0</td>\n",
              "      <td>0</td>\n",
              "      <td>0</td>\n",
              "      <td>0</td>\n",
              "      <td>4</td>\n",
              "      <td>0</td>\n",
              "      <td>0</td>\n",
              "      <td>0</td>\n",
              "      <td>0</td>\n",
              "      <td>0</td>\n",
              "      <td>0</td>\n",
              "      <td>0</td>\n",
              "    </tr>\n",
              "    <tr>\n",
              "      <th>4</th>\n",
              "      <td>45809263</td>\n",
              "      <td>11726</td>\n",
              "      <td>0</td>\n",
              "      <td>0</td>\n",
              "      <td>0</td>\n",
              "      <td>2014</td>\n",
              "      <td>0</td>\n",
              "      <td>0</td>\n",
              "      <td>0</td>\n",
              "      <td>0</td>\n",
              "      <td>0</td>\n",
              "      <td>4</td>\n",
              "      <td>0</td>\n",
              "      <td>0</td>\n",
              "      <td>0</td>\n",
              "      <td>0</td>\n",
              "      <td>0</td>\n",
              "      <td>4</td>\n",
              "      <td>0</td>\n",
              "    </tr>\n",
              "    <tr>\n",
              "      <th>...</th>\n",
              "      <td>...</td>\n",
              "      <td>...</td>\n",
              "      <td>...</td>\n",
              "      <td>...</td>\n",
              "      <td>...</td>\n",
              "      <td>...</td>\n",
              "      <td>...</td>\n",
              "      <td>...</td>\n",
              "      <td>...</td>\n",
              "      <td>...</td>\n",
              "      <td>...</td>\n",
              "      <td>...</td>\n",
              "      <td>...</td>\n",
              "      <td>...</td>\n",
              "      <td>...</td>\n",
              "      <td>...</td>\n",
              "      <td>...</td>\n",
              "      <td>...</td>\n",
              "      <td>...</td>\n",
              "    </tr>\n",
              "    <tr>\n",
              "      <th>19232</th>\n",
              "      <td>45798355</td>\n",
              "      <td>8467</td>\n",
              "      <td>0</td>\n",
              "      <td>0</td>\n",
              "      <td>0</td>\n",
              "      <td>1999</td>\n",
              "      <td>0</td>\n",
              "      <td>0</td>\n",
              "      <td>0</td>\n",
              "      <td>0</td>\n",
              "      <td>0</td>\n",
              "      <td>4</td>\n",
              "      <td>0</td>\n",
              "      <td>0</td>\n",
              "      <td>0</td>\n",
              "      <td>0</td>\n",
              "      <td>0</td>\n",
              "      <td>5</td>\n",
              "      <td>0</td>\n",
              "    </tr>\n",
              "    <tr>\n",
              "      <th>19233</th>\n",
              "      <td>45778856</td>\n",
              "      <td>15681</td>\n",
              "      <td>0</td>\n",
              "      <td>0</td>\n",
              "      <td>0</td>\n",
              "      <td>2011</td>\n",
              "      <td>0</td>\n",
              "      <td>0</td>\n",
              "      <td>0</td>\n",
              "      <td>0</td>\n",
              "      <td>0</td>\n",
              "      <td>4</td>\n",
              "      <td>0</td>\n",
              "      <td>0</td>\n",
              "      <td>0</td>\n",
              "      <td>0</td>\n",
              "      <td>0</td>\n",
              "      <td>8</td>\n",
              "      <td>0</td>\n",
              "    </tr>\n",
              "    <tr>\n",
              "      <th>19234</th>\n",
              "      <td>45804997</td>\n",
              "      <td>26108</td>\n",
              "      <td>0</td>\n",
              "      <td>0</td>\n",
              "      <td>0</td>\n",
              "      <td>2010</td>\n",
              "      <td>0</td>\n",
              "      <td>0</td>\n",
              "      <td>0</td>\n",
              "      <td>0</td>\n",
              "      <td>0</td>\n",
              "      <td>4</td>\n",
              "      <td>0</td>\n",
              "      <td>0</td>\n",
              "      <td>0</td>\n",
              "      <td>0</td>\n",
              "      <td>0</td>\n",
              "      <td>4</td>\n",
              "      <td>0</td>\n",
              "    </tr>\n",
              "    <tr>\n",
              "      <th>19235</th>\n",
              "      <td>45793526</td>\n",
              "      <td>5331</td>\n",
              "      <td>0</td>\n",
              "      <td>0</td>\n",
              "      <td>0</td>\n",
              "      <td>2007</td>\n",
              "      <td>0</td>\n",
              "      <td>0</td>\n",
              "      <td>0</td>\n",
              "      <td>0</td>\n",
              "      <td>0</td>\n",
              "      <td>4</td>\n",
              "      <td>0</td>\n",
              "      <td>0</td>\n",
              "      <td>0</td>\n",
              "      <td>0</td>\n",
              "      <td>0</td>\n",
              "      <td>4</td>\n",
              "      <td>0</td>\n",
              "    </tr>\n",
              "    <tr>\n",
              "      <th>19236</th>\n",
              "      <td>45813273</td>\n",
              "      <td>470</td>\n",
              "      <td>0</td>\n",
              "      <td>0</td>\n",
              "      <td>0</td>\n",
              "      <td>2012</td>\n",
              "      <td>0</td>\n",
              "      <td>0</td>\n",
              "      <td>0</td>\n",
              "      <td>0</td>\n",
              "      <td>0</td>\n",
              "      <td>4</td>\n",
              "      <td>0</td>\n",
              "      <td>0</td>\n",
              "      <td>0</td>\n",
              "      <td>0</td>\n",
              "      <td>0</td>\n",
              "      <td>12</td>\n",
              "      <td>0</td>\n",
              "    </tr>\n",
              "  </tbody>\n",
              "</table>\n",
              "<p>19237 rows × 19 columns</p>\n",
              "</div>\n",
              "    <div class=\"colab-df-buttons\">\n",
              "\n",
              "  <div class=\"colab-df-container\">\n",
              "    <button class=\"colab-df-convert\" onclick=\"convertToInteractive('df-88be0ed6-80e0-413c-ad4b-ed4c0d454a21')\"\n",
              "            title=\"Convert this dataframe to an interactive table.\"\n",
              "            style=\"display:none;\">\n",
              "\n",
              "  <svg xmlns=\"http://www.w3.org/2000/svg\" height=\"24px\" viewBox=\"0 -960 960 960\">\n",
              "    <path d=\"M120-120v-720h720v720H120Zm60-500h600v-160H180v160Zm220 220h160v-160H400v160Zm0 220h160v-160H400v160ZM180-400h160v-160H180v160Zm440 0h160v-160H620v160ZM180-180h160v-160H180v160Zm440 0h160v-160H620v160Z\"/>\n",
              "  </svg>\n",
              "    </button>\n",
              "\n",
              "  <style>\n",
              "    .colab-df-container {\n",
              "      display:flex;\n",
              "      gap: 12px;\n",
              "    }\n",
              "\n",
              "    .colab-df-convert {\n",
              "      background-color: #E8F0FE;\n",
              "      border: none;\n",
              "      border-radius: 50%;\n",
              "      cursor: pointer;\n",
              "      display: none;\n",
              "      fill: #1967D2;\n",
              "      height: 32px;\n",
              "      padding: 0 0 0 0;\n",
              "      width: 32px;\n",
              "    }\n",
              "\n",
              "    .colab-df-convert:hover {\n",
              "      background-color: #E2EBFA;\n",
              "      box-shadow: 0px 1px 2px rgba(60, 64, 67, 0.3), 0px 1px 3px 1px rgba(60, 64, 67, 0.15);\n",
              "      fill: #174EA6;\n",
              "    }\n",
              "\n",
              "    .colab-df-buttons div {\n",
              "      margin-bottom: 4px;\n",
              "    }\n",
              "\n",
              "    [theme=dark] .colab-df-convert {\n",
              "      background-color: #3B4455;\n",
              "      fill: #D2E3FC;\n",
              "    }\n",
              "\n",
              "    [theme=dark] .colab-df-convert:hover {\n",
              "      background-color: #434B5C;\n",
              "      box-shadow: 0px 1px 3px 1px rgba(0, 0, 0, 0.15);\n",
              "      filter: drop-shadow(0px 1px 2px rgba(0, 0, 0, 0.3));\n",
              "      fill: #FFFFFF;\n",
              "    }\n",
              "  </style>\n",
              "\n",
              "    <script>\n",
              "      const buttonEl =\n",
              "        document.querySelector('#df-88be0ed6-80e0-413c-ad4b-ed4c0d454a21 button.colab-df-convert');\n",
              "      buttonEl.style.display =\n",
              "        google.colab.kernel.accessAllowed ? 'block' : 'none';\n",
              "\n",
              "      async function convertToInteractive(key) {\n",
              "        const element = document.querySelector('#df-88be0ed6-80e0-413c-ad4b-ed4c0d454a21');\n",
              "        const dataTable =\n",
              "          await google.colab.kernel.invokeFunction('convertToInteractive',\n",
              "                                                    [key], {});\n",
              "        if (!dataTable) return;\n",
              "\n",
              "        const docLinkHtml = 'Like what you see? Visit the ' +\n",
              "          '<a target=\"_blank\" href=https://colab.research.google.com/notebooks/data_table.ipynb>data table notebook</a>'\n",
              "          + ' to learn more about interactive tables.';\n",
              "        element.innerHTML = '';\n",
              "        dataTable['output_type'] = 'display_data';\n",
              "        await google.colab.output.renderOutput(dataTable, element);\n",
              "        const docLink = document.createElement('div');\n",
              "        docLink.innerHTML = docLinkHtml;\n",
              "        element.appendChild(docLink);\n",
              "      }\n",
              "    </script>\n",
              "  </div>\n",
              "\n",
              "\n",
              "<div id=\"df-1e599d7b-84b5-4202-bcc3-4bb8b16c8b68\">\n",
              "  <button class=\"colab-df-quickchart\" onclick=\"quickchart('df-1e599d7b-84b5-4202-bcc3-4bb8b16c8b68')\"\n",
              "            title=\"Suggest charts\"\n",
              "            style=\"display:none;\">\n",
              "\n",
              "<svg xmlns=\"http://www.w3.org/2000/svg\" height=\"24px\"viewBox=\"0 0 24 24\"\n",
              "     width=\"24px\">\n",
              "    <g>\n",
              "        <path d=\"M19 3H5c-1.1 0-2 .9-2 2v14c0 1.1.9 2 2 2h14c1.1 0 2-.9 2-2V5c0-1.1-.9-2-2-2zM9 17H7v-7h2v7zm4 0h-2V7h2v10zm4 0h-2v-4h2v4z\"/>\n",
              "    </g>\n",
              "</svg>\n",
              "  </button>\n",
              "\n",
              "<style>\n",
              "  .colab-df-quickchart {\n",
              "      --bg-color: #E8F0FE;\n",
              "      --fill-color: #1967D2;\n",
              "      --hover-bg-color: #E2EBFA;\n",
              "      --hover-fill-color: #174EA6;\n",
              "      --disabled-fill-color: #AAA;\n",
              "      --disabled-bg-color: #DDD;\n",
              "  }\n",
              "\n",
              "  [theme=dark] .colab-df-quickchart {\n",
              "      --bg-color: #3B4455;\n",
              "      --fill-color: #D2E3FC;\n",
              "      --hover-bg-color: #434B5C;\n",
              "      --hover-fill-color: #FFFFFF;\n",
              "      --disabled-bg-color: #3B4455;\n",
              "      --disabled-fill-color: #666;\n",
              "  }\n",
              "\n",
              "  .colab-df-quickchart {\n",
              "    background-color: var(--bg-color);\n",
              "    border: none;\n",
              "    border-radius: 50%;\n",
              "    cursor: pointer;\n",
              "    display: none;\n",
              "    fill: var(--fill-color);\n",
              "    height: 32px;\n",
              "    padding: 0;\n",
              "    width: 32px;\n",
              "  }\n",
              "\n",
              "  .colab-df-quickchart:hover {\n",
              "    background-color: var(--hover-bg-color);\n",
              "    box-shadow: 0 1px 2px rgba(60, 64, 67, 0.3), 0 1px 3px 1px rgba(60, 64, 67, 0.15);\n",
              "    fill: var(--button-hover-fill-color);\n",
              "  }\n",
              "\n",
              "  .colab-df-quickchart-complete:disabled,\n",
              "  .colab-df-quickchart-complete:disabled:hover {\n",
              "    background-color: var(--disabled-bg-color);\n",
              "    fill: var(--disabled-fill-color);\n",
              "    box-shadow: none;\n",
              "  }\n",
              "\n",
              "  .colab-df-spinner {\n",
              "    border: 2px solid var(--fill-color);\n",
              "    border-color: transparent;\n",
              "    border-bottom-color: var(--fill-color);\n",
              "    animation:\n",
              "      spin 1s steps(1) infinite;\n",
              "  }\n",
              "\n",
              "  @keyframes spin {\n",
              "    0% {\n",
              "      border-color: transparent;\n",
              "      border-bottom-color: var(--fill-color);\n",
              "      border-left-color: var(--fill-color);\n",
              "    }\n",
              "    20% {\n",
              "      border-color: transparent;\n",
              "      border-left-color: var(--fill-color);\n",
              "      border-top-color: var(--fill-color);\n",
              "    }\n",
              "    30% {\n",
              "      border-color: transparent;\n",
              "      border-left-color: var(--fill-color);\n",
              "      border-top-color: var(--fill-color);\n",
              "      border-right-color: var(--fill-color);\n",
              "    }\n",
              "    40% {\n",
              "      border-color: transparent;\n",
              "      border-right-color: var(--fill-color);\n",
              "      border-top-color: var(--fill-color);\n",
              "    }\n",
              "    60% {\n",
              "      border-color: transparent;\n",
              "      border-right-color: var(--fill-color);\n",
              "    }\n",
              "    80% {\n",
              "      border-color: transparent;\n",
              "      border-right-color: var(--fill-color);\n",
              "      border-bottom-color: var(--fill-color);\n",
              "    }\n",
              "    90% {\n",
              "      border-color: transparent;\n",
              "      border-bottom-color: var(--fill-color);\n",
              "    }\n",
              "  }\n",
              "</style>\n",
              "\n",
              "  <script>\n",
              "    async function quickchart(key) {\n",
              "      const quickchartButtonEl =\n",
              "        document.querySelector('#' + key + ' button');\n",
              "      quickchartButtonEl.disabled = true;  // To prevent multiple clicks.\n",
              "      quickchartButtonEl.classList.add('colab-df-spinner');\n",
              "      try {\n",
              "        const charts = await google.colab.kernel.invokeFunction(\n",
              "            'suggestCharts', [key], {});\n",
              "      } catch (error) {\n",
              "        console.error('Error during call to suggestCharts:', error);\n",
              "      }\n",
              "      quickchartButtonEl.classList.remove('colab-df-spinner');\n",
              "      quickchartButtonEl.classList.add('colab-df-quickchart-complete');\n",
              "    }\n",
              "    (() => {\n",
              "      let quickchartButtonEl =\n",
              "        document.querySelector('#df-1e599d7b-84b5-4202-bcc3-4bb8b16c8b68 button');\n",
              "      quickchartButtonEl.style.display =\n",
              "        google.colab.kernel.accessAllowed ? 'block' : 'none';\n",
              "    })();\n",
              "  </script>\n",
              "</div>\n",
              "\n",
              "    </div>\n",
              "  </div>\n"
            ],
            "text/plain": [
              "             id  price  levy  manufacturer  model  prod_year  category  \\\n",
              "0      45654403  13328     0             0      0       2010         0   \n",
              "1      44731507  16621     0             0      0       2011         0   \n",
              "2      45774419   8467     0             0      0       2006         0   \n",
              "3      45769185   3607     0             0      0       2011         0   \n",
              "4      45809263  11726     0             0      0       2014         0   \n",
              "...         ...    ...   ...           ...    ...        ...       ...   \n",
              "19232  45798355   8467     0             0      0       1999         0   \n",
              "19233  45778856  15681     0             0      0       2011         0   \n",
              "19234  45804997  26108     0             0      0       2010         0   \n",
              "19235  45793526   5331     0             0      0       2007         0   \n",
              "19236  45813273    470     0             0      0       2012         0   \n",
              "\n",
              "       leather_interior  fuel_type  engine_volume  mileage  cylinders  \\\n",
              "0                     0          0              0        0          6   \n",
              "1                     0          0              0        0          6   \n",
              "2                     0          0              0        0          4   \n",
              "3                     0          0              0        0          4   \n",
              "4                     0          0              0        0          4   \n",
              "...                 ...        ...            ...      ...        ...   \n",
              "19232                 0          0              0        0          4   \n",
              "19233                 0          0              0        0          4   \n",
              "19234                 0          0              0        0          4   \n",
              "19235                 0          0              0        0          4   \n",
              "19236                 0          0              0        0          4   \n",
              "\n",
              "       gear_box_type  drive_wheels  doors  wheel  color  airbags  turbo  \n",
              "0                  0             0      0      0      0       12      0  \n",
              "1                  0             0      0      0      0        8      0  \n",
              "2                  0             0      0      0      0        2      0  \n",
              "3                  0             0      0      0      0        0      0  \n",
              "4                  0             0      0      0      0        4      0  \n",
              "...              ...           ...    ...    ...    ...      ...    ...  \n",
              "19232              0             0      0      0      0        5      0  \n",
              "19233              0             0      0      0      0        8      0  \n",
              "19234              0             0      0      0      0        4      0  \n",
              "19235              0             0      0      0      0        4      0  \n",
              "19236              0             0      0      0      0       12      0  \n",
              "\n",
              "[19237 rows x 19 columns]"
            ]
          },
          "execution_count": 117,
          "metadata": {},
          "output_type": "execute_result"
        }
      ],
      "source": [
        "preprocess_data(df,df.columns.tolist())"
      ]
    },
    {
      "cell_type": "code",
      "execution_count": null,
      "metadata": {
        "colab": {
          "base_uri": "https://localhost:8080/"
        },
        "id": "vRNB5d_B13y4",
        "outputId": "1f56d5ab-5c9c-41b4-dc60-4931ae829279"
      },
      "outputs": [
        {
          "name": "stdout",
          "output_type": "stream",
          "text": [
            "['id', 'price', 'levy', 'manufacturer', 'model', 'prod_year', 'category', 'leather_interior', 'fuel_type', 'engine_volume', 'mileage', 'cylinders', 'gear_box_type', 'drive_wheels', 'doors', 'wheel', 'color', 'airbags']\n"
          ]
        }
      ],
      "source": [
        "print(df.columns.tolist())\n"
      ]
    },
    {
      "cell_type": "code",
      "execution_count": 42,
      "metadata": {
        "id": "tfRNHaS63etK"
      },
      "outputs": [
        {
          "name": "stdout",
          "output_type": "stream",
          "text": [
            "✅ Model successfully converted to UBJ format!\n"
          ]
        }
      ],
      "source": [
        "import pickle\n",
        "from xgboost import XGBRegressor\n",
        "\n",
        "# Load Pickle Model\n",
        "with open(\"model.pkl\", \"rb\") as file:\n",
        "    model = pickle.load(file)\n",
        "\n",
        "# Save as UBJ (Compact Binary JSON)\n",
        "model.save_model(\"model.ubj\")\n",
        "\n",
        "print(\"✅ Model successfully converted to UBJ format!\")\n"
      ]
    },
    {
      "cell_type": "code",
      "execution_count": 41,
      "metadata": {},
      "outputs": [],
      "source": [
        "# Save the model as a JSON file\n",
        "model.save_model(\"model.json\")\n"
      ]
    }
  ],
  "metadata": {
    "accelerator": "GPU",
    "colab": {
      "collapsed_sections": [
        "PHovis8rvmBb",
        "EgbUrvE7OtSM",
        "EZuIZoAgvo6g",
        "-JJSkyxzxg7E",
        "wr8fMWGMzxAR",
        "2ZGHWTu1zLAj",
        "F-Gow7oMHpYs",
        "E7jWmrSLHra1",
        "FRPUKSxhIFDi",
        "68ANRCBUdVSx",
        "w3GSctRSRVjj",
        "cSmmTxvDI1Zh",
        "D5R6dMlwOX1-",
        "_lLWNgJfKTZs",
        "heuXGNYbKh_j",
        "zcn3vsZxLuBq",
        "1XJ6o_W9m2YC",
        "f_vk3v5ZpNYR",
        "eyIJNWP8pZ6r",
        "qhKQtiN6cP8Z",
        "ru-LxBzxNHeS"
      ],
      "gpuType": "T4",
      "provenance": []
    },
    "kernelspec": {
      "display_name": "Python 3",
      "name": "python3"
    },
    "language_info": {
      "codemirror_mode": {
        "name": "ipython",
        "version": 3
      },
      "file_extension": ".py",
      "mimetype": "text/x-python",
      "name": "python",
      "nbconvert_exporter": "python",
      "pygments_lexer": "ipython3",
      "version": "3.8.12"
    }
  },
  "nbformat": 4,
  "nbformat_minor": 0
}
